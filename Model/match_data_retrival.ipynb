{
 "cells": [
  {
   "cell_type": "code",
   "execution_count": 6,
   "id": "d5f77a8c",
   "metadata": {},
   "outputs": [],
   "source": [
    "import pandas as pd\n",
    "import numpy as np\n",
    "from numpy import mean\n",
    "from numpy import std\n"
   ]
  },
  {
   "cell_type": "code",
   "execution_count": 7,
   "id": "0193bbc1",
   "metadata": {},
   "outputs": [
    {
     "name": "stdout",
     "output_type": "stream",
     "text": [
      "boosting results\n",
      "0    26018\n",
      "Name: GBDT_label, dtype: int64\n",
      "----------------------------\n",
      "random forest results:\n",
      "0    17685\n",
      "2     2746\n",
      "1     2743\n",
      "4     2720\n",
      "3      124\n",
      "Name: rf_label, dtype: int64\n",
      "\n"
     ]
    }
   ],
   "source": [
    "data = pd.read_csv('nw_classification_results.csv')\n",
    "data.head(20)\n",
    "print('boosting results')\n",
    "print(data['GBDT_label'].value_counts())\n",
    "\n",
    "print(\"----------------------------\")\n",
    "print('random forest results:')\n",
    "print(data['rf_label'].value_counts())\n",
    "print()"
   ]
  },
  {
   "cell_type": "code",
   "execution_count": 8,
   "id": "2e59b920",
   "metadata": {},
   "outputs": [],
   "source": [
    "rf_matched = data[data['rf_probs']>0.7]\n",
    "\n",
    "rf_matched = rf_matched.drop(columns = ['GBDT_label',\n",
    "                          'GBDT_probs'])\n"
   ]
  },
  {
   "cell_type": "code",
   "execution_count": 9,
   "id": "367cce56",
   "metadata": {},
   "outputs": [],
   "source": [
    "rf_matched.to_csv(r'rf_matched.csv',index = False)"
   ]
  },
  {
   "cell_type": "code",
   "execution_count": 10,
   "id": "3d8a04c0",
   "metadata": {},
   "outputs": [
    {
     "name": "stdout",
     "output_type": "stream",
     "text": [
      "<class 'pandas.core.frame.DataFrame'>\n",
      "RangeIndex: 18038 entries, 0 to 18037\n",
      "Data columns (total 15 columns):\n",
      " #   Column                    Non-Null Count  Dtype  \n",
      "---  ------                    --------------  -----  \n",
      " 0   shop_index                18038 non-null  int64  \n",
      " 1   manage_shop_indicator     18038 non-null  float64\n",
      " 2   officialstore_indicator   18038 non-null  float64\n",
      " 3   preferred_shop_indicator  18038 non-null  float64\n",
      " 4   crossborder_indicator     18038 non-null  float64\n",
      " 5   shop_category             18038 non-null  float64\n",
      " 6   new_seller_flag           18038 non-null  float64\n",
      " 7   seller_centre_login_L30D  18038 non-null  float64\n",
      " 8   shop_sku_number           18038 non-null  float64\n",
      " 9   shop_follower_number      18038 non-null  float64\n",
      " 10  shop_L180D_order          18038 non-null  float64\n",
      " 11  weighted_shop_rating      18038 non-null  float64\n",
      " 12  rf_label                  18038 non-null  int64  \n",
      " 13  rf_probs                  18038 non-null  float64\n",
      " 14  shopindex                 18038 non-null  int64  \n",
      "dtypes: float64(12), int64(3)\n",
      "memory usage: 2.1 MB\n"
     ]
    },
    {
     "data": {
      "text/plain": [
       "0    16321\n",
       "1     1315\n",
       "2      219\n",
       "4      180\n",
       "3        3\n",
       "Name: rf_label, dtype: int64"
      ]
     },
     "execution_count": 10,
     "metadata": {},
     "output_type": "execute_result"
    }
   ],
   "source": [
    "d = pd.read_csv('rf_matched.csv')\n",
    "d.info()\n",
    "d['rf_label'].value_counts()"
   ]
  },
  {
   "cell_type": "code",
   "execution_count": 35,
   "id": "76d480dc",
   "metadata": {},
   "outputs": [
    {
     "name": "stdout",
     "output_type": "stream",
     "text": [
      "randome forest results:   \n",
      "0    16423\n",
      "1     1522\n",
      "2      204\n",
      "4      122\n",
      "3        3\n",
      "Name: rf_label, dtype: int64\n"
     ]
    },
    {
     "data": {
      "text/plain": [
       "count    26018.000000\n",
       "mean         0.791798\n",
       "std          0.193351\n",
       "min          0.240000\n",
       "25%          0.630000\n",
       "50%          0.890000\n",
       "75%          0.940000\n",
       "max          1.000000\n",
       "Name: rf_probs, dtype: float64"
      ]
     },
     "execution_count": 35,
     "metadata": {},
     "output_type": "execute_result"
    }
   ],
   "source": [
    "print('randome forest results:   ')\n",
    "print(d['rf_label'].value_counts())\n",
    "# data['rf_probs'].describe()"
   ]
  },
  {
   "cell_type": "code",
   "execution_count": 51,
   "id": "f1c30ad2",
   "metadata": {},
   "outputs": [
    {
     "name": "stdout",
     "output_type": "stream",
     "text": [
      "0    26018\n",
      "Name: GBDT_label, dtype: int64\n"
     ]
    }
   ],
   "source": [
    "boosting_match = data[data['GBDT_label']>0.5]\n",
    "# print(len(boosting_match))\n",
    "print(data['GBDT_label'].value_counts())"
   ]
  },
  {
   "cell_type": "code",
   "execution_count": 37,
   "id": "cb57dfb9",
   "metadata": {},
   "outputs": [],
   "source": [
    "import pandas as pd\n",
    "import matplotlib.pyplot as plt\n",
    "import seaborn as sns\n",
    "import itertools"
   ]
  },
  {
   "cell_type": "code",
   "execution_count": 41,
   "id": "c6cfb3f9",
   "metadata": {},
   "outputs": [
    {
     "name": "stdout",
     "output_type": "stream",
     "text": [
      "random forest prob distribution\n",
      "count    26018.000000\n",
      "mean         0.791798\n",
      "std          0.193351\n",
      "min          0.240000\n",
      "25%          0.630000\n",
      "50%          0.890000\n",
      "75%          0.940000\n",
      "max          1.000000\n",
      "Name: rf_probs, dtype: float64\n",
      "--------------------------------------\n",
      "GBDT prob Distribution\n",
      "count    26018.000000\n",
      "mean         0.793826\n",
      "std          0.007867\n",
      "min          0.791087\n",
      "25%          0.791087\n",
      "50%          0.791087\n",
      "75%          0.791087\n",
      "max          0.920237\n",
      "Name: GBDT_probs, dtype: float64\n"
     ]
    }
   ],
   "source": [
    "print('random forest prob distribution')\n",
    "print(data['rf_probs'].describe())\n",
    "print('--------------------------------------')\n",
    "print('GBDT prob Distribution')\n",
    "print(data['GBDT_probs'].describe())"
   ]
  },
  {
   "cell_type": "code",
   "execution_count": 50,
   "id": "47845eee",
   "metadata": {},
   "outputs": [
    {
     "name": "stdout",
     "output_type": "stream",
     "text": [
      "<class 'pandas.core.frame.DataFrame'>\n",
      "RangeIndex: 18274 entries, 0 to 18273\n",
      "Data columns (total 13 columns):\n",
      " #   Column                    Non-Null Count  Dtype  \n",
      "---  ------                    --------------  -----  \n",
      " 0   manage_shop_indicator     18274 non-null  float64\n",
      " 1   officialstore_indicator   18274 non-null  float64\n",
      " 2   preferred_shop_indicator  18274 non-null  float64\n",
      " 3   crossborder_indicator     18274 non-null  float64\n",
      " 4   shop_category             18274 non-null  float64\n",
      " 5   new_seller_flag           18274 non-null  float64\n",
      " 6   seller_centre_login_L30D  18274 non-null  float64\n",
      " 7   shop_sku_number           18274 non-null  float64\n",
      " 8   shop_follower_number      18274 non-null  float64\n",
      " 9   shop_L180D_order          18274 non-null  float64\n",
      " 10  weighted_shop_rating      18274 non-null  float64\n",
      " 11  rf_label                  18274 non-null  int64  \n",
      " 12  rf_probs                  18274 non-null  float64\n",
      "dtypes: float64(12), int64(1)\n",
      "memory usage: 1.8 MB\n",
      "0    16423\n",
      "1     1522\n",
      "2      204\n",
      "4      122\n",
      "3        3\n",
      "Name: rf_label, dtype: int64\n"
     ]
    }
   ],
   "source": [
    "match = pd.read_csv('rf_matched.csv')\n",
    "match.info()\n",
    "print(match['rf_label'].value_counts())"
   ]
  },
  {
   "cell_type": "code",
   "execution_count": null,
   "id": "3d89f464",
   "metadata": {},
   "outputs": [],
   "source": []
  }
 ],
 "metadata": {
  "kernelspec": {
   "display_name": "Python 3",
   "language": "python",
   "name": "python3"
  },
  "language_info": {
   "codemirror_mode": {
    "name": "ipython",
    "version": 3
   },
   "file_extension": ".py",
   "mimetype": "text/x-python",
   "name": "python",
   "nbconvert_exporter": "python",
   "pygments_lexer": "ipython3",
   "version": "3.8.8"
  }
 },
 "nbformat": 4,
 "nbformat_minor": 5
}
