{
 "cells": [
  {
   "cell_type": "code",
   "execution_count": 43,
   "id": "c4398934",
   "metadata": {},
   "outputs": [],
   "source": [
    "import numpy as np\n",
    "import pandas as pd\n",
    "from sklearn.model_selection import train_test_split\n",
    "from sklearn.tree import DecisionTreeClassifier, export_graphviz\n",
    "# 导入评估指标模块\n",
    "from sklearn.metrics import accuracy_score, auc, confusion_matrix, f1_score, precision_score, recall_score, roc_curve\n",
    "# 导入表格库\n",
    "import prettytable\n",
    "# 导入dot插件库\n",
    "import pydotplus\n",
    "import matplotlib.pyplot as plt\n",
    "import seaborn as sns\n",
    "%matplotlib inline\n"
   ]
  },
  {
   "cell_type": "code",
   "execution_count": 44,
   "id": "61013fe1",
   "metadata": {},
   "outputs": [
    {
     "data": {
      "text/plain": [
       "(536, 17)"
      ]
     },
     "execution_count": 44,
     "metadata": {},
     "output_type": "execute_result"
    }
   ],
   "source": [
    "labelled_data = pd.read_csv('labelled_whitelist_shop2.csv')\n",
    "labelled_data.shape\n",
    "# labelled_data['kmeans_label']"
   ]
  },
  {
   "cell_type": "code",
   "execution_count": 45,
   "id": "db5bedbc",
   "metadata": {},
   "outputs": [
    {
     "name": "stdout",
     "output_type": "stream",
     "text": [
      "<class 'pandas.core.frame.DataFrame'>\n",
      "RangeIndex: 536 entries, 0 to 535\n",
      "Data columns (total 17 columns):\n",
      " #   Column                         Non-Null Count  Dtype  \n",
      "---  ------                         --------------  -----  \n",
      " 0   manage_shop_indicator          536 non-null    float64\n",
      " 1   officialstore_indicator        536 non-null    float64\n",
      " 2   preferred_shop_indicator       536 non-null    float64\n",
      " 3   crossborder_indicator          536 non-null    float64\n",
      " 4   shop_category                  536 non-null    float64\n",
      " 5   new_seller_flag                536 non-null    float64\n",
      " 6   seller_centre_login_L30D       536 non-null    float64\n",
      " 7   shop_sku_number                536 non-null    float64\n",
      " 8   shop_follower_number           536 non-null    float64\n",
      " 9   shop_L180D_order               536 non-null    float64\n",
      " 10  weighted_shop_rating           536 non-null    float64\n",
      " 11  kmeans.labels                  536 non-null    int64  \n",
      " 12  agglomerative.average.labels   536 non-null    int64  \n",
      " 13  agglomerative.complete.labels  536 non-null    int64  \n",
      " 14  agglomerative.single.labels    536 non-null    int64  \n",
      " 15  agglomerative.ward.labels      536 non-null    int64  \n",
      " 16  meanshift.labels               536 non-null    int64  \n",
      "dtypes: float64(11), int64(6)\n",
      "memory usage: 71.3 KB\n",
      "0    493\n",
      "4     27\n",
      "2     10\n",
      "1      4\n",
      "3      2\n",
      "Name: kmeans.labels, dtype: int64\n",
      "1    244\n",
      "0    185\n",
      "2     48\n",
      "4     34\n",
      "3     25\n",
      "Name: agglomerative.average.labels, dtype: int64\n",
      "2    203\n",
      "0    199\n",
      "1     72\n",
      "4     41\n",
      "3     21\n",
      "Name: agglomerative.complete.labels, dtype: int64\n",
      "0     478\n",
      "1      21\n",
      "2       5\n",
      "6       4\n",
      "3       4\n",
      "5       3\n",
      "4       3\n",
      "7       2\n",
      "23      1\n",
      "17      1\n",
      "19      1\n",
      "14      1\n",
      "18      1\n",
      "10      1\n",
      "15      1\n",
      "16      1\n",
      "13      1\n",
      "12      1\n",
      "9       1\n",
      "8       1\n",
      "21      1\n",
      "20      1\n",
      "11      1\n",
      "22      1\n",
      "Name: meanshift.labels, dtype: int64\n"
     ]
    }
   ],
   "source": [
    "labelled_data.info()\n",
    "# labelled_data.tail(20)\n",
    "print(labelled_data['kmeans.labels'].value_counts())\n",
    "print(labelled_data['agglomerative.average.labels'].value_counts())\n",
    "print(labelled_data['agglomerative.complete.labels'].value_counts())\n",
    "print(labelled_data['meanshift.labels'].value_counts())"
   ]
  },
  {
   "cell_type": "code",
   "execution_count": 109,
   "id": "5197755e",
   "metadata": {},
   "outputs": [
    {
     "name": "stdout",
     "output_type": "stream",
     "text": [
      "<class 'pandas.core.frame.DataFrame'>\n",
      "Int64Index: 26018 entries, 119700 to 1486953315\n",
      "Data columns (total 11 columns):\n",
      " #   Column                    Non-Null Count  Dtype  \n",
      "---  ------                    --------------  -----  \n",
      " 0   manage_shop_indicator     26018 non-null  float64\n",
      " 1   officialstore_indicator   26018 non-null  float64\n",
      " 2   preferred_shop_indicator  26018 non-null  float64\n",
      " 3   crossborder_indicator     26018 non-null  float64\n",
      " 4   shop_category             26018 non-null  float64\n",
      " 5   new_seller_flag           26018 non-null  float64\n",
      " 6   seller_centre_login_L30D  26018 non-null  float64\n",
      " 7   shop_sku_number           26018 non-null  float64\n",
      " 8   shop_follower_number      26018 non-null  float64\n",
      " 9   shop_L180D_order          26018 non-null  float64\n",
      " 10  weighted_shop_rating      26018 non-null  float64\n",
      "dtypes: float64(11)\n",
      "memory usage: 2.4 MB\n"
     ]
    }
   ],
   "source": [
    "#process non-whitelist data\n",
    "non_whitelist = pd.read_csv('non_whitelist_filled.csv')\n",
    "nw_data = non_whitelist.groupby(\"shop_index\").mean()\n",
    "nw_data = nw_data.drop(columns=['decorated_indicator','Unnamed: 0','performance_date','masked_item_impression','masked_order','masked_shop_page_view','masked_shop_click_from_search','masked_campaign_tab_click','masked_other_tab_click'])\n",
    "nw_data.head(20)\n",
    "nw_data.info()"
   ]
  },
  {
   "cell_type": "code",
   "execution_count": 110,
   "id": "faf3ea87",
   "metadata": {},
   "outputs": [],
   "source": [
    "# agglomerative.average.labels \n",
    "#define x,y\n",
    "x = labelled_data.iloc[:,:11]\n",
    "y = labelled_data.iloc[:,-5]\n",
    "#get train/test data\n",
    "x_train, x_test, y_train, y_test = train_test_split(x, y, test_size=0.3, random_state=2018)\n"
   ]
  },
  {
   "cell_type": "code",
   "execution_count": 116,
   "id": "2bc13fe3",
   "metadata": {},
   "outputs": [
    {
     "name": "stdout",
     "output_type": "stream",
     "text": [
      "DTC classifier:  0.8757763975155279\n"
     ]
    },
    {
     "data": {
      "text/plain": [
       "array([[1., 0., 0., 0., 0.],\n",
       "       [1., 0., 0., 0., 0.],\n",
       "       [0., 1., 0., 0., 0.],\n",
       "       [1., 0., 0., 0., 0.],\n",
       "       [1., 0., 0., 0., 0.],\n",
       "       [1., 0., 0., 0., 0.],\n",
       "       [0., 1., 0., 0., 0.],\n",
       "       [1., 0., 0., 0., 0.],\n",
       "       [0., 1., 0., 0., 0.],\n",
       "       [1., 0., 0., 0., 0.],\n",
       "       [1., 0., 0., 0., 0.],\n",
       "       [1., 0., 0., 0., 0.],\n",
       "       [1., 0., 0., 0., 0.],\n",
       "       [1., 0., 0., 0., 0.],\n",
       "       [1., 0., 0., 0., 0.],\n",
       "       [1., 0., 0., 0., 0.],\n",
       "       [1., 0., 0., 0., 0.],\n",
       "       [1., 0., 0., 0., 0.],\n",
       "       [1., 0., 0., 0., 0.],\n",
       "       [1., 0., 0., 0., 0.]])"
      ]
     },
     "execution_count": 116,
     "metadata": {},
     "output_type": "execute_result"
    }
   ],
   "source": [
    "#Decision Tree Classifier\n",
    "#model training\n",
    "dt_model = DecisionTreeClassifier(random_state=2018)\n",
    "dt_model.fit(x_train, y_train)\n",
    "\n",
    "#test the model with test dataset\n",
    "pre_y = dt_model.predict(x_test)\n",
    "accuracy_s = accuracy_score(y_test, pre_y)\n",
    "print(\"DTC classifier: \",accuracy_s)\n",
    "y_score = dt_model.predict_proba(x_test)\n",
    "\n",
    "y_score\n",
    "\n",
    "#prediction on non-whitelist data\n",
    "prediction1 = dt_model.predict(nw_data)\n",
    "prediction1\n",
    "prob1 = dt_model.predict_proba(nw_data)\n",
    "prob1[0:20]"
   ]
  },
  {
   "cell_type": "code",
   "execution_count": 117,
   "id": "059c6ff1",
   "metadata": {},
   "outputs": [
    {
     "data": {
      "text/plain": [
       "0.8757763975155279"
      ]
     },
     "execution_count": 117,
     "metadata": {},
     "output_type": "execute_result"
    }
   ],
   "source": [
    "#test accuracy\n",
    "accuracy_s"
   ]
  },
  {
   "cell_type": "code",
   "execution_count": 118,
   "id": "34f40855",
   "metadata": {},
   "outputs": [
    {
     "data": {
      "text/plain": [
       "1.0"
      ]
     },
     "execution_count": 118,
     "metadata": {},
     "output_type": "execute_result"
    }
   ],
   "source": [
    "# training accuracy\n",
    "pre_y_train = dt_model.predict(x_train)\n",
    "accuracy_a = accuracy_score(y_train, pre_y_train)\n",
    "accuracy_a"
   ]
  },
  {
   "cell_type": "code",
   "execution_count": 143,
   "id": "4c78675a",
   "metadata": {},
   "outputs": [
    {
     "name": "stdout",
     "output_type": "stream",
     "text": [
      "[0 0 0 0 0 0 0 0 0 0 0 0 0 0 0 0 0 0 0 0]\n",
      "[[0.44 0.31 0.09 0.15 0.01]\n",
      " [0.44 0.31 0.09 0.15 0.01]\n",
      " [0.44 0.31 0.09 0.15 0.01]\n",
      " [0.44 0.31 0.09 0.15 0.01]\n",
      " [0.44 0.31 0.09 0.15 0.01]\n",
      " [0.44 0.31 0.09 0.15 0.01]\n",
      " [0.44 0.31 0.09 0.15 0.01]\n",
      " [0.39 0.34 0.09 0.17 0.01]\n",
      " [0.44 0.31 0.09 0.15 0.01]\n",
      " [0.43 0.31 0.09 0.16 0.01]\n",
      " [0.44 0.31 0.09 0.15 0.01]\n",
      " [0.51 0.32 0.   0.16 0.01]\n",
      " [0.44 0.31 0.09 0.15 0.01]\n",
      " [0.44 0.31 0.09 0.15 0.01]\n",
      " [0.51 0.32 0.   0.16 0.01]\n",
      " [0.44 0.31 0.09 0.15 0.01]\n",
      " [0.44 0.31 0.09 0.15 0.01]\n",
      " [0.44 0.31 0.09 0.15 0.01]\n",
      " [0.44 0.31 0.09 0.15 0.01]\n",
      " [0.44 0.31 0.09 0.15 0.01]]\n",
      "unmatched num:  0\n"
     ]
    }
   ],
   "source": [
    "#random forest(currently good)\n",
    "from sklearn.ensemble import RandomForestClassifier\n",
    "# Create the model with 100 trees\n",
    "rf_model = RandomForestClassifier(n_estimators=100, bootstrap = True, max_features = 'sqrt')\n",
    "\n",
    "# Fit on training data\n",
    "rf_model.fit(x_train, y_train)\n",
    "\n",
    "# Actual class predictions\n",
    "rf_predictions = rf_model.predict(x_test)\n",
    "\n",
    "# Probabilities for each class\n",
    "rf_probs =rf_model.predict_proba(x_test)[:, 1]\n",
    "# rf_probs\n",
    "rf_predictions\n",
    "\n",
    "#prediction on non_whitelist data\n",
    "predictions = rf_model.predict(nw_data)\n",
    "print(predictions[20:40])\n",
    "proba = rf_model.predict_proba(nw_data)\n",
    "print(proba[20:40])\n",
    "proba = list(proba)\n",
    "count = 0\n",
    "# for i in proba:\n",
    "#     if max(i)<0.7:\n",
    "#         count += 1\n",
    "print(\"unmatched num: \",count)"
   ]
  },
  {
   "cell_type": "code",
   "execution_count": 144,
   "id": "4848e39d",
   "metadata": {},
   "outputs": [
    {
     "name": "stdout",
     "output_type": "stream",
     "text": [
      "1.0\n",
      "0.8385093167701864\n"
     ]
    }
   ],
   "source": [
    "# training accuracy \n",
    "ta_predictions = rf_model.predict(x_train)\n",
    "train2 = accuracy_score(y_train,ta_predictions)\n",
    "print(train2)\n",
    "\n",
    "# test accuracy \n",
    "test2=accuracy_score(y_test,rf_predictions)\n",
    "print(test2)\n"
   ]
  },
  {
   "cell_type": "code",
   "execution_count": 121,
   "id": "e0f38419",
   "metadata": {},
   "outputs": [
    {
     "name": "stdout",
     "output_type": "stream",
     "text": [
      "0\n"
     ]
    }
   ],
   "source": [
    "#GradientBoostingClassifier\n",
    "import pandas as pd\n",
    "import numpy as np\n",
    "from sklearn.ensemble import GradientBoostingClassifier\n",
    "from sklearn.metrics import roc_curve,auc\n",
    "from sklearn import metrics\n",
    "from sklearn.model_selection import GridSearchCV \n",
    "from sklearn.preprocessing import LabelEncoder\n",
    "from sklearn.preprocessing import StandardScaler\n",
    "\n",
    "#data\n",
    "x = labelled_data.iloc[:,:11]\n",
    "y = labelled_data.iloc[:,-5]\n",
    "x_train, x_test, y_train, y_test = train_test_split(x, y,random_state=0,train_size=0.7)\n",
    "ss_x = StandardScaler()\n",
    "ss_y = StandardScaler()\n",
    "x_train = ss_x.fit_transform(x_train)\n",
    "x_test = ss_x.transform(x_test)\n",
    "\n",
    "#model training\n",
    "model_GBDT = GradientBoostingClassifier(random_state=10)\n",
    "model_GBDT.fit(x_train,y_train)\n",
    "y_pred = model_GBDT.predict(x_train)\n",
    "y_predprob = model_GBDT.predict_proba(x_train)[:,1]\n",
    "\n",
    "#predict on non whitelist data\n",
    "model_GBDT.predict(nw_data.head(20))\n",
    "prob_GBDT = model_GBDT.predict_proba(nw_data)\n",
    "prob_GBDT\n",
    "count_GBDT = 0\n",
    "for i in range(len(prob_GBDT)):\n",
    "    if np.max(prob_GBDT[i])<0.8:\n",
    "        count_GBDT += 1\n",
    "print(count_GBDT)\n",
    "#     print(np.max(prob_GBDT[i]))"
   ]
  },
  {
   "cell_type": "code",
   "execution_count": 122,
   "id": "ff50eed4",
   "metadata": {},
   "outputs": [
    {
     "name": "stdout",
     "output_type": "stream",
     "text": [
      "1.0\n",
      "0.8633540372670807\n"
     ]
    }
   ],
   "source": [
    "# training accuracy \n",
    "train3 = accuracy_score(y_train,y_pred)\n",
    "print(train3)\n",
    "\n",
    "# testing accuracy \n",
    "y_pred3= model_GBDT.predict(x_test)\n",
    "test3 = accuracy_score(y_test,y_pred3)\n",
    "print(test3)\n",
    "\n"
   ]
  },
  {
   "cell_type": "code",
   "execution_count": 54,
   "id": "3f130510",
   "metadata": {},
   "outputs": [
    {
     "data": {
      "text/plain": [
       "array([[7.88124443e-01, 1.99317783e-01, 1.45378123e-03, 1.04200096e-02,\n",
       "        6.83983100e-04],\n",
       "       [7.91038688e-01, 2.00054799e-01, 1.45915687e-03, 6.76084330e-03,\n",
       "        6.86512261e-04],\n",
       "       [7.88124443e-01, 1.99317783e-01, 1.45378123e-03, 1.04200096e-02,\n",
       "        6.83983100e-04],\n",
       "       ...,\n",
       "       [7.88124443e-01, 1.99317783e-01, 1.45378123e-03, 1.04200096e-02,\n",
       "        6.83983100e-04],\n",
       "       [7.88124443e-01, 1.99317783e-01, 1.45378123e-03, 1.04200096e-02,\n",
       "        6.83983100e-04],\n",
       "       [7.96500121e-01, 1.94531875e-01, 1.46923108e-03, 6.80752103e-03,\n",
       "        6.91252030e-04]])"
      ]
     },
     "execution_count": 54,
     "metadata": {},
     "output_type": "execute_result"
    }
   ],
   "source": [
    "prob_GBDT"
   ]
  },
  {
   "cell_type": "code",
   "execution_count": null,
   "id": "83e1ee9d",
   "metadata": {},
   "outputs": [],
   "source": []
  },
  {
   "cell_type": "code",
   "execution_count": 9,
   "id": "a4f08bd5",
   "metadata": {},
   "outputs": [],
   "source": [
    "#XGBoost (----------------to be edited, 还是报错)\n",
    "import numpy as np\n",
    "import pandas as pd \n",
    "import xgboost as xgb\n",
    "import matplotlib.pyplot as plt\n",
    "plt.style.use(\"ggplot\")\n",
    "%matplotlib inline"
   ]
  },
  {
   "cell_type": "code",
   "execution_count": 10,
   "id": "57e5499a",
   "metadata": {},
   "outputs": [],
   "source": [
    "x = labelled_data.iloc[:,:-4]\n",
    "y = labelled_data.iloc[:,-4]\n",
    "X_train, X_test, y_train, y_test = train_test_split(x, y,random_state=0,train_size=0.7)"
   ]
  },
  {
   "cell_type": "code",
   "execution_count": 104,
   "id": "14ae8e61",
   "metadata": {},
   "outputs": [],
   "source": [
    "# params = {\n",
    "#     'booster': 'gbtree',\n",
    "#     'objective': 'multi:softmax',\n",
    "#     'num_class': 3,\n",
    "#     'gamma': 0.1,\n",
    "#     'max_depth': 6,\n",
    "#     'lambda': 2,\n",
    "#     'subsample': 0.7,\n",
    "#     'colsample_bytree': 0.75,\n",
    "#     'min_child_weight': 3,\n",
    "#     'eta': 0.1,\n",
    "#     'seed': 1,\n",
    "#     'nthread': 4,\n",
    "# }\n",
    "\n",
    "# plst = list(params.items())\n",
    "\n",
    "# dtrain = xgb.DMatrix(X_train, y_train) # 生成数据集格式\n",
    "# num_rounds = 500\n",
    "# model = xgb.train(plst, dtrain, num_rounds) # xgboost模型训练\n",
    "\n",
    "# # 对测试集进行预测\n",
    "# dtest = xgb.DMatrix(X_test)\n",
    "# y_pred = model.predict(dtest)\n",
    "\n",
    "# # 计算准确率\n",
    "# accuracy = accuracy_score(y_test,y_pred)\n",
    "# print(\"accuarcy: %.2f%%\" % (accuracy*100.0))\n",
    "\n",
    "# # 显示重要特征\n",
    "# plot_importance(model)\n",
    "# plt.show()"
   ]
  },
  {
   "cell_type": "code",
   "execution_count": 12,
   "id": "bea4dd8d",
   "metadata": {},
   "outputs": [],
   "source": [
    "# agglomerative.complete.labels \n",
    "#define x,y\n",
    "x1 = labelled_data.iloc[:,:11]\n",
    "y1 = labelled_data.iloc[:,-4]\n",
    "#get train/test data\n",
    "x1_train, x1_test, y1_train, y1_test = train_test_split(x1, y1, test_size=0.3, random_state=2018)\n",
    "\n",
    "\n",
    "\n"
   ]
  },
  {
   "cell_type": "code",
   "execution_count": 13,
   "id": "c95818de",
   "metadata": {},
   "outputs": [
    {
     "data": {
      "text/plain": [
       "array([[1., 0., 0., 0., 0.],\n",
       "       [1., 0., 0., 0., 0.],\n",
       "       [1., 0., 0., 0., 0.],\n",
       "       [1., 0., 0., 0., 0.],\n",
       "       [1., 0., 0., 0., 0.],\n",
       "       [1., 0., 0., 0., 0.],\n",
       "       [1., 0., 0., 0., 0.],\n",
       "       [1., 0., 0., 0., 0.],\n",
       "       [0., 0., 1., 0., 0.],\n",
       "       [1., 0., 0., 0., 0.],\n",
       "       [1., 0., 0., 0., 0.],\n",
       "       [1., 0., 0., 0., 0.],\n",
       "       [0., 1., 0., 0., 0.],\n",
       "       [1., 0., 0., 0., 0.],\n",
       "       [1., 0., 0., 0., 0.],\n",
       "       [1., 0., 0., 0., 0.],\n",
       "       [1., 0., 0., 0., 0.],\n",
       "       [1., 0., 0., 0., 0.],\n",
       "       [1., 0., 0., 0., 0.],\n",
       "       [0., 1., 0., 0., 0.]])"
      ]
     },
     "execution_count": 13,
     "metadata": {},
     "output_type": "execute_result"
    }
   ],
   "source": [
    "#Decision Tree Classifier\n",
    "#model training\n",
    "dt_model1 = DecisionTreeClassifier(random_state=2018)\n",
    "dt_model1.fit(x1_train, y1_train)\n",
    "#test the model with test dataset\n",
    "pre_y1 = dt_model1.predict(x1_test)\n",
    "accuracy_s1 = accuracy_score(y1_test, pre_y1)\n",
    "accuracy_s1\n",
    "y1_score = dt_model1.predict_proba(x1_test)\n",
    "y1_score\n",
    "\n",
    "#prediction on non-whitelist data\n",
    "prediction1 = dt_model1.predict(nw_data)\n",
    "prediction1\n",
    "prob1 = dt_model1.predict_proba(nw_data)\n",
    "prob1[0:20]"
   ]
  },
  {
   "cell_type": "code",
   "execution_count": 14,
   "id": "9976afaf",
   "metadata": {},
   "outputs": [
    {
     "name": "stdout",
     "output_type": "stream",
     "text": [
      "[0 0 0 2 0 1 0 0 0 2 1 0 0 0 0 0 0 0 0 0]\n",
      "[[0.92 0.06 0.01 0.   0.01]\n",
      " [0.84 0.1  0.06 0.   0.  ]\n",
      " [0.84 0.12 0.03 0.01 0.  ]\n",
      " [0.26 0.19 0.41 0.12 0.02]\n",
      " [0.87 0.07 0.04 0.   0.02]\n",
      " [0.37 0.57 0.03 0.   0.03]\n",
      " [0.79 0.12 0.09 0.   0.  ]\n",
      " [0.78 0.04 0.14 0.02 0.02]\n",
      " [0.81 0.12 0.06 0.   0.01]\n",
      " [0.2  0.02 0.74 0.04 0.  ]\n",
      " [0.28 0.7  0.   0.   0.02]\n",
      " [0.87 0.1  0.03 0.   0.  ]\n",
      " [0.84 0.12 0.03 0.01 0.  ]\n",
      " [0.9  0.09 0.01 0.   0.  ]\n",
      " [0.82 0.11 0.06 0.   0.01]\n",
      " [0.84 0.12 0.03 0.01 0.  ]\n",
      " [0.74 0.2  0.04 0.02 0.  ]\n",
      " [0.91 0.03 0.04 0.02 0.  ]\n",
      " [0.85 0.13 0.   0.01 0.01]\n",
      " [0.9  0.08 0.02 0.   0.  ]]\n",
      "unmatched num:  9499\n"
     ]
    }
   ],
   "source": [
    "#random forest(currently good)\n",
    "from sklearn.ensemble import RandomForestClassifier\n",
    "# Create the model with 100 trees\n",
    "rf_model1 = RandomForestClassifier(n_estimators=100, \n",
    "                               bootstrap = True,\n",
    "                               max_features = 'sqrt')\n",
    "# Fit on training data\n",
    "rf_model1.fit(x1_train, y1_train)\n",
    "\n",
    "# Actual class predictions\n",
    "rf_predictions1 = rf_model1.predict(x1_test)\n",
    "\n",
    "# Probabilities for each class\n",
    "rf_probs1 =rf_model1.predict_proba(x1_test)[:, 1]\n",
    "# rf_probs\n",
    "rf_predictions\n",
    "\n",
    "#prediction on non_whitelist data\n",
    "predictions1 = rf_model1.predict(nw_data)\n",
    "print(predictions1[20:40])\n",
    "proba1 = rf_model1.predict_proba(nw_data)\n",
    "print(proba1[20:40])\n",
    "proba1 = list(proba1)\n",
    "count1 = 0\n",
    "for i in proba1:\n",
    "    if max(i)<0.7:\n",
    "        count1 += 1\n",
    "print(\"unmatched num: \",count1)"
   ]
  },
  {
   "cell_type": "code",
   "execution_count": 15,
   "id": "285c0178",
   "metadata": {},
   "outputs": [
    {
     "ename": "ValueError",
     "evalue": "Number of features of the model must match the input. Model n_features is 13 and input n_features is 11 ",
     "output_type": "error",
     "traceback": [
      "\u001b[1;31m---------------------------------------------------------------------------\u001b[0m",
      "\u001b[1;31mValueError\u001b[0m                                Traceback (most recent call last)",
      "\u001b[1;32m<ipython-input-15-e1ca4cc0ea57>\u001b[0m in \u001b[0;36m<module>\u001b[1;34m\u001b[0m\n\u001b[0;32m     14\u001b[0m \u001b[1;33m\u001b[0m\u001b[0m\n\u001b[0;32m     15\u001b[0m \u001b[1;31m#predict on non whitelist data\u001b[0m\u001b[1;33m\u001b[0m\u001b[1;33m\u001b[0m\u001b[1;33m\u001b[0m\u001b[0m\n\u001b[1;32m---> 16\u001b[1;33m \u001b[0mmodel_GBDT\u001b[0m\u001b[1;33m.\u001b[0m\u001b[0mpredict\u001b[0m\u001b[1;33m(\u001b[0m\u001b[0mnw_data\u001b[0m\u001b[1;33m.\u001b[0m\u001b[0mhead\u001b[0m\u001b[1;33m(\u001b[0m\u001b[1;36m20\u001b[0m\u001b[1;33m)\u001b[0m\u001b[1;33m)\u001b[0m\u001b[1;33m\u001b[0m\u001b[1;33m\u001b[0m\u001b[0m\n\u001b[0m\u001b[0;32m     17\u001b[0m \u001b[0mprob_GBDT\u001b[0m \u001b[1;33m=\u001b[0m \u001b[0mmodel_GBDT\u001b[0m\u001b[1;33m.\u001b[0m\u001b[0mpredict_proba\u001b[0m\u001b[1;33m(\u001b[0m\u001b[0mnw_data\u001b[0m\u001b[1;33m)\u001b[0m\u001b[1;33m\u001b[0m\u001b[1;33m\u001b[0m\u001b[0m\n\u001b[0;32m     18\u001b[0m \u001b[0mprob_GBDT\u001b[0m\u001b[1;33m\u001b[0m\u001b[1;33m\u001b[0m\u001b[0m\n",
      "\u001b[1;32m~\\AppData\\Roaming\\Python\\Python37\\site-packages\\sklearn\\ensemble\\_gb.py\u001b[0m in \u001b[0;36mpredict\u001b[1;34m(self, X)\u001b[0m\n\u001b[0;32m   2163\u001b[0m             \u001b[0mThe\u001b[0m \u001b[0mpredicted\u001b[0m \u001b[0mvalues\u001b[0m\u001b[1;33m.\u001b[0m\u001b[1;33m\u001b[0m\u001b[1;33m\u001b[0m\u001b[0m\n\u001b[0;32m   2164\u001b[0m         \"\"\"\n\u001b[1;32m-> 2165\u001b[1;33m         \u001b[0mraw_predictions\u001b[0m \u001b[1;33m=\u001b[0m \u001b[0mself\u001b[0m\u001b[1;33m.\u001b[0m\u001b[0mdecision_function\u001b[0m\u001b[1;33m(\u001b[0m\u001b[0mX\u001b[0m\u001b[1;33m)\u001b[0m\u001b[1;33m\u001b[0m\u001b[1;33m\u001b[0m\u001b[0m\n\u001b[0m\u001b[0;32m   2166\u001b[0m         \u001b[0mencoded_labels\u001b[0m \u001b[1;33m=\u001b[0m\u001b[0;31m \u001b[0m\u001b[0;31m\\\u001b[0m\u001b[1;33m\u001b[0m\u001b[1;33m\u001b[0m\u001b[0m\n\u001b[0;32m   2167\u001b[0m             \u001b[0mself\u001b[0m\u001b[1;33m.\u001b[0m\u001b[0mloss_\u001b[0m\u001b[1;33m.\u001b[0m\u001b[0m_raw_prediction_to_decision\u001b[0m\u001b[1;33m(\u001b[0m\u001b[0mraw_predictions\u001b[0m\u001b[1;33m)\u001b[0m\u001b[1;33m\u001b[0m\u001b[1;33m\u001b[0m\u001b[0m\n",
      "\u001b[1;32m~\\AppData\\Roaming\\Python\\Python37\\site-packages\\sklearn\\ensemble\\_gb.py\u001b[0m in \u001b[0;36mdecision_function\u001b[1;34m(self, X)\u001b[0m\n\u001b[0;32m   2119\u001b[0m         \"\"\"\n\u001b[0;32m   2120\u001b[0m         \u001b[0mX\u001b[0m \u001b[1;33m=\u001b[0m \u001b[0mcheck_array\u001b[0m\u001b[1;33m(\u001b[0m\u001b[0mX\u001b[0m\u001b[1;33m,\u001b[0m \u001b[0mdtype\u001b[0m\u001b[1;33m=\u001b[0m\u001b[0mDTYPE\u001b[0m\u001b[1;33m,\u001b[0m \u001b[0morder\u001b[0m\u001b[1;33m=\u001b[0m\u001b[1;34m\"C\"\u001b[0m\u001b[1;33m,\u001b[0m \u001b[0maccept_sparse\u001b[0m\u001b[1;33m=\u001b[0m\u001b[1;34m'csr'\u001b[0m\u001b[1;33m)\u001b[0m\u001b[1;33m\u001b[0m\u001b[1;33m\u001b[0m\u001b[0m\n\u001b[1;32m-> 2121\u001b[1;33m         \u001b[0mraw_predictions\u001b[0m \u001b[1;33m=\u001b[0m \u001b[0mself\u001b[0m\u001b[1;33m.\u001b[0m\u001b[0m_raw_predict\u001b[0m\u001b[1;33m(\u001b[0m\u001b[0mX\u001b[0m\u001b[1;33m)\u001b[0m\u001b[1;33m\u001b[0m\u001b[1;33m\u001b[0m\u001b[0m\n\u001b[0m\u001b[0;32m   2122\u001b[0m         \u001b[1;32mif\u001b[0m \u001b[0mraw_predictions\u001b[0m\u001b[1;33m.\u001b[0m\u001b[0mshape\u001b[0m\u001b[1;33m[\u001b[0m\u001b[1;36m1\u001b[0m\u001b[1;33m]\u001b[0m \u001b[1;33m==\u001b[0m \u001b[1;36m1\u001b[0m\u001b[1;33m:\u001b[0m\u001b[1;33m\u001b[0m\u001b[1;33m\u001b[0m\u001b[0m\n\u001b[0;32m   2123\u001b[0m             \u001b[1;32mreturn\u001b[0m \u001b[0mraw_predictions\u001b[0m\u001b[1;33m.\u001b[0m\u001b[0mravel\u001b[0m\u001b[1;33m(\u001b[0m\u001b[1;33m)\u001b[0m\u001b[1;33m\u001b[0m\u001b[1;33m\u001b[0m\u001b[0m\n",
      "\u001b[1;32m~\\AppData\\Roaming\\Python\\Python37\\site-packages\\sklearn\\ensemble\\_gb.py\u001b[0m in \u001b[0;36m_raw_predict\u001b[1;34m(self, X)\u001b[0m\n\u001b[0;32m   1653\u001b[0m     \u001b[1;32mdef\u001b[0m \u001b[0m_raw_predict\u001b[0m\u001b[1;33m(\u001b[0m\u001b[0mself\u001b[0m\u001b[1;33m,\u001b[0m \u001b[0mX\u001b[0m\u001b[1;33m)\u001b[0m\u001b[1;33m:\u001b[0m\u001b[1;33m\u001b[0m\u001b[1;33m\u001b[0m\u001b[0m\n\u001b[0;32m   1654\u001b[0m         \u001b[1;34m\"\"\"Return the sum of the trees raw predictions (+ init estimator).\"\"\"\u001b[0m\u001b[1;33m\u001b[0m\u001b[1;33m\u001b[0m\u001b[0m\n\u001b[1;32m-> 1655\u001b[1;33m         \u001b[0mraw_predictions\u001b[0m \u001b[1;33m=\u001b[0m \u001b[0mself\u001b[0m\u001b[1;33m.\u001b[0m\u001b[0m_raw_predict_init\u001b[0m\u001b[1;33m(\u001b[0m\u001b[0mX\u001b[0m\u001b[1;33m)\u001b[0m\u001b[1;33m\u001b[0m\u001b[1;33m\u001b[0m\u001b[0m\n\u001b[0m\u001b[0;32m   1656\u001b[0m         predict_stages(self.estimators_, X, self.learning_rate,\n\u001b[0;32m   1657\u001b[0m                        raw_predictions)\n",
      "\u001b[1;32m~\\AppData\\Roaming\\Python\\Python37\\site-packages\\sklearn\\ensemble\\_gb.py\u001b[0m in \u001b[0;36m_raw_predict_init\u001b[1;34m(self, X)\u001b[0m\n\u001b[0;32m   1639\u001b[0m         \u001b[1;34m\"\"\"Check input and compute raw predictions of the init estimator.\"\"\"\u001b[0m\u001b[1;33m\u001b[0m\u001b[1;33m\u001b[0m\u001b[0m\n\u001b[0;32m   1640\u001b[0m         \u001b[0mself\u001b[0m\u001b[1;33m.\u001b[0m\u001b[0m_check_initialized\u001b[0m\u001b[1;33m(\u001b[0m\u001b[1;33m)\u001b[0m\u001b[1;33m\u001b[0m\u001b[1;33m\u001b[0m\u001b[0m\n\u001b[1;32m-> 1641\u001b[1;33m         \u001b[0mX\u001b[0m \u001b[1;33m=\u001b[0m \u001b[0mself\u001b[0m\u001b[1;33m.\u001b[0m\u001b[0mestimators_\u001b[0m\u001b[1;33m[\u001b[0m\u001b[1;36m0\u001b[0m\u001b[1;33m,\u001b[0m \u001b[1;36m0\u001b[0m\u001b[1;33m]\u001b[0m\u001b[1;33m.\u001b[0m\u001b[0m_validate_X_predict\u001b[0m\u001b[1;33m(\u001b[0m\u001b[0mX\u001b[0m\u001b[1;33m,\u001b[0m \u001b[0mcheck_input\u001b[0m\u001b[1;33m=\u001b[0m\u001b[1;32mTrue\u001b[0m\u001b[1;33m)\u001b[0m\u001b[1;33m\u001b[0m\u001b[1;33m\u001b[0m\u001b[0m\n\u001b[0m\u001b[0;32m   1642\u001b[0m         \u001b[1;32mif\u001b[0m \u001b[0mX\u001b[0m\u001b[1;33m.\u001b[0m\u001b[0mshape\u001b[0m\u001b[1;33m[\u001b[0m\u001b[1;36m1\u001b[0m\u001b[1;33m]\u001b[0m \u001b[1;33m!=\u001b[0m \u001b[0mself\u001b[0m\u001b[1;33m.\u001b[0m\u001b[0mn_features_\u001b[0m\u001b[1;33m:\u001b[0m\u001b[1;33m\u001b[0m\u001b[1;33m\u001b[0m\u001b[0m\n\u001b[0;32m   1643\u001b[0m             raise ValueError(\"X.shape[1] should be {0:d}, not {1:d}.\".format(\n",
      "\u001b[1;32m~\\AppData\\Roaming\\Python\\Python37\\site-packages\\sklearn\\tree\\_classes.py\u001b[0m in \u001b[0;36m_validate_X_predict\u001b[1;34m(self, X, check_input)\u001b[0m\n\u001b[0;32m    389\u001b[0m                              \u001b[1;34m\"match the input. Model n_features is %s and \"\u001b[0m\u001b[1;33m\u001b[0m\u001b[1;33m\u001b[0m\u001b[0m\n\u001b[0;32m    390\u001b[0m                              \u001b[1;34m\"input n_features is %s \"\u001b[0m\u001b[1;33m\u001b[0m\u001b[1;33m\u001b[0m\u001b[0m\n\u001b[1;32m--> 391\u001b[1;33m                              % (self.n_features_, n_features))\n\u001b[0m\u001b[0;32m    392\u001b[0m \u001b[1;33m\u001b[0m\u001b[0m\n\u001b[0;32m    393\u001b[0m         \u001b[1;32mreturn\u001b[0m \u001b[0mX\u001b[0m\u001b[1;33m\u001b[0m\u001b[1;33m\u001b[0m\u001b[0m\n",
      "\u001b[1;31mValueError\u001b[0m: Number of features of the model must match the input. Model n_features is 13 and input n_features is 11 "
     ]
    }
   ],
   "source": [
    "x1 = labelled_data.iloc[:,:11]\n",
    "y1 = labelled_data.iloc[:,-4]\n",
    "x_train, x_test, y_train, y_test = train_test_split(x, y,random_state=0,train_size=0.7)\n",
    "ss_x = StandardScaler()\n",
    "ss_y = StandardScaler()\n",
    "x_train = ss_x.fit_transform(x_train)\n",
    "x_test = ss_x.transform(x_test)\n",
    "\n",
    "#model training\n",
    "model_GBDT = GradientBoostingClassifier(random_state=10)\n",
    "model_GBDT.fit(x_train,y_train)\n",
    "y_pred = model_GBDT.predict(x_train)\n",
    "y_predprob = model_GBDT.predict_proba(x_train)[:,1]\n",
    "\n",
    "#predict on non whitelist data\n",
    "model_GBDT.predict(nw_data.head(20))\n",
    "prob_GBDT = model_GBDT.predict_proba(nw_data)\n",
    "prob_GBDT\n",
    "count_GBDT = 0\n",
    "for i in range(len(prob_GBDT)):\n",
    "    if np.max(prob_GBDT[i])>0.9:\n",
    "        count_GBDT += 1\n",
    "print(count_GBDT)\n",
    "#     print(np.max(prob_GBDT[i]))"
   ]
  },
  {
   "cell_type": "code",
   "execution_count": null,
   "id": "056964c4",
   "metadata": {},
   "outputs": [],
   "source": []
  },
  {
   "cell_type": "code",
   "execution_count": null,
   "id": "498125d0",
   "metadata": {},
   "outputs": [],
   "source": []
  }
 ],
 "metadata": {
  "kernelspec": {
   "display_name": "Python 3",
   "language": "python",
   "name": "python3"
  },
  "language_info": {
   "codemirror_mode": {
    "name": "ipython",
    "version": 3
   },
   "file_extension": ".py",
   "mimetype": "text/x-python",
   "name": "python",
   "nbconvert_exporter": "python",
   "pygments_lexer": "ipython3",
   "version": "3.8.8"
  }
 },
 "nbformat": 4,
 "nbformat_minor": 5
}
