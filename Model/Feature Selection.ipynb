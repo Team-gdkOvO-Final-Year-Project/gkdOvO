{
 "cells": [
  {
   "cell_type": "code",
   "execution_count": 3,
   "id": "794b236c",
   "metadata": {},
   "outputs": [],
   "source": [
    "## Time Series Prediction \n",
    "# 1,3,5,7,9,12,14\n",
    "# 2,4,6,8,10,11,13\n",
    "\n",
    "## load data\n",
    "data = pd.read_csv(\"unmatch_shops.csv\")\n",
    "agg=data.groupby(['performance_date']).agg({'masked_order': 'sum'}).reset_index()\n",
    "## split the dataset into two cycles \n",
    "df1=data.loc[data['performance_date'].isin([1,3,5,7,9,12,14])]\n",
    "df2=data.loc[data['performance_date'].isin([2,4,6,8,10,11,13])]"
   ]
  },
  {
   "cell_type": "code",
   "execution_count": 6,
   "id": "f4d31db3",
   "metadata": {},
   "outputs": [],
   "source": [
    "df1 = df1.replace({'performance_date': 1}, 1)\n",
    "df1 = df1.replace({'performance_date': 3}, 2)\n",
    "df1 = df1.replace({'performance_date': 5}, 3)\n",
    "df1 = df1.replace({'performance_date': 7}, 4)\n",
    "df1 = df1.replace({'performance_date': 9}, 5)\n",
    "df1 = df1.replace({'performance_date': 12}, 6)\n",
    "df1 = df1.replace({'performance_date': 14}, 7)"
   ]
  },
  {
   "cell_type": "code",
   "execution_count": 8,
   "id": "d9c053ad",
   "metadata": {},
   "outputs": [],
   "source": [
    "df2 = df1.replace({'performance_date': 2}, 1)\n",
    "df2 = df1.replace({'performance_date': 4}, 2)\n",
    "df2 = df1.replace({'performance_date': 6}, 3)\n",
    "df2 = df1.replace({'performance_date': 8}, 4)\n",
    "df2 = df1.replace({'performance_date': 10}, 5)\n",
    "df2 = df1.replace({'performance_date': 11}, 6)\n",
    "df2 = df1.replace({'performance_date': 13}, 7)"
   ]
  },
  {
   "cell_type": "code",
   "execution_count": 10,
   "id": "9769a211",
   "metadata": {},
   "outputs": [],
   "source": [
    "df1.to_csv('train.csv')\n",
    "df2.to_csv('test.csv')\n",
    "train= pd.read_csv(\"train.csv\")\n",
    "test= pd.read_csv(\"test.csv\")\n"
   ]
  },
  {
   "cell_type": "code",
   "execution_count": 117,
   "id": "03387332",
   "metadata": {},
   "outputs": [],
   "source": [
    "from sklearn.datasets import make_regression\n",
    "from sklearn.model_selection import train_test_split\n",
    "from sklearn.feature_selection import SelectKBest\n",
    "from sklearn.feature_selection import f_regression\n",
    "from matplotlib import pyplot\n",
    "import numpy as np \n",
    "import pandas as pd \n",
    "import matplotlib.pyplot as plt\n",
    "import seaborn as sns\n",
    "sns.set(style=\"darkgrid\")\n",
    " \n",
    "# feature selection\n",
    "def select_features(X_train, y_train, X_test):\n",
    "    # configure to select all features\n",
    "\tfs = SelectKBest(score_func=f_regression, k='all')\n",
    "\t# learn relationship from training data\n",
    "\tfs.fit(X_train, y_train)\n",
    "\t# transform train input data\n",
    "\tX_train_fs = fs.transform(X_train)\n",
    "\t# transform test input data\n",
    "\tX_test_fs = fs.transform(X_test)\n",
    "\treturn X_train_fs, X_test_fs, fs\n",
    " \n"
   ]
  },
  {
   "cell_type": "code",
   "execution_count": 1,
   "id": "24f9d4ee",
   "metadata": {},
   "outputs": [],
   "source": [
    "import numpy as np \n",
    "import pandas as pd \n",
    "import matplotlib.pyplot as plt\n",
    "import seaborn as sns\n",
    "sns.set(style=\"darkgrid\")\n",
    "\n",
    "# load the dataset\n",
    "data = pd.read_csv(\"unmatch_shops.csv\")\n",
    "data = data.drop('Unnamed: 0', 1)\n",
    "data = data.drop('shop_index', 1)\n",
    "data = data.drop('decorated_indicator', 1)\n",
    "data = data.drop('masked_campaign_tab_click', 1)\n",
    "\n"
   ]
  },
  {
   "cell_type": "code",
   "execution_count": 2,
   "id": "f8d39824",
   "metadata": {},
   "outputs": [],
   "source": [
    "## Threhold prediction \n",
    "import numpy as np \n",
    "import pandas as pd \n",
    "import matplotlib.pyplot as plt\n",
    "import seaborn as sns\n",
    "sns.set(style=\"darkgrid\")\n",
    "X = data.drop(\"masked_order\",1)\n",
    "y = data[\"masked_order\"]\n"
   ]
  },
  {
   "cell_type": "code",
   "execution_count": 3,
   "id": "b4a02a76",
   "metadata": {},
   "outputs": [
    {
     "name": "stdout",
     "output_type": "stream",
     "text": [
      "                            Specs          Score\n",
      "12         masked_item_impression  192094.743032\n",
      "15         masked_other_tab_click   17161.243434\n",
      "9                shop_L180D_order    7017.785715\n",
      "8            shop_follower_number    4716.130794\n",
      "14  masked_shop_click_from_search     141.479360\n"
     ]
    }
   ],
   "source": [
    "#get unmatched shop features\n",
    "from sklearn.feature_selection import SelectKBest\n",
    "from sklearn.feature_selection import f_regression\n",
    "\n",
    "#apply SelectKBest class to extract top Our 5 best features\n",
    "bestfeatures = SelectKBest(score_func=f_regression, k=4)\n",
    "fit = bestfeatures.fit(X,y)\n",
    "dfscores = pd.DataFrame(fit.scores_)\n",
    "dfcolumns = pd.DataFrame(X.columns)\n",
    "#concat two dataframes for better visualization \n",
    "featureScores = pd.concat([dfcolumns,dfscores],axis=1)\n",
    "featureScores.columns = ['Specs','Score']  #naming the dataframe columns\n",
    "print(featureScores.nlargest(5,'Score'))  #print 5 best features"
   ]
  },
  {
   "cell_type": "code",
   "execution_count": 4,
   "id": "55f66e48",
   "metadata": {},
   "outputs": [
    {
     "name": "stdout",
     "output_type": "stream",
     "text": [
      "                            Specs        Score\n",
      "14  masked_shop_click_from_search  2683.201382\n",
      "15         masked_other_tab_click  1834.249525\n",
      "12         masked_item_impression   589.313547\n",
      "8            shop_follower_number   500.935029\n",
      "9                shop_L180D_order   413.186404\n"
     ]
    }
   ],
   "source": [
    "#get features of whitelist shops\n",
    "w_df = pd.read_csv('whitelist_filled_latest.csv')\n",
    "\n",
    "w_df = w_df.drop('Unnamed: 0', 1)\n",
    "w_df = w_df.drop('shop_index', 1)\n",
    "w_df = w_df.drop('decorated_indicator', 1)\n",
    "w_df = w_df.drop('masked_campaign_tab_click',1)\n",
    "w_x = w_df.drop(\"masked_order\",1)\n",
    "w_y = w_df[\"masked_order\"]\n",
    "\n",
    "#apply SelectKBest class to extract top 6 best features\n",
    "bestfeatures = SelectKBest(score_func=f_regression, k=5)\n",
    "fit = bestfeatures.fit(w_x,w_y)\n",
    "dfscores = pd.DataFrame(fit.scores_)\n",
    "dfcolumns = pd.DataFrame(w_x.columns)\n",
    "#concat two dataframes for better visualization \n",
    "featureScores = pd.concat([dfcolumns,dfscores],axis=1)\n",
    "featureScores.columns = ['Specs','Score']  #naming the dataframe columns\n",
    "print(featureScores.nlargest(5,'Score'))  #print 6 best features"
   ]
  },
  {
   "cell_type": "code",
   "execution_count": 5,
   "id": "8a36129d",
   "metadata": {},
   "outputs": [
    {
     "data": {
      "text/html": [
       "<div>\n",
       "<style scoped>\n",
       "    .dataframe tbody tr th:only-of-type {\n",
       "        vertical-align: middle;\n",
       "    }\n",
       "\n",
       "    .dataframe tbody tr th {\n",
       "        vertical-align: top;\n",
       "    }\n",
       "\n",
       "    .dataframe thead th {\n",
       "        text-align: right;\n",
       "    }\n",
       "</style>\n",
       "<table border=\"1\" class=\"dataframe\">\n",
       "  <thead>\n",
       "    <tr style=\"text-align: right;\">\n",
       "      <th></th>\n",
       "      <th>Specs</th>\n",
       "      <th>Score</th>\n",
       "    </tr>\n",
       "  </thead>\n",
       "  <tbody>\n",
       "    <tr>\n",
       "      <th>14</th>\n",
       "      <td>masked_shop_click_from_search</td>\n",
       "      <td>0.445649</td>\n",
       "    </tr>\n",
       "    <tr>\n",
       "      <th>15</th>\n",
       "      <td>masked_other_tab_click</td>\n",
       "      <td>0.304648</td>\n",
       "    </tr>\n",
       "    <tr>\n",
       "      <th>12</th>\n",
       "      <td>masked_item_impression</td>\n",
       "      <td>0.097878</td>\n",
       "    </tr>\n",
       "    <tr>\n",
       "      <th>8</th>\n",
       "      <td>shop_follower_number</td>\n",
       "      <td>0.083200</td>\n",
       "    </tr>\n",
       "    <tr>\n",
       "      <th>9</th>\n",
       "      <td>shop_L180D_order</td>\n",
       "      <td>0.068626</td>\n",
       "    </tr>\n",
       "  </tbody>\n",
       "</table>\n",
       "</div>"
      ],
      "text/plain": [
       "                            Specs     Score\n",
       "14  masked_shop_click_from_search  0.445649\n",
       "15         masked_other_tab_click  0.304648\n",
       "12         masked_item_impression  0.097878\n",
       "8            shop_follower_number  0.083200\n",
       "9                shop_L180D_order  0.068626"
      ]
     },
     "execution_count": 5,
     "metadata": {},
     "output_type": "execute_result"
    }
   ],
   "source": [
    "#calculate the coefficient \n",
    "feature = featureScores.nlargest(5,'Score')\n",
    "feature['Score'] = feature['Score']/(feature['Score'].sum())\n",
    "feature"
   ]
  },
  {
   "cell_type": "code",
   "execution_count": 6,
   "id": "16751e53",
   "metadata": {},
   "outputs": [],
   "source": [
    "#calculate the score of whitelist shops\n",
    "features = list(feature['Specs'])\n",
    "scores = list(feature['Score'])\n",
    "equation = ''\n",
    "for i in range(len(features)):\n",
    "    equation  += str(scores[i]) +'*'+str(features[i])+'+'\n",
    "equation = 'Score='+ equation[:len(equation)-1]\n",
    "equation\n",
    "wf_process = w_df[features]\n",
    "wf_process = wf_process.eval(equation)\n",
    "pd.set_option('display.float_format',lambda x : '%.2f' % x)\n",
    "wf_process.to_csv('whitelist_with_score.csv')\n"
   ]
  },
  {
   "cell_type": "code",
   "execution_count": 7,
   "id": "4fb440fa",
   "metadata": {},
   "outputs": [
    {
     "data": {
      "text/plain": [
       "count             7504.00\n",
       "mean        9291614023.74\n",
       "std       172574113786.31\n",
       "min                119.28\n",
       "25%             515177.86\n",
       "50%           13457752.54\n",
       "75%          170504258.71\n",
       "max     10606572483257.33\n",
       "Name: Score, dtype: float64"
      ]
     },
     "execution_count": 7,
     "metadata": {},
     "output_type": "execute_result"
    }
   ],
   "source": [
    "wf_process['Score'].describe()"
   ]
  },
  {
   "cell_type": "code",
   "execution_count": 8,
   "id": "8049fb15",
   "metadata": {},
   "outputs": [],
   "source": [
    "#get score for all unmatched shops\n",
    "data_process = data[features]\n",
    "data_process = data_process.eval(equation)\n",
    "data_process\n",
    "data_process.to_csv('unmatch_with_score.csv')"
   ]
  },
  {
   "cell_type": "code",
   "execution_count": 9,
   "id": "b6ed3c9c",
   "metadata": {},
   "outputs": [
    {
     "data": {
      "text/plain": [
       "count         111720.00\n",
       "mean        41370823.33\n",
       "std       2030310290.62\n",
       "min              114.22\n",
       "25%              524.16\n",
       "50%            20026.26\n",
       "75%           214157.10\n",
       "max     496252535290.79\n",
       "Name: Score, dtype: float64"
      ]
     },
     "execution_count": 9,
     "metadata": {},
     "output_type": "execute_result"
    }
   ],
   "source": [
    "data_process['Score'].describe()"
   ]
  },
  {
   "cell_type": "code",
   "execution_count": null,
   "id": "73e24af5",
   "metadata": {},
   "outputs": [],
   "source": []
  },
  {
   "cell_type": "code",
   "execution_count": null,
   "id": "1c1519fe",
   "metadata": {},
   "outputs": [],
   "source": []
  },
  {
   "cell_type": "code",
   "execution_count": null,
   "id": "ade6a297",
   "metadata": {},
   "outputs": [],
   "source": []
  },
  {
   "cell_type": "code",
   "execution_count": null,
   "id": "8e9df5cf",
   "metadata": {},
   "outputs": [],
   "source": []
  },
  {
   "cell_type": "code",
   "execution_count": null,
   "id": "d874823b",
   "metadata": {},
   "outputs": [],
   "source": []
  },
  {
   "cell_type": "code",
   "execution_count": null,
   "id": "e60d6b1a",
   "metadata": {},
   "outputs": [],
   "source": []
  },
  {
   "cell_type": "code",
   "execution_count": 114,
   "id": "63dd17b2",
   "metadata": {},
   "outputs": [
    {
     "name": "stdout",
     "output_type": "stream",
     "text": [
      "0 ('manage_shop_indicator', 298.2345174198238)\n",
      "1 ('officialstore_indicator', 0.006880009865914157)\n",
      "2 ('preferred_shop_indicator', 76.94802153083876)\n",
      "3 ('crossborder_indicator', 0.4407203544966207)\n",
      "4 ('shop_category', 5.987426035864028)\n",
      "5 ('new_seller_flag', 0.8393271114930927)\n",
      "6 ('seller_centre_login_L30D', 25.57286337184149)\n",
      "7 ('shop_sku_number', 0.391086519230846)\n",
      "8 ('shop_follower_number', 1273.7790870442461)\n",
      "9 ('shop_L180D_order', 4387.591442854426)\n",
      "10 ('weighted_shop_rating', 0.7832801484485566)\n",
      "11 ('performance_date', 0.03427368683000848)\n",
      "12 ('masked_item_impression', 57930.04581316443)\n",
      "13 ('masked_shop_page_view', 0.371287901172316)\n",
      "14 ('masked_shop_click_from_search', 28.301545519749492)\n",
      "15 ('masked_other_tab_click', 6486.6504892756575)\n"
     ]
    },
    {
     "name": "stderr",
     "output_type": "stream",
     "text": [
      "/Users/Yiling/opt/anaconda3/lib/python3.8/site-packages/sklearn/utils/validation.py:63: DataConversionWarning: A column-vector y was passed when a 1d array was expected. Please change the shape of y to (n_samples, ), for example using ravel().\n",
      "  return f(*args, **kwargs)\n"
     ]
    },
    {
     "data": {
      "image/png": "[encoded data removed]",
      "text/plain": [
       "<Figure size 432x288 with 1 Axes>"
      ]
     },
     "metadata": {},
     "output_type": "display_data"
    }
   ],
   "source": [
    "## prediction model\n",
    "\n",
    "# split into train and test sets\n",
    "X_train, X_test, y_train, y_test = train_test_split(X, Y, test_size=0.7, random_state=1)\n",
    "# feature selection\n",
    "X_train_fs, X_test_fs, fs = select_features(X_train, y_train, X_test)\n",
    "# what are scores for the features\n",
    "for i in range(len(fs.scores_)):\n",
    "\tprint(i,(X.columns[i], fs.scores_[i]))\n",
    "# plot the scores\n",
    "pyplot.bar([i for i in range(len(fs.scores_))], fs.scores_)\n",
    "pyplot.show()"
   ]
  },
  {
   "cell_type": "code",
   "execution_count": 116,
   "id": "af466b08",
   "metadata": {},
   "outputs": [
    {
     "name": "stdout",
     "output_type": "stream",
     "text": [
      "                     Specs          Score\n",
      "12  masked_item_impression  192094.743032\n",
      "15  masked_other_tab_click   17161.243434\n",
      "9         shop_L180D_order    7017.785715\n",
      "8     shop_follower_number    4716.130794\n"
     ]
    },
    {
     "name": "stderr",
     "output_type": "stream",
     "text": [
      "/Users/Yiling/opt/anaconda3/lib/python3.8/site-packages/sklearn/utils/validation.py:63: DataConversionWarning: A column-vector y was passed when a 1d array was expected. Please change the shape of y to (n_samples, ), for example using ravel().\n",
      "  return f(*args, **kwargs)\n"
     ]
    }
   ],
   "source": [
    "from sklearn.feature_selection import SelectKBest\n",
    "from sklearn.feature_selection import f_regression\n",
    "#apply SelectKBest class to extract top 5 best features\n",
    "bestfeatures = SelectKBest(score_func=f_regression, k=5)\n",
    "fit = bestfeatures.fit(X,y)\n",
    "dfscores = pd.DataFrame(fit.scores_)\n",
    "dfcolumns = pd.DataFrame(X.columns)\n",
    "#concat two dataframes for better visualization \n",
    "featureScores = pd.concat([dfcolumns,dfscores],axis=1)\n",
    "featureScores.columns = ['Specs','Score']  #naming the dataframe columns\n",
    "print(featureScores.nlargest(4,'Score'))  #print 5 best features"
   ]
  },
  {
   "cell_type": "code",
   "execution_count": 17,
   "id": "f6906957",
   "metadata": {},
   "outputs": [],
   "source": [
    "### linear regression model for unmatched shop \n",
    "## deifine data set \n",
    "X1 = data[['shop_follower_number', 'shop_L180D_order','masked_item_impression','masked_other_tab_click']]\n",
    "Y1 = Y"
   ]
  },
  {
   "cell_type": "code",
   "execution_count": 66,
   "id": "ce25fae6",
   "metadata": {},
   "outputs": [
    {
     "name": "stdout",
     "output_type": "stream",
     "text": [
      "--------train\n",
      "coefficient of determination: 0.43378699334176307\n",
      "intercept: [1687681.33263544]\n",
      "slope: [[-8.89423925e+02  1.70268085e+02  2.21897558e-03 -1.36357381e+03]]\n"
     ]
    }
   ],
   "source": [
    "from sklearn.model_selection import train_test_split\n",
    "from sklearn.linear_model import LinearRegression\n",
    "from sklearn.metrics import mean_squared_error\n",
    "from sklearn.metrics import r2_score\n",
    "\n",
    "X1_train, X1_test, Y1_train, Y1_test = train_test_split(X1, Y1, test_size=0.3, random_state=0)\n",
    "regressor = LinearRegression()\n",
    "regressor.fit(X1_train,Y1_train)\n",
    "r_sq = regressor.score(X1_train, Y1_train)\n",
    "print(\"--------train\")\n",
    "print('coefficient of determination:', r_sq)\n",
    "print('intercept:', regressor.intercept_)\n",
    "print('slope:', regressor.coef_)"
   ]
  },
  {
   "cell_type": "code",
   "execution_count": 67,
   "id": "c552665b",
   "metadata": {},
   "outputs": [
    {
     "name": "stdout",
     "output_type": "stream",
     "text": [
      "--------test\n",
      "301311314.8544526\n",
      "0.2986543788617816\n"
     ]
    }
   ],
   "source": [
    "pred= regressor.predict(X1_test)\n",
    "test_set_rmse = (np.sqrt(mean_squared_error(Y1_test, pred)))\n",
    "test_set_r2 = r2_score(Y1_test, pred)\n",
    "print(\"--------test\")\n",
    "print(test_set_rmse)\n",
    "print(test_set_r2)"
   ]
  },
  {
   "cell_type": "code",
   "execution_count": 80,
   "id": "15df83ca",
   "metadata": {},
   "outputs": [],
   "source": [
    "## Polynomial \n",
    "\n",
    "from sklearn.model_selection import train_test_split \n",
    "X=data.loc[:, data.columns == 'shop_L180D_order']\n",
    "y=data.loc[:,data.columns =='masked_order']\n",
    "X_train, X_test, y_train, y_test = train_test_split(X, y, test_size=0.2, random_state=0)\n"
   ]
  },
  {
   "cell_type": "code",
   "execution_count": 98,
   "id": "78b8a3dd",
   "metadata": {},
   "outputs": [
    {
     "data": {
      "image/png": "[encoded data removed]",
      "text/plain": [
       "<Figure size 432x288 with 1 Axes>"
      ]
     },
     "metadata": {},
     "output_type": "display_data"
    }
   ],
   "source": [
    "# Fitting Polynomial Regression to the dataset\n",
    "from sklearn.preprocessing import PolynomialFeatures\n",
    "from sklearn.linear_model import LinearRegression\n",
    "poly_reg = PolynomialFeatures(degree=3)\n",
    "X_poly = poly_reg.fit_transform(X_train)\n",
    "pol_reg = LinearRegression()\n",
    "pol_reg.fit(X_poly, y_train)\n",
    "\n",
    "# Visualizing the Polymonial Regression results\n",
    "def viz_polymonial():\n",
    "    plt.scatter(X, y, color='red')\n",
    "    plt.plot(X, pol_reg.predict(poly_reg.fit_transform(X)), color='blue')\n",
    "    plt.xlabel('')\n",
    "    plt.ylabel('')\n",
    "    plt.show()\n",
    "    return\n",
    "viz_polymonial()"
   ]
  },
  {
   "cell_type": "code",
   "execution_count": 105,
   "id": "c79fdf16",
   "metadata": {},
   "outputs": [
    {
     "name": "stdout",
     "output_type": "stream",
     "text": [
      "--------test\n"
     ]
    },
    {
     "data": {
      "text/plain": [
       "0.01271290860147134"
      ]
     },
     "execution_count": 105,
     "metadata": {},
     "output_type": "execute_result"
    }
   ],
   "source": [
    "print(\"--------test\")\n",
    "pred=pol_reg.predict(poly_reg.fit_transform(X_test))\n",
    "test_set_r2 = r2_score(y_test, pred)\n",
    "test_set_r2"
   ]
  },
  {
   "cell_type": "code",
   "execution_count": null,
   "id": "4343da39",
   "metadata": {},
   "outputs": [],
   "source": []
  }
 ],
 "metadata": {
  "kernelspec": {
   "display_name": "Python 3",
   "language": "python",
   "name": "python3"
  },
  "language_info": {
   "codemirror_mode": {
    "name": "ipython",
    "version": 3
   },
   "file_extension": ".py",
   "mimetype": "text/x-python",
   "name": "python",
   "nbconvert_exporter": "python",
   "pygments_lexer": "ipython3",
   "version": "3.8.8"
  }
 },
 "nbformat": 4,
 "nbformat_minor": 5
}
