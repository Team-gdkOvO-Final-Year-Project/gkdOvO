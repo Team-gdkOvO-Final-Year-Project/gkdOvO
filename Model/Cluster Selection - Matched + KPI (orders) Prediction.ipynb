{
 "cells": [
  {
   "cell_type": "code",
   "execution_count": 7,
   "metadata": {},
   "outputs": [],
   "source": [
    "import pandas as pd\n",
    "import numpy as np\n",
    "import seaborn as sns\n",
    "import matplotlib\n",
    "\n",
    "import matplotlib.pyplot as plt\n",
    "from scipy.stats import skew\n",
    "from scipy.stats.stats import pearsonr\n",
    "\n",
    "\n",
    "\n",
    "#%config InlineBackend.figure_format = 'png' #set 'png' here when working on notebook\n",
    "#%matplotlib inline"
   ]
  },
  {
   "cell_type": "code",
   "execution_count": 8,
   "metadata": {},
   "outputs": [],
   "source": [
    "import pandas as pd\n",
    "raw_matched_data = pd.read_csv('match_with_label.csv')\n",
    "raw_matched_data = raw_matched_data.drop(columns=['Unnamed: 0','decorated_indicator'])"
   ]
  },
  {
   "cell_type": "markdown",
   "metadata": {},
   "source": [
    "<h1> Preprocessing </h1>"
   ]
  },
  {
   "cell_type": "code",
   "execution_count": 9,
   "metadata": {
    "scrolled": false
   },
   "outputs": [
    {
     "data": {
      "text/html": [
       "<div>\n",
       "<style scoped>\n",
       "    .dataframe tbody tr th:only-of-type {\n",
       "        vertical-align: middle;\n",
       "    }\n",
       "\n",
       "    .dataframe tbody tr th {\n",
       "        vertical-align: top;\n",
       "    }\n",
       "\n",
       "    .dataframe thead th {\n",
       "        text-align: right;\n",
       "    }\n",
       "</style>\n",
       "<table border=\"1\" class=\"dataframe\">\n",
       "  <thead>\n",
       "    <tr style=\"text-align: right;\">\n",
       "      <th></th>\n",
       "      <th>manage_shop_indicator</th>\n",
       "      <th>officialstore_indicator</th>\n",
       "      <th>preferred_shop_indicator</th>\n",
       "      <th>crossborder_indicator</th>\n",
       "      <th>shop_category</th>\n",
       "      <th>new_seller_flag</th>\n",
       "      <th>seller_centre_login_L30D</th>\n",
       "      <th>shop_sku_number</th>\n",
       "      <th>shop_follower_number</th>\n",
       "      <th>shop_L180D_order</th>\n",
       "      <th>weighted_shop_rating</th>\n",
       "      <th>performance_date</th>\n",
       "      <th>masked_item_impression</th>\n",
       "      <th>masked_order</th>\n",
       "      <th>masked_shop_page_view</th>\n",
       "      <th>masked_shop_click_from_search</th>\n",
       "      <th>masked_campaign_tab_click</th>\n",
       "      <th>masked_other_tab_click</th>\n",
       "      <th>shop_index</th>\n",
       "      <th>rf_label</th>\n",
       "    </tr>\n",
       "  </thead>\n",
       "  <tbody>\n",
       "    <tr>\n",
       "      <th>0</th>\n",
       "      <td>0</td>\n",
       "      <td>0</td>\n",
       "      <td>0</td>\n",
       "      <td>0</td>\n",
       "      <td>1</td>\n",
       "      <td>0</td>\n",
       "      <td>4</td>\n",
       "      <td>258</td>\n",
       "      <td>975</td>\n",
       "      <td>405</td>\n",
       "      <td>4.842105</td>\n",
       "      <td>5</td>\n",
       "      <td>25.0</td>\n",
       "      <td>0.0</td>\n",
       "      <td>0</td>\n",
       "      <td>1.421053</td>\n",
       "      <td>11</td>\n",
       "      <td>21.526316</td>\n",
       "      <td>311799375</td>\n",
       "      <td>0</td>\n",
       "    </tr>\n",
       "    <tr>\n",
       "      <th>1</th>\n",
       "      <td>0</td>\n",
       "      <td>0</td>\n",
       "      <td>0</td>\n",
       "      <td>0</td>\n",
       "      <td>1</td>\n",
       "      <td>0</td>\n",
       "      <td>4</td>\n",
       "      <td>258</td>\n",
       "      <td>975</td>\n",
       "      <td>405</td>\n",
       "      <td>4.947368</td>\n",
       "      <td>3</td>\n",
       "      <td>36.0</td>\n",
       "      <td>0.0</td>\n",
       "      <td>0</td>\n",
       "      <td>1.000000</td>\n",
       "      <td>11</td>\n",
       "      <td>14.000000</td>\n",
       "      <td>311799375</td>\n",
       "      <td>0</td>\n",
       "    </tr>\n",
       "    <tr>\n",
       "      <th>2</th>\n",
       "      <td>0</td>\n",
       "      <td>0</td>\n",
       "      <td>0</td>\n",
       "      <td>0</td>\n",
       "      <td>1</td>\n",
       "      <td>0</td>\n",
       "      <td>4</td>\n",
       "      <td>258</td>\n",
       "      <td>975</td>\n",
       "      <td>405</td>\n",
       "      <td>5.000000</td>\n",
       "      <td>8</td>\n",
       "      <td>121.0</td>\n",
       "      <td>0.0</td>\n",
       "      <td>0</td>\n",
       "      <td>1.473684</td>\n",
       "      <td>11</td>\n",
       "      <td>21.526316</td>\n",
       "      <td>311799375</td>\n",
       "      <td>0</td>\n",
       "    </tr>\n",
       "    <tr>\n",
       "      <th>3</th>\n",
       "      <td>0</td>\n",
       "      <td>0</td>\n",
       "      <td>0</td>\n",
       "      <td>0</td>\n",
       "      <td>1</td>\n",
       "      <td>0</td>\n",
       "      <td>4</td>\n",
       "      <td>258</td>\n",
       "      <td>975</td>\n",
       "      <td>405</td>\n",
       "      <td>4.894737</td>\n",
       "      <td>12</td>\n",
       "      <td>9.0</td>\n",
       "      <td>0.0</td>\n",
       "      <td>0</td>\n",
       "      <td>1.000000</td>\n",
       "      <td>11</td>\n",
       "      <td>25.578947</td>\n",
       "      <td>311799375</td>\n",
       "      <td>0</td>\n",
       "    </tr>\n",
       "    <tr>\n",
       "      <th>4</th>\n",
       "      <td>0</td>\n",
       "      <td>0</td>\n",
       "      <td>0</td>\n",
       "      <td>0</td>\n",
       "      <td>1</td>\n",
       "      <td>0</td>\n",
       "      <td>4</td>\n",
       "      <td>258</td>\n",
       "      <td>975</td>\n",
       "      <td>405</td>\n",
       "      <td>4.894737</td>\n",
       "      <td>2</td>\n",
       "      <td>225.0</td>\n",
       "      <td>0.0</td>\n",
       "      <td>0</td>\n",
       "      <td>1.000000</td>\n",
       "      <td>11</td>\n",
       "      <td>19.789474</td>\n",
       "      <td>311799375</td>\n",
       "      <td>0</td>\n",
       "    </tr>\n",
       "  </tbody>\n",
       "</table>\n",
       "</div>"
      ],
      "text/plain": [
       "   manage_shop_indicator  officialstore_indicator  preferred_shop_indicator  \\\n",
       "0                      0                        0                         0   \n",
       "1                      0                        0                         0   \n",
       "2                      0                        0                         0   \n",
       "3                      0                        0                         0   \n",
       "4                      0                        0                         0   \n",
       "\n",
       "   crossborder_indicator  shop_category  new_seller_flag  \\\n",
       "0                      0              1                0   \n",
       "1                      0              1                0   \n",
       "2                      0              1                0   \n",
       "3                      0              1                0   \n",
       "4                      0              1                0   \n",
       "\n",
       "   seller_centre_login_L30D  shop_sku_number  shop_follower_number  \\\n",
       "0                         4              258                   975   \n",
       "1                         4              258                   975   \n",
       "2                         4              258                   975   \n",
       "3                         4              258                   975   \n",
       "4                         4              258                   975   \n",
       "\n",
       "   shop_L180D_order  weighted_shop_rating  performance_date  \\\n",
       "0               405              4.842105                 5   \n",
       "1               405              4.947368                 3   \n",
       "2               405              5.000000                 8   \n",
       "3               405              4.894737                12   \n",
       "4               405              4.894737                 2   \n",
       "\n",
       "   masked_item_impression  masked_order  masked_shop_page_view  \\\n",
       "0                    25.0           0.0                      0   \n",
       "1                    36.0           0.0                      0   \n",
       "2                   121.0           0.0                      0   \n",
       "3                     9.0           0.0                      0   \n",
       "4                   225.0           0.0                      0   \n",
       "\n",
       "   masked_shop_click_from_search  masked_campaign_tab_click  \\\n",
       "0                       1.421053                         11   \n",
       "1                       1.000000                         11   \n",
       "2                       1.473684                         11   \n",
       "3                       1.000000                         11   \n",
       "4                       1.000000                         11   \n",
       "\n",
       "   masked_other_tab_click  shop_index  rf_label  \n",
       "0               21.526316   311799375         0  \n",
       "1               14.000000   311799375         0  \n",
       "2               21.526316   311799375         0  \n",
       "3               25.578947   311799375         0  \n",
       "4               19.789474   311799375         0  "
      ]
     },
     "execution_count": 9,
     "metadata": {},
     "output_type": "execute_result"
    }
   ],
   "source": [
    "raw_matched_data.head()"
   ]
  },
  {
   "cell_type": "code",
   "execution_count": 10,
   "metadata": {},
   "outputs": [
    {
     "data": {
      "text/html": [
       "<div>\n",
       "<style scoped>\n",
       "    .dataframe tbody tr th:only-of-type {\n",
       "        vertical-align: middle;\n",
       "    }\n",
       "\n",
       "    .dataframe tbody tr th {\n",
       "        vertical-align: top;\n",
       "    }\n",
       "\n",
       "    .dataframe thead th {\n",
       "        text-align: right;\n",
       "    }\n",
       "</style>\n",
       "<table border=\"1\" class=\"dataframe\">\n",
       "  <thead>\n",
       "    <tr style=\"text-align: right;\">\n",
       "      <th></th>\n",
       "      <th>manage_shop_indicator</th>\n",
       "      <th>officialstore_indicator</th>\n",
       "      <th>preferred_shop_indicator</th>\n",
       "      <th>crossborder_indicator</th>\n",
       "      <th>shop_category</th>\n",
       "      <th>new_seller_flag</th>\n",
       "      <th>seller_centre_login_L30D</th>\n",
       "      <th>shop_sku_number</th>\n",
       "      <th>shop_follower_number</th>\n",
       "      <th>shop_L180D_order</th>\n",
       "      <th>weighted_shop_rating</th>\n",
       "      <th>performance_date</th>\n",
       "      <th>masked_item_impression</th>\n",
       "      <th>masked_order</th>\n",
       "      <th>masked_shop_page_view</th>\n",
       "      <th>masked_shop_click_from_search</th>\n",
       "      <th>masked_campaign_tab_click</th>\n",
       "      <th>masked_other_tab_click</th>\n",
       "      <th>rf_label</th>\n",
       "    </tr>\n",
       "  </thead>\n",
       "  <tbody>\n",
       "    <tr>\n",
       "      <th>count</th>\n",
       "      <td>18038.000000</td>\n",
       "      <td>18038.000000</td>\n",
       "      <td>18038.000000</td>\n",
       "      <td>18038.000000</td>\n",
       "      <td>18038.000000</td>\n",
       "      <td>18038.000000</td>\n",
       "      <td>18038.000000</td>\n",
       "      <td>18038.000000</td>\n",
       "      <td>1.803800e+04</td>\n",
       "      <td>1.803800e+04</td>\n",
       "      <td>18038.000000</td>\n",
       "      <td>18038.0</td>\n",
       "      <td>1.803800e+04</td>\n",
       "      <td>1.803800e+04</td>\n",
       "      <td>18038.000000</td>\n",
       "      <td>1.803800e+04</td>\n",
       "      <td>18038.0</td>\n",
       "      <td>1.803800e+04</td>\n",
       "      <td>18038.000000</td>\n",
       "    </tr>\n",
       "    <tr>\n",
       "      <th>mean</th>\n",
       "      <td>0.218095</td>\n",
       "      <td>0.018627</td>\n",
       "      <td>0.201796</td>\n",
       "      <td>0.974055</td>\n",
       "      <td>125.493181</td>\n",
       "      <td>1.875152</td>\n",
       "      <td>86.184832</td>\n",
       "      <td>8049.407806</td>\n",
       "      <td>3.095218e+04</td>\n",
       "      <td>5.548797e+04</td>\n",
       "      <td>62.961205</td>\n",
       "      <td>105.0</td>\n",
       "      <td>7.099896e+10</td>\n",
       "      <td>2.223701e+09</td>\n",
       "      <td>2253.032986</td>\n",
       "      <td>7.775571e+02</td>\n",
       "      <td>154.0</td>\n",
       "      <td>9.867574e+02</td>\n",
       "      <td>1.926378</td>\n",
       "    </tr>\n",
       "    <tr>\n",
       "      <th>std</th>\n",
       "      <td>1.733763</td>\n",
       "      <td>0.510343</td>\n",
       "      <td>1.668706</td>\n",
       "      <td>3.562118</td>\n",
       "      <td>93.779286</td>\n",
       "      <td>4.768354</td>\n",
       "      <td>113.483056</td>\n",
       "      <td>19684.791117</td>\n",
       "      <td>2.894518e+05</td>\n",
       "      <td>1.020307e+06</td>\n",
       "      <td>8.843581</td>\n",
       "      <td>0.0</td>\n",
       "      <td>7.081792e+12</td>\n",
       "      <td>2.941624e+11</td>\n",
       "      <td>10163.845121</td>\n",
       "      <td>3.724075e+04</td>\n",
       "      <td>0.0</td>\n",
       "      <td>1.254815e+04</td>\n",
       "      <td>7.189336</td>\n",
       "    </tr>\n",
       "    <tr>\n",
       "      <th>min</th>\n",
       "      <td>0.000000</td>\n",
       "      <td>0.000000</td>\n",
       "      <td>0.000000</td>\n",
       "      <td>0.000000</td>\n",
       "      <td>0.000000</td>\n",
       "      <td>0.000000</td>\n",
       "      <td>14.000000</td>\n",
       "      <td>3458.000000</td>\n",
       "      <td>1.360800e+04</td>\n",
       "      <td>5.670000e+03</td>\n",
       "      <td>0.000000</td>\n",
       "      <td>105.0</td>\n",
       "      <td>0.000000e+00</td>\n",
       "      <td>0.000000e+00</td>\n",
       "      <td>0.000000</td>\n",
       "      <td>1.400000e+01</td>\n",
       "      <td>154.0</td>\n",
       "      <td>1.965789e+02</td>\n",
       "      <td>0.000000</td>\n",
       "    </tr>\n",
       "    <tr>\n",
       "      <th>25%</th>\n",
       "      <td>0.000000</td>\n",
       "      <td>0.000000</td>\n",
       "      <td>0.000000</td>\n",
       "      <td>0.000000</td>\n",
       "      <td>56.000000</td>\n",
       "      <td>0.000000</td>\n",
       "      <td>14.000000</td>\n",
       "      <td>3612.000000</td>\n",
       "      <td>1.373400e+04</td>\n",
       "      <td>5.670000e+03</td>\n",
       "      <td>56.000000</td>\n",
       "      <td>105.0</td>\n",
       "      <td>7.600000e+01</td>\n",
       "      <td>0.000000e+00</td>\n",
       "      <td>0.000000</td>\n",
       "      <td>2.594737e+01</td>\n",
       "      <td>154.0</td>\n",
       "      <td>2.990526e+02</td>\n",
       "      <td>0.000000</td>\n",
       "    </tr>\n",
       "    <tr>\n",
       "      <th>50%</th>\n",
       "      <td>0.000000</td>\n",
       "      <td>0.000000</td>\n",
       "      <td>0.000000</td>\n",
       "      <td>0.000000</td>\n",
       "      <td>112.000000</td>\n",
       "      <td>0.000000</td>\n",
       "      <td>28.000000</td>\n",
       "      <td>4382.000000</td>\n",
       "      <td>1.419600e+04</td>\n",
       "      <td>5.670000e+03</td>\n",
       "      <td>66.263158</td>\n",
       "      <td>105.0</td>\n",
       "      <td>1.986950e+04</td>\n",
       "      <td>0.000000e+00</td>\n",
       "      <td>81.000000</td>\n",
       "      <td>3.942105e+01</td>\n",
       "      <td>154.0</td>\n",
       "      <td>3.390000e+02</td>\n",
       "      <td>0.000000</td>\n",
       "    </tr>\n",
       "    <tr>\n",
       "      <th>75%</th>\n",
       "      <td>0.000000</td>\n",
       "      <td>0.000000</td>\n",
       "      <td>0.000000</td>\n",
       "      <td>0.000000</td>\n",
       "      <td>196.000000</td>\n",
       "      <td>0.000000</td>\n",
       "      <td>98.000000</td>\n",
       "      <td>6538.000000</td>\n",
       "      <td>1.591800e+04</td>\n",
       "      <td>6.580000e+03</td>\n",
       "      <td>70.000000</td>\n",
       "      <td>105.0</td>\n",
       "      <td>1.067322e+06</td>\n",
       "      <td>1.300000e+01</td>\n",
       "      <td>1072.750000</td>\n",
       "      <td>9.478947e+01</td>\n",
       "      <td>154.0</td>\n",
       "      <td>4.177368e+02</td>\n",
       "      <td>0.000000</td>\n",
       "    </tr>\n",
       "    <tr>\n",
       "      <th>max</th>\n",
       "      <td>14.000000</td>\n",
       "      <td>14.000000</td>\n",
       "      <td>14.000000</td>\n",
       "      <td>14.000000</td>\n",
       "      <td>280.000000</td>\n",
       "      <td>14.000000</td>\n",
       "      <td>420.000000</td>\n",
       "      <td>768684.000000</td>\n",
       "      <td>3.466277e+07</td>\n",
       "      <td>1.221056e+08</td>\n",
       "      <td>70.000000</td>\n",
       "      <td>105.0</td>\n",
       "      <td>9.373605e+14</td>\n",
       "      <td>3.950721e+13</td>\n",
       "      <td>615621.000000</td>\n",
       "      <td>4.876214e+06</td>\n",
       "      <td>154.0</td>\n",
       "      <td>1.529625e+06</td>\n",
       "      <td>56.000000</td>\n",
       "    </tr>\n",
       "  </tbody>\n",
       "</table>\n",
       "</div>"
      ],
      "text/plain": [
       "       manage_shop_indicator  officialstore_indicator  \\\n",
       "count           18038.000000             18038.000000   \n",
       "mean                0.218095                 0.018627   \n",
       "std                 1.733763                 0.510343   \n",
       "min                 0.000000                 0.000000   \n",
       "25%                 0.000000                 0.000000   \n",
       "50%                 0.000000                 0.000000   \n",
       "75%                 0.000000                 0.000000   \n",
       "max                14.000000                14.000000   \n",
       "\n",
       "       preferred_shop_indicator  crossborder_indicator  shop_category  \\\n",
       "count              18038.000000           18038.000000   18038.000000   \n",
       "mean                   0.201796               0.974055     125.493181   \n",
       "std                    1.668706               3.562118      93.779286   \n",
       "min                    0.000000               0.000000       0.000000   \n",
       "25%                    0.000000               0.000000      56.000000   \n",
       "50%                    0.000000               0.000000     112.000000   \n",
       "75%                    0.000000               0.000000     196.000000   \n",
       "max                   14.000000              14.000000     280.000000   \n",
       "\n",
       "       new_seller_flag  seller_centre_login_L30D  shop_sku_number  \\\n",
       "count     18038.000000              18038.000000     18038.000000   \n",
       "mean          1.875152                 86.184832      8049.407806   \n",
       "std           4.768354                113.483056     19684.791117   \n",
       "min           0.000000                 14.000000      3458.000000   \n",
       "25%           0.000000                 14.000000      3612.000000   \n",
       "50%           0.000000                 28.000000      4382.000000   \n",
       "75%           0.000000                 98.000000      6538.000000   \n",
       "max          14.000000                420.000000    768684.000000   \n",
       "\n",
       "       shop_follower_number  shop_L180D_order  weighted_shop_rating  \\\n",
       "count          1.803800e+04      1.803800e+04          18038.000000   \n",
       "mean           3.095218e+04      5.548797e+04             62.961205   \n",
       "std            2.894518e+05      1.020307e+06              8.843581   \n",
       "min            1.360800e+04      5.670000e+03              0.000000   \n",
       "25%            1.373400e+04      5.670000e+03             56.000000   \n",
       "50%            1.419600e+04      5.670000e+03             66.263158   \n",
       "75%            1.591800e+04      6.580000e+03             70.000000   \n",
       "max            3.466277e+07      1.221056e+08             70.000000   \n",
       "\n",
       "       performance_date  masked_item_impression  masked_order  \\\n",
       "count           18038.0            1.803800e+04  1.803800e+04   \n",
       "mean              105.0            7.099896e+10  2.223701e+09   \n",
       "std                 0.0            7.081792e+12  2.941624e+11   \n",
       "min               105.0            0.000000e+00  0.000000e+00   \n",
       "25%               105.0            7.600000e+01  0.000000e+00   \n",
       "50%               105.0            1.986950e+04  0.000000e+00   \n",
       "75%               105.0            1.067322e+06  1.300000e+01   \n",
       "max               105.0            9.373605e+14  3.950721e+13   \n",
       "\n",
       "       masked_shop_page_view  masked_shop_click_from_search  \\\n",
       "count           18038.000000                   1.803800e+04   \n",
       "mean             2253.032986                   7.775571e+02   \n",
       "std             10163.845121                   3.724075e+04   \n",
       "min                 0.000000                   1.400000e+01   \n",
       "25%                 0.000000                   2.594737e+01   \n",
       "50%                81.000000                   3.942105e+01   \n",
       "75%              1072.750000                   9.478947e+01   \n",
       "max            615621.000000                   4.876214e+06   \n",
       "\n",
       "       masked_campaign_tab_click  masked_other_tab_click      rf_label  \n",
       "count                    18038.0            1.803800e+04  18038.000000  \n",
       "mean                       154.0            9.867574e+02      1.926378  \n",
       "std                          0.0            1.254815e+04      7.189336  \n",
       "min                        154.0            1.965789e+02      0.000000  \n",
       "25%                        154.0            2.990526e+02      0.000000  \n",
       "50%                        154.0            3.390000e+02      0.000000  \n",
       "75%                        154.0            4.177368e+02      0.000000  \n",
       "max                        154.0            1.529625e+06     56.000000  "
      ]
     },
     "execution_count": 10,
     "metadata": {},
     "output_type": "execute_result"
    }
   ],
   "source": [
    "matched_data = raw_matched_data.groupby('shop_index').sum()\n",
    "matched_data.describe()"
   ]
  },
  {
   "cell_type": "code",
   "execution_count": 11,
   "metadata": {},
   "outputs": [
    {
     "data": {
      "text/html": [
       "<div>\n",
       "<style scoped>\n",
       "    .dataframe tbody tr th:only-of-type {\n",
       "        vertical-align: middle;\n",
       "    }\n",
       "\n",
       "    .dataframe tbody tr th {\n",
       "        vertical-align: top;\n",
       "    }\n",
       "\n",
       "    .dataframe thead th {\n",
       "        text-align: right;\n",
       "    }\n",
       "</style>\n",
       "<table border=\"1\" class=\"dataframe\">\n",
       "  <thead>\n",
       "    <tr style=\"text-align: right;\">\n",
       "      <th></th>\n",
       "      <th>manage_shop_indicator</th>\n",
       "      <th>officialstore_indicator</th>\n",
       "      <th>preferred_shop_indicator</th>\n",
       "      <th>crossborder_indicator</th>\n",
       "      <th>shop_category</th>\n",
       "      <th>new_seller_flag</th>\n",
       "      <th>seller_centre_login_L30D</th>\n",
       "      <th>shop_sku_number</th>\n",
       "      <th>shop_follower_number</th>\n",
       "      <th>shop_L180D_order</th>\n",
       "      <th>weighted_shop_rating</th>\n",
       "      <th>performance_date</th>\n",
       "      <th>masked_item_impression</th>\n",
       "      <th>masked_order</th>\n",
       "      <th>masked_shop_page_view</th>\n",
       "      <th>masked_shop_click_from_search</th>\n",
       "      <th>masked_campaign_tab_click</th>\n",
       "      <th>masked_other_tab_click</th>\n",
       "      <th>rf_label</th>\n",
       "    </tr>\n",
       "    <tr>\n",
       "      <th>shop_index</th>\n",
       "      <th></th>\n",
       "      <th></th>\n",
       "      <th></th>\n",
       "      <th></th>\n",
       "      <th></th>\n",
       "      <th></th>\n",
       "      <th></th>\n",
       "      <th></th>\n",
       "      <th></th>\n",
       "      <th></th>\n",
       "      <th></th>\n",
       "      <th></th>\n",
       "      <th></th>\n",
       "      <th></th>\n",
       "      <th></th>\n",
       "      <th></th>\n",
       "      <th></th>\n",
       "      <th></th>\n",
       "      <th></th>\n",
       "    </tr>\n",
       "  </thead>\n",
       "  <tbody>\n",
       "    <tr>\n",
       "      <th>207225</th>\n",
       "      <td>0</td>\n",
       "      <td>0</td>\n",
       "      <td>0</td>\n",
       "      <td>0</td>\n",
       "      <td>14</td>\n",
       "      <td>0</td>\n",
       "      <td>28</td>\n",
       "      <td>3766</td>\n",
       "      <td>14406</td>\n",
       "      <td>6580</td>\n",
       "      <td>28.0</td>\n",
       "      <td>105</td>\n",
       "      <td>36.0</td>\n",
       "      <td>0.0</td>\n",
       "      <td>368</td>\n",
       "      <td>19.684211</td>\n",
       "      <td>154</td>\n",
       "      <td>304.263158</td>\n",
       "      <td>0</td>\n",
       "    </tr>\n",
       "    <tr>\n",
       "      <th>308340</th>\n",
       "      <td>0</td>\n",
       "      <td>0</td>\n",
       "      <td>0</td>\n",
       "      <td>0</td>\n",
       "      <td>126</td>\n",
       "      <td>0</td>\n",
       "      <td>28</td>\n",
       "      <td>5922</td>\n",
       "      <td>16002</td>\n",
       "      <td>7126</td>\n",
       "      <td>56.0</td>\n",
       "      <td>105</td>\n",
       "      <td>343165.0</td>\n",
       "      <td>0.0</td>\n",
       "      <td>16972</td>\n",
       "      <td>74.368421</td>\n",
       "      <td>154</td>\n",
       "      <td>323.947368</td>\n",
       "      <td>0</td>\n",
       "    </tr>\n",
       "    <tr>\n",
       "      <th>350280</th>\n",
       "      <td>0</td>\n",
       "      <td>0</td>\n",
       "      <td>0</td>\n",
       "      <td>0</td>\n",
       "      <td>14</td>\n",
       "      <td>0</td>\n",
       "      <td>154</td>\n",
       "      <td>6538</td>\n",
       "      <td>22974</td>\n",
       "      <td>7308</td>\n",
       "      <td>70.0</td>\n",
       "      <td>105</td>\n",
       "      <td>2245074.0</td>\n",
       "      <td>1.0</td>\n",
       "      <td>302</td>\n",
       "      <td>164.315789</td>\n",
       "      <td>154</td>\n",
       "      <td>333.210526</td>\n",
       "      <td>0</td>\n",
       "    </tr>\n",
       "    <tr>\n",
       "      <th>396360</th>\n",
       "      <td>0</td>\n",
       "      <td>0</td>\n",
       "      <td>0</td>\n",
       "      <td>0</td>\n",
       "      <td>70</td>\n",
       "      <td>0</td>\n",
       "      <td>14</td>\n",
       "      <td>5768</td>\n",
       "      <td>79800</td>\n",
       "      <td>6398</td>\n",
       "      <td>28.0</td>\n",
       "      <td>105</td>\n",
       "      <td>77930.0</td>\n",
       "      <td>0.0</td>\n",
       "      <td>9024</td>\n",
       "      <td>83.473684</td>\n",
       "      <td>154</td>\n",
       "      <td>417.736842</td>\n",
       "      <td>0</td>\n",
       "    </tr>\n",
       "    <tr>\n",
       "      <th>412875</th>\n",
       "      <td>0</td>\n",
       "      <td>0</td>\n",
       "      <td>0</td>\n",
       "      <td>0</td>\n",
       "      <td>280</td>\n",
       "      <td>0</td>\n",
       "      <td>14</td>\n",
       "      <td>3458</td>\n",
       "      <td>16002</td>\n",
       "      <td>5670</td>\n",
       "      <td>0.0</td>\n",
       "      <td>105</td>\n",
       "      <td>0.0</td>\n",
       "      <td>0.0</td>\n",
       "      <td>2879</td>\n",
       "      <td>25.368421</td>\n",
       "      <td>154</td>\n",
       "      <td>404.421053</td>\n",
       "      <td>0</td>\n",
       "    </tr>\n",
       "  </tbody>\n",
       "</table>\n",
       "</div>"
      ],
      "text/plain": [
       "            manage_shop_indicator  officialstore_indicator  \\\n",
       "shop_index                                                   \n",
       "207225                          0                        0   \n",
       "308340                          0                        0   \n",
       "350280                          0                        0   \n",
       "396360                          0                        0   \n",
       "412875                          0                        0   \n",
       "\n",
       "            preferred_shop_indicator  crossborder_indicator  shop_category  \\\n",
       "shop_index                                                                   \n",
       "207225                             0                      0             14   \n",
       "308340                             0                      0            126   \n",
       "350280                             0                      0             14   \n",
       "396360                             0                      0             70   \n",
       "412875                             0                      0            280   \n",
       "\n",
       "            new_seller_flag  seller_centre_login_L30D  shop_sku_number  \\\n",
       "shop_index                                                               \n",
       "207225                    0                        28             3766   \n",
       "308340                    0                        28             5922   \n",
       "350280                    0                       154             6538   \n",
       "396360                    0                        14             5768   \n",
       "412875                    0                        14             3458   \n",
       "\n",
       "            shop_follower_number  shop_L180D_order  weighted_shop_rating  \\\n",
       "shop_index                                                                 \n",
       "207225                     14406              6580                  28.0   \n",
       "308340                     16002              7126                  56.0   \n",
       "350280                     22974              7308                  70.0   \n",
       "396360                     79800              6398                  28.0   \n",
       "412875                     16002              5670                   0.0   \n",
       "\n",
       "            performance_date  masked_item_impression  masked_order  \\\n",
       "shop_index                                                           \n",
       "207225                   105                    36.0           0.0   \n",
       "308340                   105                343165.0           0.0   \n",
       "350280                   105               2245074.0           1.0   \n",
       "396360                   105                 77930.0           0.0   \n",
       "412875                   105                     0.0           0.0   \n",
       "\n",
       "            masked_shop_page_view  masked_shop_click_from_search  \\\n",
       "shop_index                                                         \n",
       "207225                        368                      19.684211   \n",
       "308340                      16972                      74.368421   \n",
       "350280                        302                     164.315789   \n",
       "396360                       9024                      83.473684   \n",
       "412875                       2879                      25.368421   \n",
       "\n",
       "            masked_campaign_tab_click  masked_other_tab_click  rf_label  \n",
       "shop_index                                                               \n",
       "207225                            154              304.263158         0  \n",
       "308340                            154              323.947368         0  \n",
       "350280                            154              333.210526         0  \n",
       "396360                            154              417.736842         0  \n",
       "412875                            154              404.421053         0  "
      ]
     },
     "execution_count": 11,
     "metadata": {},
     "output_type": "execute_result"
    }
   ],
   "source": [
    "matched_data.head()"
   ]
  },
  {
   "cell_type": "markdown",
   "metadata": {},
   "source": [
    "<h3> Feature Selection </h3>"
   ]
  },
  {
   "cell_type": "code",
   "execution_count": 12,
   "metadata": {},
   "outputs": [],
   "source": [
    "## load data\n",
    "raw_data = pd.read_csv(\"match_with_label.csv\")\n",
    "raw_data = raw_data.drop(columns=['Unnamed: 0','decorated_indicator'])"
   ]
  },
  {
   "cell_type": "code",
   "execution_count": 13,
   "metadata": {},
   "outputs": [
    {
     "name": "stderr",
     "output_type": "stream",
     "text": [
      "/Users/miya/anaconda3/lib/python3.7/site-packages/ipykernel_launcher.py:1: FutureWarning: In a future version of pandas all arguments of DataFrame.drop except for the argument 'labels' will be keyword-only\n",
      "  \"\"\"Entry point for launching an IPython kernel.\n"
     ]
    }
   ],
   "source": [
    "raw_data_X = raw_data.drop(\"masked_order\",1)\n",
    "raw_data_y = raw_data[\"masked_order\"]"
   ]
  },
  {
   "cell_type": "code",
   "execution_count": 14,
   "metadata": {},
   "outputs": [
    {
     "name": "stdout",
     "output_type": "stream",
     "text": [
      "                            Specs          Score\n",
      "12         masked_item_impression  364608.363609\n",
      "16         masked_other_tab_click   45292.058007\n",
      "9                shop_L180D_order   17724.359481\n",
      "8            shop_follower_number   17696.960476\n",
      "14  masked_shop_click_from_search     147.405012\n"
     ]
    },
    {
     "name": "stderr",
     "output_type": "stream",
     "text": [
      "/Users/miya/anaconda3/lib/python3.7/site-packages/sklearn/feature_selection/_univariate_selection.py:289: RuntimeWarning: divide by zero encountered in true_divide\n",
      "  correlation_coefficient /= X_norms\n",
      "/Users/miya/anaconda3/lib/python3.7/site-packages/sklearn/feature_selection/_univariate_selection.py:358: RuntimeWarning: invalid value encountered in true_divide\n",
      "  f_statistic = corr_coef_squared / (1 - corr_coef_squared) * deg_of_freedom\n"
     ]
    }
   ],
   "source": [
    "#get unmatched shop features\n",
    "from sklearn.feature_selection import SelectKBest\n",
    "from sklearn.feature_selection import f_regression\n",
    "\n",
    "#apply SelectKBest class to extract top 5 best features\n",
    "bestfeatures = SelectKBest(score_func=f_regression, k=5)\n",
    "fit = bestfeatures.fit(raw_data_X,raw_data_y)\n",
    "dfscores = pd.DataFrame(fit.scores_)\n",
    "dfcolumns = pd.DataFrame(raw_data_X.columns)\n",
    "#concat two dataframes for better visualization \n",
    "featureScores = pd.concat([dfcolumns,dfscores],axis=1)\n",
    "featureScores.columns = ['Specs','Score']  #naming the dataframe columns\n",
    "print(featureScores.nlargest(5,'Score'))  #print 5 best features"
   ]
  },
  {
   "cell_type": "code",
   "execution_count": 15,
   "metadata": {},
   "outputs": [
    {
     "data": {
      "text/plain": [
       "['masked_item_impression',\n",
       " 'masked_other_tab_click',\n",
       " 'shop_L180D_order',\n",
       " 'shop_follower_number',\n",
       " 'masked_shop_click_from_search']"
      ]
     },
     "execution_count": 15,
     "metadata": {},
     "output_type": "execute_result"
    }
   ],
   "source": [
    "features = featureScores.nlargest(5,'Score')\n",
    "features = features['Specs'].tolist()\n",
    "features"
   ]
  },
  {
   "cell_type": "markdown",
   "metadata": {},
   "source": [
    "<h1>Prediction </h1>"
   ]
  },
  {
   "cell_type": "code",
   "execution_count": 16,
   "metadata": {},
   "outputs": [],
   "source": [
    "#prediction on umatched data with features selected\n",
    "matched_data.head()\n",
    "from sklearn import linear_model\n",
    "from sklearn.model_selection import cross_val_score\n",
    "import numpy as np\n",
    "model1=linear_model.LinearRegression()\n",
    "#features = ['shop_L180D_order','masked_item_impression','masked_other_tab_click','shop_follower_number']\n",
    "\n",
    "X = matched_data[features]\n",
    "y = matched_data['masked_order']\n",
    "# print(X.shape,y.shape)\n"
   ]
  },
  {
   "cell_type": "markdown",
   "metadata": {},
   "source": [
    "<h4> Log transformation visualizations </h4>"
   ]
  },
  {
   "cell_type": "code",
   "execution_count": 15,
   "metadata": {},
   "outputs": [
    {
     "data": {
      "image/png": "[encoded data removed]",
      "text/plain": [
       "<Figure size 864x432 with 2 Axes>"
      ]
     },
     "metadata": {
      "needs_background": "light"
     },
     "output_type": "display_data"
    }
   ],
   "source": [
    "matplotlib.rcParams['figure.figsize'] = (12.0, 6.0)\n",
    "shop_L180D_order = pd.DataFrame({\"shop_L180D_order\":X[\"shop_L180D_order\"], \"log(shop_L180D_order + 1)\":np.log1p(X[\"shop_L180D_order\"])})\n",
    "shop_L180D_order.hist()\n"
   ]
  },
  {
   "cell_type": "code",
   "execution_count": 15,
   "metadata": {},
   "outputs": [
    {
     "data": {
      "text/plain": [
       "array([[<AxesSubplot:title={'center':'shop_L180D_order'}>,\n",
       "        <AxesSubplot:title={'center':'log(shop_L180D_order + 1)'}>]],\n",
       "      dtype=object)"
      ]
     },
     "execution_count": 15,
     "metadata": {},
     "output_type": "execute_result"
    },
    {
     "data": {
      "image/png": "[encoded data removed]",
      "text/plain": [
       "<Figure size 864x432 with 2 Axes>"
      ]
     },
     "metadata": {
      "needs_background": "light"
     },
     "output_type": "display_data"
    }
   ],
   "source": [
    "matplotlib.rcParams['figure.figsize'] = (12.0, 6.0)\n",
    "shop_L180D_order = pd.DataFrame({\"shop_L180D_order\":X[\"shop_L180D_order\"], \"log(shop_L180D_order + 1)\":np.log1p(X[\"shop_L180D_order\"])})\n",
    "shop_L180D_order.hist()"
   ]
  },
  {
   "cell_type": "code",
   "execution_count": 16,
   "metadata": {
    "scrolled": true
   },
   "outputs": [
    {
     "data": {
      "text/plain": [
       "array([[<AxesSubplot:title={'center':'masked_order'}>,\n",
       "        <AxesSubplot:title={'center':'log(masked_order + 1)'}>]],\n",
       "      dtype=object)"
      ]
     },
     "execution_count": 16,
     "metadata": {},
     "output_type": "execute_result"
    },
    {
     "data": {
      "image/png": "[encoded data removed]",
      "text/plain": [
       "<Figure size 864x432 with 2 Axes>"
      ]
     },
     "metadata": {
      "needs_background": "light"
     },
     "output_type": "display_data"
    }
   ],
   "source": [
    "matplotlib.rcParams['figure.figsize'] = (12.0, 6.0)\n",
    "masked_order = pd.DataFrame({\"masked_order\":y, \"log(masked_order + 1)\":np.log1p(y)})\n",
    "masked_order.hist()"
   ]
  },
  {
   "cell_type": "markdown",
   "metadata": {},
   "source": [
    "<h4> Log Transformation </h4>"
   ]
  },
  {
   "cell_type": "code",
   "execution_count": 17,
   "metadata": {},
   "outputs": [
    {
     "name": "stderr",
     "output_type": "stream",
     "text": [
      "/Users/miya/anaconda3/lib/python3.7/site-packages/pandas/core/frame.py:3641: SettingWithCopyWarning: \n",
      "A value is trying to be set on a copy of a slice from a DataFrame.\n",
      "Try using .loc[row_indexer,col_indexer] = value instead\n",
      "\n",
      "See the caveats in the documentation: https://pandas.pydata.org/pandas-docs/stable/user_guide/indexing.html#returning-a-view-versus-a-copy\n",
      "  self[k1] = value[k2]\n"
     ]
    }
   ],
   "source": [
    "#log transform the target:\n",
    "y = np.log1p(y)\n",
    "\n",
    "#log transform skewed numeric features:\n",
    "numeric_feats = X.dtypes[X.dtypes != \"object\"].index\n",
    "\n",
    "skewed_feats = X[numeric_feats].apply(lambda x: skew(x.dropna())) #compute skewness\n",
    "skewed_feats = skewed_feats[skewed_feats > 0.75]\n",
    "skewed_feats = skewed_feats.index\n",
    "\n",
    "X[skewed_feats] = np.log1p(X[skewed_feats])"
   ]
  },
  {
   "cell_type": "code",
   "execution_count": 18,
   "metadata": {},
   "outputs": [],
   "source": [
    "from sklearn.model_selection import  train_test_split\n",
    "X_train, X_test, y_train, y_test = train_test_split(X, y, test_size=0.33, random_state=42)"
   ]
  },
  {
   "cell_type": "markdown",
   "metadata": {},
   "source": [
    "<h3> RandomForestRegressor Model </h3>"
   ]
  },
  {
   "cell_type": "code",
   "execution_count": 19,
   "metadata": {},
   "outputs": [
    {
     "name": "stdout",
     "output_type": "stream",
     "text": [
      "[ 1.85695022  1.82321375  5.759283   ...  1.2024879  11.565657\n",
      "  0.        ]\n",
      "MSE for Random Forest Regressor: 0.2616579192444823\n"
     ]
    }
   ],
   "source": [
    "from sklearn.ensemble import RandomForestRegressor\n",
    "import pandas as pd\n",
    "from sklearn import metrics\n",
    "RFregressor_model = RandomForestRegressor()\n",
    "RFregressor_model.fit(X_train,y_train)\n",
    "\n",
    "test_predicted_orders = RFregressor_model.predict(X_test)\n",
    "print(test_predicted_orders)\n",
    "print(\"MSE for Random Forest Regressor:\",metrics.mean_squared_log_error(test_predicted_orders, y_test))\n",
    "# print(metrics.mean_squared_log_error(predicted_prices, y_test))"
   ]
  },
  {
   "cell_type": "code",
   "execution_count": 20,
   "metadata": {},
   "outputs": [
    {
     "data": {
      "text/plain": [
       "0.8094871787432051"
      ]
     },
     "execution_count": 20,
     "metadata": {},
     "output_type": "execute_result"
    }
   ],
   "source": [
    "#evaluation\n",
    "from sklearn.metrics import r2_score\n",
    "r2_score(y_test, test_predicted_orders)"
   ]
  },
  {
   "cell_type": "markdown",
   "metadata": {},
   "source": [
    "<h4> Actual Prediction </h4>"
   ]
  },
  {
   "cell_type": "code",
   "execution_count": 21,
   "metadata": {},
   "outputs": [],
   "source": [
    "#dataset\n",
    "X = raw_matched_data[features]"
   ]
  },
  {
   "cell_type": "code",
   "execution_count": 22,
   "metadata": {},
   "outputs": [
    {
     "data": {
      "text/plain": [
       "array([25.99681978, 28.57046114, 28.57046114, ...,  2.59855926,\n",
       "        2.22804472, 28.57046114])"
      ]
     },
     "execution_count": 22,
     "metadata": {},
     "output_type": "execute_result"
    }
   ],
   "source": [
    "predicted_orders = RFregressor_model.predict(X)\n",
    "predicted_orders"
   ]
  },
  {
   "cell_type": "code",
   "execution_count": 23,
   "metadata": {},
   "outputs": [],
   "source": [
    "raw_matched_data.loc[:,'predicted_orders'] = predicted_orders\n",
    "campaignday_prediction = raw_matched_data[raw_matched_data['performance_date'] == 8]"
   ]
  },
  {
   "cell_type": "code",
   "execution_count": 24,
   "metadata": {},
   "outputs": [],
   "source": [
    "sorted_campaignday_prediction = campaignday_prediction.sort_values(by = 'predicted_orders',ascending = False)"
   ]
  },
  {
   "cell_type": "code",
   "execution_count": 25,
   "metadata": {
    "scrolled": true
   },
   "outputs": [
    {
     "data": {
      "text/plain": [
       "18038"
      ]
     },
     "execution_count": 25,
     "metadata": {},
     "output_type": "execute_result"
    }
   ],
   "source": [
    "len(sorted_campaignday_prediction)"
   ]
  },
  {
   "cell_type": "markdown",
   "metadata": {},
   "source": [
    "<h4> Option 1: Top N Percentage Selection Method </h4>"
   ]
  },
  {
   "cell_type": "code",
   "execution_count": 26,
   "metadata": {},
   "outputs": [],
   "source": [
    "n_percentage = 20\n",
    "top_n_per_matched_shops = sorted_campaignday_prediction.head(int(len(sorted_campaignday_prediction)*(n_percentage/100)))"
   ]
  },
  {
   "cell_type": "code",
   "execution_count": 27,
   "metadata": {},
   "outputs": [
    {
     "data": {
      "text/plain": [
       "3607"
      ]
     },
     "execution_count": 27,
     "metadata": {},
     "output_type": "execute_result"
    }
   ],
   "source": [
    "len(top_n_per_matched_shops)"
   ]
  },
  {
   "cell_type": "code",
   "execution_count": 28,
   "metadata": {},
   "outputs": [
    {
     "data": {
      "text/plain": [
       "0    2559\n",
       "1     804\n",
       "4     131\n",
       "2     110\n",
       "3       3\n",
       "Name: rf_label, dtype: int64"
      ]
     },
     "execution_count": 28,
     "metadata": {},
     "output_type": "execute_result"
    }
   ],
   "source": [
    "# top n distribution\n",
    "topn_dist = top_n_per_matched_shops['rf_label'].value_counts()\n",
    "topn_dist"
   ]
  },
  {
   "cell_type": "code",
   "execution_count": 29,
   "metadata": {},
   "outputs": [
    {
     "data": {
      "text/plain": [
       "0    228494\n",
       "1     18410\n",
       "2      3066\n",
       "4      2520\n",
       "3        42\n",
       "Name: rf_label, dtype: int64"
      ]
     },
     "execution_count": 29,
     "metadata": {},
     "output_type": "execute_result"
    }
   ],
   "source": [
    "# original distribution\n",
    "raw_dist = raw_matched_data['rf_label'].value_counts()\n",
    "raw_dist"
   ]
  },
  {
   "cell_type": "code",
   "execution_count": 30,
   "metadata": {},
   "outputs": [
    {
     "data": {
      "text/html": [
       "<div>\n",
       "<style scoped>\n",
       "    .dataframe tbody tr th:only-of-type {\n",
       "        vertical-align: middle;\n",
       "    }\n",
       "\n",
       "    .dataframe tbody tr th {\n",
       "        vertical-align: top;\n",
       "    }\n",
       "\n",
       "    .dataframe thead th {\n",
       "        text-align: right;\n",
       "    }\n",
       "</style>\n",
       "<table border=\"1\" class=\"dataframe\">\n",
       "  <thead>\n",
       "    <tr style=\"text-align: right;\">\n",
       "      <th></th>\n",
       "      <th>top n numbers</th>\n",
       "      <th>cluster numbers</th>\n",
       "    </tr>\n",
       "  </thead>\n",
       "  <tbody>\n",
       "    <tr>\n",
       "      <th>0</th>\n",
       "      <td>2559</td>\n",
       "      <td>228494</td>\n",
       "    </tr>\n",
       "    <tr>\n",
       "      <th>1</th>\n",
       "      <td>804</td>\n",
       "      <td>18410</td>\n",
       "    </tr>\n",
       "    <tr>\n",
       "      <th>2</th>\n",
       "      <td>110</td>\n",
       "      <td>3066</td>\n",
       "    </tr>\n",
       "    <tr>\n",
       "      <th>3</th>\n",
       "      <td>3</td>\n",
       "      <td>42</td>\n",
       "    </tr>\n",
       "    <tr>\n",
       "      <th>4</th>\n",
       "      <td>131</td>\n",
       "      <td>2520</td>\n",
       "    </tr>\n",
       "  </tbody>\n",
       "</table>\n",
       "</div>"
      ],
      "text/plain": [
       "   top n numbers  cluster numbers\n",
       "0           2559           228494\n",
       "1            804            18410\n",
       "2            110             3066\n",
       "3              3               42\n",
       "4            131             2520"
      ]
     },
     "execution_count": 30,
     "metadata": {},
     "output_type": "execute_result"
    }
   ],
   "source": [
    "per_pd = pd.DataFrame({'top n numbers':topn_dist,'cluster numbers':raw_dist})\n",
    "per_pd"
   ]
  },
  {
   "cell_type": "code",
   "execution_count": 31,
   "metadata": {},
   "outputs": [],
   "source": [
    "per_pd.loc[:,'percentage'] = per_pd['top n numbers'].values/per_pd['cluster numbers'].values"
   ]
  },
  {
   "cell_type": "code",
   "execution_count": 32,
   "metadata": {},
   "outputs": [
    {
     "data": {
      "text/html": [
       "<div>\n",
       "<style scoped>\n",
       "    .dataframe tbody tr th:only-of-type {\n",
       "        vertical-align: middle;\n",
       "    }\n",
       "\n",
       "    .dataframe tbody tr th {\n",
       "        vertical-align: top;\n",
       "    }\n",
       "\n",
       "    .dataframe thead th {\n",
       "        text-align: right;\n",
       "    }\n",
       "</style>\n",
       "<table border=\"1\" class=\"dataframe\">\n",
       "  <thead>\n",
       "    <tr style=\"text-align: right;\">\n",
       "      <th></th>\n",
       "      <th>top n numbers</th>\n",
       "      <th>cluster numbers</th>\n",
       "      <th>percentage</th>\n",
       "    </tr>\n",
       "  </thead>\n",
       "  <tbody>\n",
       "    <tr>\n",
       "      <th>3</th>\n",
       "      <td>3</td>\n",
       "      <td>42</td>\n",
       "      <td>0.071429</td>\n",
       "    </tr>\n",
       "    <tr>\n",
       "      <th>4</th>\n",
       "      <td>131</td>\n",
       "      <td>2520</td>\n",
       "      <td>0.051984</td>\n",
       "    </tr>\n",
       "    <tr>\n",
       "      <th>1</th>\n",
       "      <td>804</td>\n",
       "      <td>18410</td>\n",
       "      <td>0.043672</td>\n",
       "    </tr>\n",
       "    <tr>\n",
       "      <th>2</th>\n",
       "      <td>110</td>\n",
       "      <td>3066</td>\n",
       "      <td>0.035877</td>\n",
       "    </tr>\n",
       "    <tr>\n",
       "      <th>0</th>\n",
       "      <td>2559</td>\n",
       "      <td>228494</td>\n",
       "      <td>0.011199</td>\n",
       "    </tr>\n",
       "  </tbody>\n",
       "</table>\n",
       "</div>"
      ],
      "text/plain": [
       "   top n numbers  cluster numbers  percentage\n",
       "3              3               42    0.071429\n",
       "4            131             2520    0.051984\n",
       "1            804            18410    0.043672\n",
       "2            110             3066    0.035877\n",
       "0           2559           228494    0.011199"
      ]
     },
     "execution_count": 32,
     "metadata": {},
     "output_type": "execute_result"
    }
   ],
   "source": [
    "topn_result_df = per_pd.sort_values(by = 'percentage',ascending = False)\n",
    "topn_result_df"
   ]
  },
  {
   "cell_type": "code",
   "execution_count": 39,
   "metadata": {},
   "outputs": [
    {
     "data": {
      "text/html": [
       "<div>\n",
       "<style scoped>\n",
       "    .dataframe tbody tr th:only-of-type {\n",
       "        vertical-align: middle;\n",
       "    }\n",
       "\n",
       "    .dataframe tbody tr th {\n",
       "        vertical-align: top;\n",
       "    }\n",
       "\n",
       "    .dataframe thead th {\n",
       "        text-align: right;\n",
       "    }\n",
       "</style>\n",
       "<table border=\"1\" class=\"dataframe\">\n",
       "  <thead>\n",
       "    <tr style=\"text-align: right;\">\n",
       "      <th></th>\n",
       "      <th>cluster label</th>\n",
       "      <th>top n numbers</th>\n",
       "      <th>cluster numbers</th>\n",
       "      <th>percentage</th>\n",
       "    </tr>\n",
       "  </thead>\n",
       "  <tbody>\n",
       "    <tr>\n",
       "      <th>0</th>\n",
       "      <td>3</td>\n",
       "      <td>3</td>\n",
       "      <td>42</td>\n",
       "      <td>0.071429</td>\n",
       "    </tr>\n",
       "    <tr>\n",
       "      <th>1</th>\n",
       "      <td>4</td>\n",
       "      <td>131</td>\n",
       "      <td>2520</td>\n",
       "      <td>0.051984</td>\n",
       "    </tr>\n",
       "    <tr>\n",
       "      <th>2</th>\n",
       "      <td>1</td>\n",
       "      <td>804</td>\n",
       "      <td>18410</td>\n",
       "      <td>0.043672</td>\n",
       "    </tr>\n",
       "    <tr>\n",
       "      <th>3</th>\n",
       "      <td>2</td>\n",
       "      <td>110</td>\n",
       "      <td>3066</td>\n",
       "      <td>0.035877</td>\n",
       "    </tr>\n",
       "    <tr>\n",
       "      <th>4</th>\n",
       "      <td>0</td>\n",
       "      <td>2559</td>\n",
       "      <td>228494</td>\n",
       "      <td>0.011199</td>\n",
       "    </tr>\n",
       "  </tbody>\n",
       "</table>\n",
       "</div>"
      ],
      "text/plain": [
       "   cluster label  top n numbers  cluster numbers  percentage\n",
       "0              3              3               42    0.071429\n",
       "1              4            131             2520    0.051984\n",
       "2              1            804            18410    0.043672\n",
       "3              2            110             3066    0.035877\n",
       "4              0           2559           228494    0.011199"
      ]
     },
     "execution_count": 39,
     "metadata": {},
     "output_type": "execute_result"
    }
   ],
   "source": [
    "topn_result_df.index.name = 'cluster label'\n",
    "topn_result_df = topn_result_df.reset_index()\n",
    "col_name = topn_result_df.index.name\n",
    "topn_result_df"
   ]
  },
  {
   "cell_type": "code",
   "execution_count": 40,
   "metadata": {},
   "outputs": [
    {
     "data": {
      "image/png": "[encoded data removed]",
      "text/plain": [
       "<Figure size 4200x5600 with 1 Axes>"
      ]
     },
     "metadata": {
      "needs_background": "light"
     },
     "output_type": "display_data"
    }
   ],
   "source": [
    "from pandas.plotting import table\n",
    "fig = plt.figure(figsize=(3,4), dpi =1400)\n",
    "ax = fig.add_subplot(111,frame_on=False)\n",
    "ax.xaxis.set_visible(False)\n",
    "ax.yaxis.set_visible(False)\n",
    "\n",
    "table(ax, topn_result_df, loc = 'center')\n",
    "plt.savefig('matched_cluster.png')"
   ]
  },
  {
   "cell_type": "code",
   "execution_count": null,
   "metadata": {},
   "outputs": [],
   "source": []
  },
  {
   "cell_type": "markdown",
   "metadata": {},
   "source": [
    "<h4> Option 2: Avergae Selection </h4>"
   ]
  },
  {
   "cell_type": "code",
   "execution_count": 37,
   "metadata": {},
   "outputs": [
    {
     "data": {
      "text/plain": [
       "rf_label\n",
       "4    28.864506\n",
       "3    28.810080\n",
       "1    28.753688\n",
       "2    27.604969\n",
       "0    19.659321\n",
       "Name: predicted_orders, dtype: float64"
      ]
     },
     "execution_count": 37,
     "metadata": {},
     "output_type": "execute_result"
    }
   ],
   "source": [
    "avg_result = sorted_campaignday_prediction.groupby('rf_label').mean()['predicted_orders'].sort_values(ascending = False)\n",
    "avg_result"
   ]
  },
  {
   "cell_type": "code",
   "execution_count": 38,
   "metadata": {},
   "outputs": [
    {
     "data": {
      "text/plain": [
       "rf_label\n",
       "1    28.995914\n",
       "4    28.995914\n",
       "2    28.732800\n",
       "3    28.732800\n",
       "0    28.634399\n",
       "Name: predicted_orders, dtype: float64"
      ]
     },
     "execution_count": 38,
     "metadata": {},
     "output_type": "execute_result"
    }
   ],
   "source": [
    "median_result = sorted_campaignday_prediction.groupby('rf_label').median()['predicted_orders'].sort_values(ascending = False)\n",
    "median_result"
   ]
  },
  {
   "cell_type": "markdown",
   "metadata": {},
   "source": [
    "<h4> Output </h4>"
   ]
  },
  {
   "cell_type": "code",
   "execution_count": 52,
   "metadata": {},
   "outputs": [
    {
     "data": {
      "text/plain": [
       "[4, 3]"
      ]
     },
     "execution_count": 52,
     "metadata": {},
     "output_type": "execute_result"
    }
   ],
   "source": [
    "selected_clusters = [topn_result_df.index[0],topn_result_df.index[1]]\n",
    "selected_clusters"
   ]
  },
  {
   "cell_type": "code",
   "execution_count": 59,
   "metadata": {},
   "outputs": [
    {
     "data": {
      "text/html": [
       "<div>\n",
       "<style scoped>\n",
       "    .dataframe tbody tr th:only-of-type {\n",
       "        vertical-align: middle;\n",
       "    }\n",
       "\n",
       "    .dataframe tbody tr th {\n",
       "        vertical-align: top;\n",
       "    }\n",
       "\n",
       "    .dataframe thead th {\n",
       "        text-align: right;\n",
       "    }\n",
       "</style>\n",
       "<table border=\"1\" class=\"dataframe\">\n",
       "  <thead>\n",
       "    <tr style=\"text-align: right;\">\n",
       "      <th></th>\n",
       "      <th>manage_shop_indicator</th>\n",
       "      <th>officialstore_indicator</th>\n",
       "      <th>preferred_shop_indicator</th>\n",
       "      <th>crossborder_indicator</th>\n",
       "      <th>shop_category</th>\n",
       "      <th>new_seller_flag</th>\n",
       "      <th>seller_centre_login_L30D</th>\n",
       "      <th>shop_sku_number</th>\n",
       "      <th>shop_follower_number</th>\n",
       "      <th>shop_L180D_order</th>\n",
       "      <th>...</th>\n",
       "      <th>performance_date</th>\n",
       "      <th>masked_item_impression</th>\n",
       "      <th>masked_order</th>\n",
       "      <th>masked_shop_page_view</th>\n",
       "      <th>masked_shop_click_from_search</th>\n",
       "      <th>masked_campaign_tab_click</th>\n",
       "      <th>masked_other_tab_click</th>\n",
       "      <th>shop_index</th>\n",
       "      <th>rf_label</th>\n",
       "      <th>predicted_orders</th>\n",
       "    </tr>\n",
       "  </thead>\n",
       "  <tbody>\n",
       "    <tr>\n",
       "      <th>938</th>\n",
       "      <td>0</td>\n",
       "      <td>0</td>\n",
       "      <td>0</td>\n",
       "      <td>1</td>\n",
       "      <td>7</td>\n",
       "      <td>0</td>\n",
       "      <td>16</td>\n",
       "      <td>11093</td>\n",
       "      <td>972</td>\n",
       "      <td>405</td>\n",
       "      <td>...</td>\n",
       "      <td>13</td>\n",
       "      <td>1062961.0</td>\n",
       "      <td>0.0</td>\n",
       "      <td>0</td>\n",
       "      <td>17.684211</td>\n",
       "      <td>11</td>\n",
       "      <td>23.842105</td>\n",
       "      <td>1357898220</td>\n",
       "      <td>4</td>\n",
       "      <td>28.995914</td>\n",
       "    </tr>\n",
       "    <tr>\n",
       "      <th>939</th>\n",
       "      <td>0</td>\n",
       "      <td>0</td>\n",
       "      <td>0</td>\n",
       "      <td>1</td>\n",
       "      <td>7</td>\n",
       "      <td>0</td>\n",
       "      <td>16</td>\n",
       "      <td>11093</td>\n",
       "      <td>972</td>\n",
       "      <td>405</td>\n",
       "      <td>...</td>\n",
       "      <td>6</td>\n",
       "      <td>1085764.0</td>\n",
       "      <td>0.0</td>\n",
       "      <td>0</td>\n",
       "      <td>25.210526</td>\n",
       "      <td>11</td>\n",
       "      <td>25.578947</td>\n",
       "      <td>1357898220</td>\n",
       "      <td>4</td>\n",
       "      <td>28.995914</td>\n",
       "    </tr>\n",
       "    <tr>\n",
       "      <th>940</th>\n",
       "      <td>0</td>\n",
       "      <td>0</td>\n",
       "      <td>0</td>\n",
       "      <td>1</td>\n",
       "      <td>7</td>\n",
       "      <td>0</td>\n",
       "      <td>16</td>\n",
       "      <td>11093</td>\n",
       "      <td>972</td>\n",
       "      <td>405</td>\n",
       "      <td>...</td>\n",
       "      <td>12</td>\n",
       "      <td>1046529.0</td>\n",
       "      <td>0.0</td>\n",
       "      <td>0</td>\n",
       "      <td>38.894737</td>\n",
       "      <td>11</td>\n",
       "      <td>23.842105</td>\n",
       "      <td>1357898220</td>\n",
       "      <td>4</td>\n",
       "      <td>28.995914</td>\n",
       "    </tr>\n",
       "    <tr>\n",
       "      <th>941</th>\n",
       "      <td>0</td>\n",
       "      <td>0</td>\n",
       "      <td>0</td>\n",
       "      <td>1</td>\n",
       "      <td>7</td>\n",
       "      <td>0</td>\n",
       "      <td>16</td>\n",
       "      <td>11093</td>\n",
       "      <td>972</td>\n",
       "      <td>405</td>\n",
       "      <td>...</td>\n",
       "      <td>3</td>\n",
       "      <td>1272384.0</td>\n",
       "      <td>0.0</td>\n",
       "      <td>0</td>\n",
       "      <td>11.157895</td>\n",
       "      <td>11</td>\n",
       "      <td>31.368421</td>\n",
       "      <td>1357898220</td>\n",
       "      <td>4</td>\n",
       "      <td>28.701525</td>\n",
       "    </tr>\n",
       "    <tr>\n",
       "      <th>942</th>\n",
       "      <td>0</td>\n",
       "      <td>0</td>\n",
       "      <td>0</td>\n",
       "      <td>1</td>\n",
       "      <td>7</td>\n",
       "      <td>0</td>\n",
       "      <td>16</td>\n",
       "      <td>11093</td>\n",
       "      <td>972</td>\n",
       "      <td>405</td>\n",
       "      <td>...</td>\n",
       "      <td>14</td>\n",
       "      <td>833569.0</td>\n",
       "      <td>0.0</td>\n",
       "      <td>0</td>\n",
       "      <td>104.631579</td>\n",
       "      <td>11</td>\n",
       "      <td>18.631579</td>\n",
       "      <td>1357898220</td>\n",
       "      <td>4</td>\n",
       "      <td>28.995914</td>\n",
       "    </tr>\n",
       "    <tr>\n",
       "      <th>...</th>\n",
       "      <td>...</td>\n",
       "      <td>...</td>\n",
       "      <td>...</td>\n",
       "      <td>...</td>\n",
       "      <td>...</td>\n",
       "      <td>...</td>\n",
       "      <td>...</td>\n",
       "      <td>...</td>\n",
       "      <td>...</td>\n",
       "      <td>...</td>\n",
       "      <td>...</td>\n",
       "      <td>...</td>\n",
       "      <td>...</td>\n",
       "      <td>...</td>\n",
       "      <td>...</td>\n",
       "      <td>...</td>\n",
       "      <td>...</td>\n",
       "      <td>...</td>\n",
       "      <td>...</td>\n",
       "      <td>...</td>\n",
       "      <td>...</td>\n",
       "    </tr>\n",
       "    <tr>\n",
       "      <th>97295</th>\n",
       "      <td>0</td>\n",
       "      <td>0</td>\n",
       "      <td>0</td>\n",
       "      <td>1</td>\n",
       "      <td>20</td>\n",
       "      <td>0</td>\n",
       "      <td>23</td>\n",
       "      <td>4680</td>\n",
       "      <td>2196</td>\n",
       "      <td>6372</td>\n",
       "      <td>...</td>\n",
       "      <td>12</td>\n",
       "      <td>4194304.0</td>\n",
       "      <td>27.0</td>\n",
       "      <td>0</td>\n",
       "      <td>12.631579</td>\n",
       "      <td>11</td>\n",
       "      <td>35.421053</td>\n",
       "      <td>893346345</td>\n",
       "      <td>3</td>\n",
       "      <td>28.976367</td>\n",
       "    </tr>\n",
       "    <tr>\n",
       "      <th>97296</th>\n",
       "      <td>0</td>\n",
       "      <td>0</td>\n",
       "      <td>0</td>\n",
       "      <td>1</td>\n",
       "      <td>20</td>\n",
       "      <td>0</td>\n",
       "      <td>23</td>\n",
       "      <td>4680</td>\n",
       "      <td>2196</td>\n",
       "      <td>6372</td>\n",
       "      <td>...</td>\n",
       "      <td>7</td>\n",
       "      <td>6466849.0</td>\n",
       "      <td>8.0</td>\n",
       "      <td>0</td>\n",
       "      <td>24.263158</td>\n",
       "      <td>11</td>\n",
       "      <td>14.000000</td>\n",
       "      <td>893346345</td>\n",
       "      <td>3</td>\n",
       "      <td>28.995914</td>\n",
       "    </tr>\n",
       "    <tr>\n",
       "      <th>97297</th>\n",
       "      <td>0</td>\n",
       "      <td>0</td>\n",
       "      <td>0</td>\n",
       "      <td>1</td>\n",
       "      <td>20</td>\n",
       "      <td>0</td>\n",
       "      <td>23</td>\n",
       "      <td>4680</td>\n",
       "      <td>2196</td>\n",
       "      <td>6372</td>\n",
       "      <td>...</td>\n",
       "      <td>8</td>\n",
       "      <td>20666116.0</td>\n",
       "      <td>343.0</td>\n",
       "      <td>0</td>\n",
       "      <td>57.947368</td>\n",
       "      <td>11</td>\n",
       "      <td>14.000000</td>\n",
       "      <td>893346345</td>\n",
       "      <td>3</td>\n",
       "      <td>28.995914</td>\n",
       "    </tr>\n",
       "    <tr>\n",
       "      <th>97298</th>\n",
       "      <td>0</td>\n",
       "      <td>0</td>\n",
       "      <td>0</td>\n",
       "      <td>1</td>\n",
       "      <td>20</td>\n",
       "      <td>0</td>\n",
       "      <td>23</td>\n",
       "      <td>4680</td>\n",
       "      <td>2196</td>\n",
       "      <td>6372</td>\n",
       "      <td>...</td>\n",
       "      <td>4</td>\n",
       "      <td>4068289.0</td>\n",
       "      <td>27.0</td>\n",
       "      <td>0</td>\n",
       "      <td>4.210526</td>\n",
       "      <td>11</td>\n",
       "      <td>53.368421</td>\n",
       "      <td>893346345</td>\n",
       "      <td>3</td>\n",
       "      <td>28.634399</td>\n",
       "    </tr>\n",
       "    <tr>\n",
       "      <th>97299</th>\n",
       "      <td>0</td>\n",
       "      <td>0</td>\n",
       "      <td>0</td>\n",
       "      <td>1</td>\n",
       "      <td>20</td>\n",
       "      <td>0</td>\n",
       "      <td>23</td>\n",
       "      <td>4680</td>\n",
       "      <td>2196</td>\n",
       "      <td>6372</td>\n",
       "      <td>...</td>\n",
       "      <td>11</td>\n",
       "      <td>3829849.0</td>\n",
       "      <td>27.0</td>\n",
       "      <td>0</td>\n",
       "      <td>139.210526</td>\n",
       "      <td>11</td>\n",
       "      <td>39.473684</td>\n",
       "      <td>893346345</td>\n",
       "      <td>3</td>\n",
       "      <td>28.995914</td>\n",
       "    </tr>\n",
       "  </tbody>\n",
       "</table>\n",
       "<p>2562 rows × 21 columns</p>\n",
       "</div>"
      ],
      "text/plain": [
       "       manage_shop_indicator  officialstore_indicator  \\\n",
       "938                        0                        0   \n",
       "939                        0                        0   \n",
       "940                        0                        0   \n",
       "941                        0                        0   \n",
       "942                        0                        0   \n",
       "...                      ...                      ...   \n",
       "97295                      0                        0   \n",
       "97296                      0                        0   \n",
       "97297                      0                        0   \n",
       "97298                      0                        0   \n",
       "97299                      0                        0   \n",
       "\n",
       "       preferred_shop_indicator  crossborder_indicator  shop_category  \\\n",
       "938                           0                      1              7   \n",
       "939                           0                      1              7   \n",
       "940                           0                      1              7   \n",
       "941                           0                      1              7   \n",
       "942                           0                      1              7   \n",
       "...                         ...                    ...            ...   \n",
       "97295                         0                      1             20   \n",
       "97296                         0                      1             20   \n",
       "97297                         0                      1             20   \n",
       "97298                         0                      1             20   \n",
       "97299                         0                      1             20   \n",
       "\n",
       "       new_seller_flag  seller_centre_login_L30D  shop_sku_number  \\\n",
       "938                  0                        16            11093   \n",
       "939                  0                        16            11093   \n",
       "940                  0                        16            11093   \n",
       "941                  0                        16            11093   \n",
       "942                  0                        16            11093   \n",
       "...                ...                       ...              ...   \n",
       "97295                0                        23             4680   \n",
       "97296                0                        23             4680   \n",
       "97297                0                        23             4680   \n",
       "97298                0                        23             4680   \n",
       "97299                0                        23             4680   \n",
       "\n",
       "       shop_follower_number  shop_L180D_order  ...  performance_date  \\\n",
       "938                     972               405  ...                13   \n",
       "939                     972               405  ...                 6   \n",
       "940                     972               405  ...                12   \n",
       "941                     972               405  ...                 3   \n",
       "942                     972               405  ...                14   \n",
       "...                     ...               ...  ...               ...   \n",
       "97295                  2196              6372  ...                12   \n",
       "97296                  2196              6372  ...                 7   \n",
       "97297                  2196              6372  ...                 8   \n",
       "97298                  2196              6372  ...                 4   \n",
       "97299                  2196              6372  ...                11   \n",
       "\n",
       "       masked_item_impression  masked_order  masked_shop_page_view  \\\n",
       "938                 1062961.0           0.0                      0   \n",
       "939                 1085764.0           0.0                      0   \n",
       "940                 1046529.0           0.0                      0   \n",
       "941                 1272384.0           0.0                      0   \n",
       "942                  833569.0           0.0                      0   \n",
       "...                       ...           ...                    ...   \n",
       "97295               4194304.0          27.0                      0   \n",
       "97296               6466849.0           8.0                      0   \n",
       "97297              20666116.0         343.0                      0   \n",
       "97298               4068289.0          27.0                      0   \n",
       "97299               3829849.0          27.0                      0   \n",
       "\n",
       "       masked_shop_click_from_search  masked_campaign_tab_click  \\\n",
       "938                        17.684211                         11   \n",
       "939                        25.210526                         11   \n",
       "940                        38.894737                         11   \n",
       "941                        11.157895                         11   \n",
       "942                       104.631579                         11   \n",
       "...                              ...                        ...   \n",
       "97295                      12.631579                         11   \n",
       "97296                      24.263158                         11   \n",
       "97297                      57.947368                         11   \n",
       "97298                       4.210526                         11   \n",
       "97299                     139.210526                         11   \n",
       "\n",
       "       masked_other_tab_click  shop_index  rf_label  predicted_orders  \n",
       "938                 23.842105  1357898220         4         28.995914  \n",
       "939                 25.578947  1357898220         4         28.995914  \n",
       "940                 23.842105  1357898220         4         28.995914  \n",
       "941                 31.368421  1357898220         4         28.701525  \n",
       "942                 18.631579  1357898220         4         28.995914  \n",
       "...                       ...         ...       ...               ...  \n",
       "97295               35.421053   893346345         3         28.976367  \n",
       "97296               14.000000   893346345         3         28.995914  \n",
       "97297               14.000000   893346345         3         28.995914  \n",
       "97298               53.368421   893346345         3         28.634399  \n",
       "97299               39.473684   893346345         3         28.995914  \n",
       "\n",
       "[2562 rows x 21 columns]"
      ]
     },
     "execution_count": 59,
     "metadata": {},
     "output_type": "execute_result"
    }
   ],
   "source": [
    "selected_matched_data = pd.concat([raw_matched_data[raw_matched_data['rf_label'] == selected_clusters[0]],raw_matched_data[raw_matched_data['rf_label'] == selected_clusters[1]]])\n",
    "selected_matched_data"
   ]
  },
  {
   "cell_type": "code",
   "execution_count": 60,
   "metadata": {},
   "outputs": [],
   "source": [
    "selected_matched_data.to_csv(r'selected_matched_shops.csv', index = False)"
   ]
  },
  {
   "cell_type": "markdown",
   "metadata": {},
   "source": [
    "<h1> KPI Prediction </h1>"
   ]
  },
  {
   "cell_type": "markdown",
   "metadata": {},
   "source": [
    "<h4> Matched KPI Prediction  </h4>"
   ]
  },
  {
   "cell_type": "code",
   "execution_count": 68,
   "metadata": {},
   "outputs": [
    {
     "data": {
      "text/plain": [
       "938      28.995914\n",
       "939      28.995914\n",
       "940      28.995914\n",
       "941      28.701525\n",
       "942      28.995914\n",
       "           ...    \n",
       "97295    28.976367\n",
       "97296    28.995914\n",
       "97297    28.995914\n",
       "97298    28.634399\n",
       "97299    28.995914\n",
       "Name: predicted_orders, Length: 2562, dtype: float64"
      ]
     },
     "execution_count": 68,
     "metadata": {},
     "output_type": "execute_result"
    }
   ],
   "source": [
    "KPI_matched = selected_matched_data['predicted_orders']\n",
    "KPI_matched"
   ]
  },
  {
   "cell_type": "markdown",
   "metadata": {},
   "source": [
    "<h4> Unmatched KPI Prediction </h4>"
   ]
  },
  {
   "cell_type": "code",
   "execution_count": 71,
   "metadata": {},
   "outputs": [],
   "source": [
    "unmatched_data = pd.read_csv('selected_unmatch.csv')\n",
    "X_unmatched = unmatched_data[features]"
   ]
  },
  {
   "cell_type": "code",
   "execution_count": 72,
   "metadata": {},
   "outputs": [],
   "source": [
    "KPI_unmatched = RFregressor_model.predict(X_unmatched)"
   ]
  },
  {
   "cell_type": "code",
   "execution_count": 73,
   "metadata": {},
   "outputs": [
    {
     "data": {
      "text/plain": [
       "array([28.99591385, 28.99591385, 28.63439907, 28.99591385, 28.99591385,\n",
       "       28.99591385, 28.99591385, 28.70152481, 28.99591385, 28.99591385,\n",
       "       28.99591385, 28.99591385, 28.63439907, 28.63439907, 28.63439907,\n",
       "       28.63439907, 28.76800304, 28.63439907, 28.70152481, 28.63439907,\n",
       "       28.99591385, 28.99591385, 28.63439907, 28.63439907, 28.99591385,\n",
       "       28.63439907, 28.99591385, 28.63439907, 28.63439907, 28.99591385,\n",
       "       28.99591385, 28.99591385, 28.99591385, 28.63439907, 28.73280045,\n",
       "       28.65441818, 28.64659358, 28.99591385, 28.99591385, 28.99591385,\n",
       "       28.99591385, 28.63439907, 28.99591385, 28.63439907, 28.73280045,\n",
       "       28.63439907, 28.99591385, 28.99591385, 28.99591385, 28.99591385,\n",
       "       28.99591385, 28.63439907, 28.99591385, 28.99591385, 28.99591385,\n",
       "       28.63439907, 28.99591385, 28.73280045, 28.63439907, 28.99591385,\n",
       "       28.99591385, 28.99591385, 28.97636699, 28.99591385, 28.63439907,\n",
       "       28.99591385, 28.99591385, 28.99591385, 28.99591385, 28.99591385,\n",
       "       28.99591385, 28.63439907, 28.99591385, 28.99591385, 28.63439907,\n",
       "       28.99591385, 28.63439907, 28.99591385, 28.99591385, 28.99591385,\n",
       "       28.99591385, 28.99591385, 28.63439907, 28.73280045, 28.99591385,\n",
       "       28.99591385, 28.63439907, 28.63439907, 28.99591385, 28.73280045,\n",
       "       28.99591385, 28.99591385, 28.73280045, 28.99591385, 28.63439907,\n",
       "       28.63439907, 28.63439907, 28.99591385, 28.64659358, 28.63439907,\n",
       "       28.76149648, 28.73280045, 28.99591385, 28.73280045, 28.99591385,\n",
       "       28.99591385, 28.99591385, 28.63439907, 28.63439907, 28.63439907,\n",
       "       28.99591385, 28.63439907, 28.99591385, 28.73280045, 28.99591385,\n",
       "       28.63439907, 28.99591385, 28.99591385, 28.99591385, 28.99591385,\n",
       "       28.99591385, 28.99591385, 28.63439907, 28.99591385, 28.63439907,\n",
       "       28.63439907, 28.63439907, 28.73280045, 28.99591385, 28.63439907,\n",
       "       28.99591385, 28.99591385, 28.99591385, 28.99591385, 28.99591385,\n",
       "       28.63439907, 28.99591385, 28.99591385, 28.63439907, 28.99591385,\n",
       "       28.99591385, 28.99591385, 28.73280045, 28.99591385, 28.63439907,\n",
       "       28.99591385, 28.99591385, 28.63439907, 28.99591385, 28.99591385,\n",
       "       28.99591385, 28.99591385, 28.63439907, 28.63439907, 28.63439907,\n",
       "       28.63439907, 28.99591385, 28.73280045, 28.63439907, 28.99591385,\n",
       "       28.99591385, 28.99591385, 28.99591385, 28.73280045, 28.99591385,\n",
       "       28.99591385, 28.99591385, 28.73280045, 28.63439907, 28.63439907,\n",
       "       28.99591385, 28.99591385, 28.99591385, 28.99591385, 28.99591385,\n",
       "       28.63439907, 28.99591385, 28.63439907, 28.63439907, 28.63439907,\n",
       "       28.99591385, 28.99591385, 28.63439907, 28.99591385, 28.99591385,\n",
       "       28.63439907, 28.63439907, 28.99591385, 28.99591385, 28.99591385,\n",
       "       28.63439907, 28.63439907, 28.63439907, 28.99591385, 28.99591385,\n",
       "       28.73280045, 28.99591385, 28.99591385, 28.99591385, 28.99591385,\n",
       "       28.99591385, 28.99591385, 28.63439907, 28.99591385, 28.63439907,\n",
       "       28.63439907, 28.99591385, 28.63439907, 28.99591385, 28.63439907,\n",
       "       28.99591385, 28.99591385, 28.99591385, 28.99591385, 28.63439907,\n",
       "       28.99591385, 28.99591385, 28.99591385, 28.73280045, 28.99591385,\n",
       "       28.99591385, 28.73280045, 28.99591385, 28.63439907, 28.99591385,\n",
       "       28.63439907, 28.99591385, 28.99591385, 28.99591385, 28.73280045,\n",
       "       28.99591385, 28.73280045, 28.99591385, 28.99591385, 28.99591385,\n",
       "       28.73280045, 28.63439907, 28.99591385, 28.99591385, 28.99591385,\n",
       "       28.73280045, 28.99591385, 28.99591385, 28.99591385, 28.99591385,\n",
       "       28.99591385, 28.99591385, 28.73280045, 28.99591385, 28.99591385,\n",
       "       28.99591385, 28.99591385, 28.99591385, 28.99591385, 28.99591385,\n",
       "       28.99591385, 28.99591385, 28.99591385])"
      ]
     },
     "execution_count": 73,
     "metadata": {},
     "output_type": "execute_result"
    }
   ],
   "source": [
    "KPI_unmatched"
   ]
  },
  {
   "cell_type": "markdown",
   "metadata": {},
   "source": [
    "<h4> Whitelisted KPI Prediction </h4>"
   ]
  },
  {
   "cell_type": "code",
   "execution_count": 74,
   "metadata": {},
   "outputs": [],
   "source": [
    "whitelisted_shops = pd.read_csv('whitelist_filled_latest.csv')\n",
    "X_whitelist = whitelisted_shops[features]"
   ]
  },
  {
   "cell_type": "code",
   "execution_count": 75,
   "metadata": {},
   "outputs": [],
   "source": [
    "KPI_whitelisted = RFregressor_model.predict(X_whitelist)"
   ]
  },
  {
   "cell_type": "code",
   "execution_count": 76,
   "metadata": {},
   "outputs": [
    {
     "data": {
      "text/plain": [
       "array([28.99591385, 28.99591385, 28.99591385, ..., 28.99591385,\n",
       "       28.73280045, 28.99591385])"
      ]
     },
     "execution_count": 76,
     "metadata": {},
     "output_type": "execute_result"
    }
   ],
   "source": [
    "KPI_whitelisted"
   ]
  },
  {
   "cell_type": "markdown",
   "metadata": {},
   "source": [
    "<h4> Overall KPI </h4>"
   ]
  },
  {
   "cell_type": "code",
   "execution_count": 83,
   "metadata": {},
   "outputs": [
    {
     "data": {
      "text/plain": [
       "295585.48032787174"
      ]
     },
     "execution_count": 83,
     "metadata": {},
     "output_type": "execute_result"
    }
   ],
   "source": [
    "overall_KPI = sum(KPI_unmatched)+sum(KPI_whitelisted)+sum(KPI_matched)\n",
    "overall_KPI"
   ]
  },
  {
   "cell_type": "code",
   "execution_count": null,
   "metadata": {},
   "outputs": [],
   "source": []
  },
  {
   "cell_type": "markdown",
   "metadata": {},
   "source": [
    "useless ---"
   ]
  },
  {
   "cell_type": "markdown",
   "metadata": {},
   "source": [
    "## XGB"
   ]
  },
  {
   "cell_type": "code",
   "execution_count": 15,
   "metadata": {},
   "outputs": [],
   "source": [
    "from xgboost import XGBRegressor"
   ]
  },
  {
   "cell_type": "code",
   "execution_count": 16,
   "metadata": {},
   "outputs": [],
   "source": [
    "#import xgboost model\n",
    "xgb_model = XGBRegressor()"
   ]
  },
  {
   "cell_type": "code",
   "execution_count": 18,
   "metadata": {},
   "outputs": [],
   "source": [
    "#fit model and predict\n",
    "xgb_model.fit(X_train,y_train)\n",
    "xgb_pred = xgb_model.predict(X_test)"
   ]
  },
  {
   "cell_type": "code",
   "execution_count": 23,
   "metadata": {},
   "outputs": [
    {
     "name": "stdout",
     "output_type": "stream",
     "text": [
      "1.5900560913231574\n"
     ]
    }
   ],
   "source": [
    "#calculate rmse\n",
    "from sklearn.metrics import mean_squared_error as MSE\n",
    "\n",
    "rmse = np.sqrt(MSE(y_test, xgb_pred))\n",
    "print(rmse)"
   ]
  },
  {
   "cell_type": "code",
   "execution_count": 25,
   "metadata": {},
   "outputs": [
    {
     "data": {
      "text/plain": [
       "0.8195498438829059"
      ]
     },
     "execution_count": 25,
     "metadata": {},
     "output_type": "execute_result"
    }
   ],
   "source": [
    "#r2 score calculatioin\n",
    "r2_score(y_test, xgb_pred)"
   ]
  },
  {
   "cell_type": "code",
   "execution_count": null,
   "metadata": {},
   "outputs": [],
   "source": []
  },
  {
   "cell_type": "code",
   "execution_count": null,
   "metadata": {},
   "outputs": [],
   "source": []
  },
  {
   "cell_type": "code",
   "execution_count": null,
   "metadata": {},
   "outputs": [],
   "source": []
  },
  {
   "cell_type": "code",
   "execution_count": null,
   "metadata": {},
   "outputs": [],
   "source": []
  },
  {
   "cell_type": "code",
   "execution_count": null,
   "metadata": {},
   "outputs": [],
   "source": []
  },
  {
   "cell_type": "code",
   "execution_count": null,
   "metadata": {},
   "outputs": [],
   "source": []
  },
  {
   "cell_type": "code",
   "execution_count": null,
   "metadata": {},
   "outputs": [],
   "source": []
  },
  {
   "cell_type": "code",
   "execution_count": null,
   "metadata": {},
   "outputs": [],
   "source": []
  },
  {
   "cell_type": "markdown",
   "metadata": {},
   "source": [
    "<h4> useless for now </h4>"
   ]
  },
  {
   "cell_type": "markdown",
   "metadata": {},
   "source": [
    "<h1> MLR </h1>"
   ]
  },
  {
   "cell_type": "code",
   "execution_count": 76,
   "metadata": {},
   "outputs": [],
   "source": [
    "all_var = ['shop_L180D_order','masked_item_impression','masked_other_tab_click','shop_follower_number','masked_order']\n",
    "all_data = data[all_var]"
   ]
  },
  {
   "cell_type": "code",
   "execution_count": 77,
   "metadata": {},
   "outputs": [
    {
     "name": "stderr",
     "output_type": "stream",
     "text": [
      "/Users/miya/anaconda3/lib/python3.7/site-packages/ipykernel_launcher.py:2: SettingWithCopyWarning: \n",
      "A value is trying to be set on a copy of a slice from a DataFrame.\n",
      "Try using .loc[row_indexer,col_indexer] = value instead\n",
      "\n",
      "See the caveats in the documentation: http://pandas.pydata.org/pandas-docs/stable/indexing.html#indexing-view-versus-copy\n",
      "  \n",
      "/Users/miya/anaconda3/lib/python3.7/site-packages/pandas/core/frame.py:3391: SettingWithCopyWarning: \n",
      "A value is trying to be set on a copy of a slice from a DataFrame.\n",
      "Try using .loc[row_indexer,col_indexer] = value instead\n",
      "\n",
      "See the caveats in the documentation: http://pandas.pydata.org/pandas-docs/stable/indexing.html#indexing-view-versus-copy\n",
      "  self[k1] = value[k2]\n"
     ]
    }
   ],
   "source": [
    "#log transform the target:\n",
    "all_data['masked_order'] = np.log1p(all_data['masked_order'])\n",
    "\n",
    "#log transform skewed numeric features:\n",
    "numeric_feats = all_data.dtypes[all_data.dtypes != \"object\"].index\n",
    "\n",
    "skewed_feats = all_data[numeric_feats].apply(lambda x: skew(x.dropna())) #compute skewness\n",
    "skewed_feats = skewed_feats[skewed_feats > 0.75]\n",
    "skewed_feats = skewed_feats.index\n",
    "\n",
    "all_data[skewed_feats] = np.log1p(all_data[skewed_feats])"
   ]
  },
  {
   "cell_type": "code",
   "execution_count": 78,
   "metadata": {},
   "outputs": [
    {
     "name": "stdout",
     "output_type": "stream",
     "text": [
      "模型的偏回归系数分别为： Intercept                -3.971648\n",
      "shop_L180D_order          0.444399\n",
      "masked_item_impression    0.057889\n",
      "masked_other_tab_click    0.226693\n",
      "shop_follower_number     -0.159477\n",
      "dtype: float64\n"
     ]
    }
   ],
   "source": [
    "#MLR\n",
    "from sklearn import model_selection\n",
    "import pandas as pd\n",
    "import numpy as np\n",
    "import statsmodels.api as sm\n",
    "\n",
    "# features = ['shop_L180D_order','masked_item_impression','masked_other_tab_click','shop_follower_number']\n",
    "\n",
    "model=sm.formula.ols('masked_order~shop_L180D_order+masked_item_impression+masked_other_tab_click+shop_follower_number',data=all_data).fit()\n",
    "print('模型的偏回归系数分别为：',model.params)"
   ]
  },
  {
   "cell_type": "code",
   "execution_count": 79,
   "metadata": {},
   "outputs": [
    {
     "data": {
      "text/html": [
       "<div>\n",
       "<style scoped>\n",
       "    .dataframe tbody tr th:only-of-type {\n",
       "        vertical-align: middle;\n",
       "    }\n",
       "\n",
       "    .dataframe tbody tr th {\n",
       "        vertical-align: top;\n",
       "    }\n",
       "\n",
       "    .dataframe thead th {\n",
       "        text-align: right;\n",
       "    }\n",
       "</style>\n",
       "<table border=\"1\" class=\"dataframe\">\n",
       "  <thead>\n",
       "    <tr style=\"text-align: right;\">\n",
       "      <th></th>\n",
       "      <th>Prediction</th>\n",
       "      <th>Actual</th>\n",
       "    </tr>\n",
       "    <tr>\n",
       "      <th>shop_index</th>\n",
       "      <th></th>\n",
       "      <th></th>\n",
       "    </tr>\n",
       "  </thead>\n",
       "  <tbody>\n",
       "    <tr>\n",
       "      <th>119700</th>\n",
       "      <td>2.453774</td>\n",
       "      <td>NaN</td>\n",
       "    </tr>\n",
       "    <tr>\n",
       "      <th>215775</th>\n",
       "      <td>2.571251</td>\n",
       "      <td>100175.0</td>\n",
       "    </tr>\n",
       "    <tr>\n",
       "      <th>406305</th>\n",
       "      <td>1.875591</td>\n",
       "      <td>NaN</td>\n",
       "    </tr>\n",
       "    <tr>\n",
       "      <th>505260</th>\n",
       "      <td>0.986274</td>\n",
       "      <td>NaN</td>\n",
       "    </tr>\n",
       "    <tr>\n",
       "      <th>1004355</th>\n",
       "      <td>1.890933</td>\n",
       "      <td>NaN</td>\n",
       "    </tr>\n",
       "    <tr>\n",
       "      <th>1687635</th>\n",
       "      <td>2.633525</td>\n",
       "      <td>17892.0</td>\n",
       "    </tr>\n",
       "    <tr>\n",
       "      <th>1881135</th>\n",
       "      <td>1.295655</td>\n",
       "      <td>28.0</td>\n",
       "    </tr>\n",
       "    <tr>\n",
       "      <th>2515815</th>\n",
       "      <td>2.612621</td>\n",
       "      <td>NaN</td>\n",
       "    </tr>\n",
       "    <tr>\n",
       "      <th>2678715</th>\n",
       "      <td>1.671623</td>\n",
       "      <td>1028.0</td>\n",
       "    </tr>\n",
       "    <tr>\n",
       "      <th>2955555</th>\n",
       "      <td>1.584408</td>\n",
       "      <td>431.0</td>\n",
       "    </tr>\n",
       "    <tr>\n",
       "      <th>3287835</th>\n",
       "      <td>1.587242</td>\n",
       "      <td>NaN</td>\n",
       "    </tr>\n",
       "    <tr>\n",
       "      <th>3322485</th>\n",
       "      <td>1.942195</td>\n",
       "      <td>NaN</td>\n",
       "    </tr>\n",
       "    <tr>\n",
       "      <th>3327660</th>\n",
       "      <td>1.041315</td>\n",
       "      <td>NaN</td>\n",
       "    </tr>\n",
       "    <tr>\n",
       "      <th>3649095</th>\n",
       "      <td>0.495946</td>\n",
       "      <td>NaN</td>\n",
       "    </tr>\n",
       "    <tr>\n",
       "      <th>4039335</th>\n",
       "      <td>0.852944</td>\n",
       "      <td>4.0</td>\n",
       "    </tr>\n",
       "    <tr>\n",
       "      <th>4043025</th>\n",
       "      <td>1.721141</td>\n",
       "      <td>NaN</td>\n",
       "    </tr>\n",
       "    <tr>\n",
       "      <th>4299750</th>\n",
       "      <td>0.446376</td>\n",
       "      <td>NaN</td>\n",
       "    </tr>\n",
       "    <tr>\n",
       "      <th>4338765</th>\n",
       "      <td>0.599652</td>\n",
       "      <td>NaN</td>\n",
       "    </tr>\n",
       "    <tr>\n",
       "      <th>4690350</th>\n",
       "      <td>1.596101</td>\n",
       "      <td>NaN</td>\n",
       "    </tr>\n",
       "    <tr>\n",
       "      <th>4910985</th>\n",
       "      <td>1.728650</td>\n",
       "      <td>1161.0</td>\n",
       "    </tr>\n",
       "    <tr>\n",
       "      <th>4936005</th>\n",
       "      <td>0.706155</td>\n",
       "      <td>NaN</td>\n",
       "    </tr>\n",
       "    <tr>\n",
       "      <th>5342625</th>\n",
       "      <td>1.575359</td>\n",
       "      <td>NaN</td>\n",
       "    </tr>\n",
       "    <tr>\n",
       "      <th>5548590</th>\n",
       "      <td>0.754838</td>\n",
       "      <td>NaN</td>\n",
       "    </tr>\n",
       "    <tr>\n",
       "      <th>5598270</th>\n",
       "      <td>2.091803</td>\n",
       "      <td>NaN</td>\n",
       "    </tr>\n",
       "    <tr>\n",
       "      <th>5801670</th>\n",
       "      <td>1.786932</td>\n",
       "      <td>NaN</td>\n",
       "    </tr>\n",
       "    <tr>\n",
       "      <th>6143175</th>\n",
       "      <td>1.026091</td>\n",
       "      <td>34.0</td>\n",
       "    </tr>\n",
       "    <tr>\n",
       "      <th>6207975</th>\n",
       "      <td>1.511257</td>\n",
       "      <td>NaN</td>\n",
       "    </tr>\n",
       "    <tr>\n",
       "      <th>6262020</th>\n",
       "      <td>1.691444</td>\n",
       "      <td>NaN</td>\n",
       "    </tr>\n",
       "    <tr>\n",
       "      <th>6583995</th>\n",
       "      <td>2.116010</td>\n",
       "      <td>3158.0</td>\n",
       "    </tr>\n",
       "    <tr>\n",
       "      <th>6808680</th>\n",
       "      <td>1.821382</td>\n",
       "      <td>NaN</td>\n",
       "    </tr>\n",
       "    <tr>\n",
       "      <th>...</th>\n",
       "      <td>...</td>\n",
       "      <td>...</td>\n",
       "    </tr>\n",
       "    <tr>\n",
       "      <th>1478540385</th>\n",
       "      <td>0.729711</td>\n",
       "      <td>NaN</td>\n",
       "    </tr>\n",
       "    <tr>\n",
       "      <th>1478608695</th>\n",
       "      <td>0.702114</td>\n",
       "      <td>NaN</td>\n",
       "    </tr>\n",
       "    <tr>\n",
       "      <th>1478608830</th>\n",
       "      <td>0.582198</td>\n",
       "      <td>NaN</td>\n",
       "    </tr>\n",
       "    <tr>\n",
       "      <th>1479116340</th>\n",
       "      <td>0.664146</td>\n",
       "      <td>NaN</td>\n",
       "    </tr>\n",
       "    <tr>\n",
       "      <th>1479740220</th>\n",
       "      <td>0.496744</td>\n",
       "      <td>NaN</td>\n",
       "    </tr>\n",
       "    <tr>\n",
       "      <th>1480060935</th>\n",
       "      <td>0.619533</td>\n",
       "      <td>NaN</td>\n",
       "    </tr>\n",
       "    <tr>\n",
       "      <th>1480067280</th>\n",
       "      <td>0.603440</td>\n",
       "      <td>NaN</td>\n",
       "    </tr>\n",
       "    <tr>\n",
       "      <th>1480285800</th>\n",
       "      <td>0.740130</td>\n",
       "      <td>NaN</td>\n",
       "    </tr>\n",
       "    <tr>\n",
       "      <th>1480778415</th>\n",
       "      <td>-0.408556</td>\n",
       "      <td>NaN</td>\n",
       "    </tr>\n",
       "    <tr>\n",
       "      <th>1480889025</th>\n",
       "      <td>0.882970</td>\n",
       "      <td>0.0</td>\n",
       "    </tr>\n",
       "    <tr>\n",
       "      <th>1480957830</th>\n",
       "      <td>0.574809</td>\n",
       "      <td>NaN</td>\n",
       "    </tr>\n",
       "    <tr>\n",
       "      <th>1480995585</th>\n",
       "      <td>0.680048</td>\n",
       "      <td>NaN</td>\n",
       "    </tr>\n",
       "    <tr>\n",
       "      <th>1481006070</th>\n",
       "      <td>0.687400</td>\n",
       "      <td>NaN</td>\n",
       "    </tr>\n",
       "    <tr>\n",
       "      <th>1481097780</th>\n",
       "      <td>0.323290</td>\n",
       "      <td>NaN</td>\n",
       "    </tr>\n",
       "    <tr>\n",
       "      <th>1482145065</th>\n",
       "      <td>0.417144</td>\n",
       "      <td>NaN</td>\n",
       "    </tr>\n",
       "    <tr>\n",
       "      <th>1482496020</th>\n",
       "      <td>1.289350</td>\n",
       "      <td>NaN</td>\n",
       "    </tr>\n",
       "    <tr>\n",
       "      <th>1482931665</th>\n",
       "      <td>0.532034</td>\n",
       "      <td>NaN</td>\n",
       "    </tr>\n",
       "    <tr>\n",
       "      <th>1482970500</th>\n",
       "      <td>0.589301</td>\n",
       "      <td>NaN</td>\n",
       "    </tr>\n",
       "    <tr>\n",
       "      <th>1482987015</th>\n",
       "      <td>0.914996</td>\n",
       "      <td>NaN</td>\n",
       "    </tr>\n",
       "    <tr>\n",
       "      <th>1483289100</th>\n",
       "      <td>-0.408556</td>\n",
       "      <td>0.0</td>\n",
       "    </tr>\n",
       "    <tr>\n",
       "      <th>1483801380</th>\n",
       "      <td>0.621327</td>\n",
       "      <td>NaN</td>\n",
       "    </tr>\n",
       "    <tr>\n",
       "      <th>1483806645</th>\n",
       "      <td>0.708952</td>\n",
       "      <td>NaN</td>\n",
       "    </tr>\n",
       "    <tr>\n",
       "      <th>1483810020</th>\n",
       "      <td>0.603904</td>\n",
       "      <td>NaN</td>\n",
       "    </tr>\n",
       "    <tr>\n",
       "      <th>1484217045</th>\n",
       "      <td>0.537253</td>\n",
       "      <td>NaN</td>\n",
       "    </tr>\n",
       "    <tr>\n",
       "      <th>1484237745</th>\n",
       "      <td>0.264762</td>\n",
       "      <td>NaN</td>\n",
       "    </tr>\n",
       "    <tr>\n",
       "      <th>1484964585</th>\n",
       "      <td>0.577487</td>\n",
       "      <td>NaN</td>\n",
       "    </tr>\n",
       "    <tr>\n",
       "      <th>1485915030</th>\n",
       "      <td>-0.273423</td>\n",
       "      <td>NaN</td>\n",
       "    </tr>\n",
       "    <tr>\n",
       "      <th>1486048005</th>\n",
       "      <td>0.164023</td>\n",
       "      <td>NaN</td>\n",
       "    </tr>\n",
       "    <tr>\n",
       "      <th>1486558665</th>\n",
       "      <td>0.804216</td>\n",
       "      <td>NaN</td>\n",
       "    </tr>\n",
       "    <tr>\n",
       "      <th>1486803240</th>\n",
       "      <td>1.271813</td>\n",
       "      <td>NaN</td>\n",
       "    </tr>\n",
       "  </tbody>\n",
       "</table>\n",
       "<p>7980 rows × 2 columns</p>\n",
       "</div>"
      ],
      "text/plain": [
       "            Prediction    Actual\n",
       "shop_index                      \n",
       "119700        2.453774       NaN\n",
       "215775        2.571251  100175.0\n",
       "406305        1.875591       NaN\n",
       "505260        0.986274       NaN\n",
       "1004355       1.890933       NaN\n",
       "1687635       2.633525   17892.0\n",
       "1881135       1.295655      28.0\n",
       "2515815       2.612621       NaN\n",
       "2678715       1.671623    1028.0\n",
       "2955555       1.584408     431.0\n",
       "3287835       1.587242       NaN\n",
       "3322485       1.942195       NaN\n",
       "3327660       1.041315       NaN\n",
       "3649095       0.495946       NaN\n",
       "4039335       0.852944       4.0\n",
       "4043025       1.721141       NaN\n",
       "4299750       0.446376       NaN\n",
       "4338765       0.599652       NaN\n",
       "4690350       1.596101       NaN\n",
       "4910985       1.728650    1161.0\n",
       "4936005       0.706155       NaN\n",
       "5342625       1.575359       NaN\n",
       "5548590       0.754838       NaN\n",
       "5598270       2.091803       NaN\n",
       "5801670       1.786932       NaN\n",
       "6143175       1.026091      34.0\n",
       "6207975       1.511257       NaN\n",
       "6262020       1.691444       NaN\n",
       "6583995       2.116010    3158.0\n",
       "6808680       1.821382       NaN\n",
       "...                ...       ...\n",
       "1478540385    0.729711       NaN\n",
       "1478608695    0.702114       NaN\n",
       "1478608830    0.582198       NaN\n",
       "1479116340    0.664146       NaN\n",
       "1479740220    0.496744       NaN\n",
       "1480060935    0.619533       NaN\n",
       "1480067280    0.603440       NaN\n",
       "1480285800    0.740130       NaN\n",
       "1480778415   -0.408556       NaN\n",
       "1480889025    0.882970       0.0\n",
       "1480957830    0.574809       NaN\n",
       "1480995585    0.680048       NaN\n",
       "1481006070    0.687400       NaN\n",
       "1481097780    0.323290       NaN\n",
       "1482145065    0.417144       NaN\n",
       "1482496020    1.289350       NaN\n",
       "1482931665    0.532034       NaN\n",
       "1482970500    0.589301       NaN\n",
       "1482987015    0.914996       NaN\n",
       "1483289100   -0.408556       0.0\n",
       "1483801380    0.621327       NaN\n",
       "1483806645    0.708952       NaN\n",
       "1483810020    0.603904       NaN\n",
       "1484217045    0.537253       NaN\n",
       "1484237745    0.264762       NaN\n",
       "1484964585    0.577487       NaN\n",
       "1485915030   -0.273423       NaN\n",
       "1486048005    0.164023       NaN\n",
       "1486558665    0.804216       NaN\n",
       "1486803240    1.271813       NaN\n",
       "\n",
       "[7980 rows x 2 columns]"
      ]
     },
     "execution_count": 79,
     "metadata": {},
     "output_type": "execute_result"
    }
   ],
   "source": [
    "test_x = all_data.drop('masked_order',axis=1)\n",
    "pred = model.predict(exog = test_x)\n",
    "pd.DataFrame({'Prediction':pred,'Actual':test.masked_order})"
   ]
  },
  {
   "cell_type": "code",
   "execution_count": 80,
   "metadata": {},
   "outputs": [
    {
     "name": "stdout",
     "output_type": "stream",
     "text": [
      "F统计量的值： 2.763401399975348e+17\n",
      "F分布的理论值为： 2.3733248122893413\n"
     ]
    },
    {
     "data": {
      "text/html": [
       "<table class=\"simpletable\">\n",
       "<caption>OLS Regression Results</caption>\n",
       "<tr>\n",
       "  <th>Dep. Variable:</th>      <td>masked_order</td>   <th>  R-squared:         </th> <td>   0.684</td> \n",
       "</tr>\n",
       "<tr>\n",
       "  <th>Model:</th>                   <td>OLS</td>       <th>  Adj. R-squared:    </th> <td>   0.684</td> \n",
       "</tr>\n",
       "<tr>\n",
       "  <th>Method:</th>             <td>Least Squares</td>  <th>  F-statistic:       </th> <td>   4323.</td> \n",
       "</tr>\n",
       "<tr>\n",
       "  <th>Date:</th>             <td>Sun, 31 Oct 2021</td> <th>  Prob (F-statistic):</th>  <td>  0.00</td>  \n",
       "</tr>\n",
       "<tr>\n",
       "  <th>Time:</th>                 <td>12:46:52</td>     <th>  Log-Likelihood:    </th> <td> -6056.9</td> \n",
       "</tr>\n",
       "<tr>\n",
       "  <th>No. Observations:</th>      <td>  7980</td>      <th>  AIC:               </th> <td>1.212e+04</td>\n",
       "</tr>\n",
       "<tr>\n",
       "  <th>Df Residuals:</th>          <td>  7975</td>      <th>  BIC:               </th> <td>1.216e+04</td>\n",
       "</tr>\n",
       "<tr>\n",
       "  <th>Df Model:</th>              <td>     4</td>      <th>                     </th>     <td> </td>    \n",
       "</tr>\n",
       "<tr>\n",
       "  <th>Covariance Type:</th>      <td>nonrobust</td>    <th>                     </th>     <td> </td>    \n",
       "</tr>\n",
       "</table>\n",
       "<table class=\"simpletable\">\n",
       "<tr>\n",
       "             <td></td>               <th>coef</th>     <th>std err</th>      <th>t</th>      <th>P>|t|</th>  <th>[0.025</th>    <th>0.975]</th>  \n",
       "</tr>\n",
       "<tr>\n",
       "  <th>Intercept</th>              <td>   -3.9716</td> <td>    0.082</td> <td>  -48.312</td> <td> 0.000</td> <td>   -4.133</td> <td>   -3.810</td>\n",
       "</tr>\n",
       "<tr>\n",
       "  <th>shop_L180D_order</th>       <td>    0.4444</td> <td>    0.008</td> <td>   56.506</td> <td> 0.000</td> <td>    0.429</td> <td>    0.460</td>\n",
       "</tr>\n",
       "<tr>\n",
       "  <th>masked_item_impression</th> <td>    0.0579</td> <td>    0.001</td> <td>   47.906</td> <td> 0.000</td> <td>    0.056</td> <td>    0.060</td>\n",
       "</tr>\n",
       "<tr>\n",
       "  <th>masked_other_tab_click</th> <td>    0.2267</td> <td>    0.011</td> <td>   21.291</td> <td> 0.000</td> <td>    0.206</td> <td>    0.248</td>\n",
       "</tr>\n",
       "<tr>\n",
       "  <th>shop_follower_number</th>   <td>   -0.1595</td> <td>    0.014</td> <td>  -11.764</td> <td> 0.000</td> <td>   -0.186</td> <td>   -0.133</td>\n",
       "</tr>\n",
       "</table>\n",
       "<table class=\"simpletable\">\n",
       "<tr>\n",
       "  <th>Omnibus:</th>       <td>149.605</td> <th>  Durbin-Watson:     </th> <td>   1.822</td>\n",
       "</tr>\n",
       "<tr>\n",
       "  <th>Prob(Omnibus):</th> <td> 0.000</td>  <th>  Jarque-Bera (JB):  </th> <td> 165.507</td>\n",
       "</tr>\n",
       "<tr>\n",
       "  <th>Skew:</th>          <td> 0.305</td>  <th>  Prob(JB):          </th> <td>1.15e-36</td>\n",
       "</tr>\n",
       "<tr>\n",
       "  <th>Kurtosis:</th>      <td> 3.354</td>  <th>  Cond. No.          </th> <td>    300.</td>\n",
       "</tr>\n",
       "</table><br/><br/>Warnings:<br/>[1] Standard Errors assume that the covariance matrix of the errors is correctly specified."
      ],
      "text/plain": [
       "<class 'statsmodels.iolib.summary.Summary'>\n",
       "\"\"\"\n",
       "                            OLS Regression Results                            \n",
       "==============================================================================\n",
       "Dep. Variable:           masked_order   R-squared:                       0.684\n",
       "Model:                            OLS   Adj. R-squared:                  0.684\n",
       "Method:                 Least Squares   F-statistic:                     4323.\n",
       "Date:                Sun, 31 Oct 2021   Prob (F-statistic):               0.00\n",
       "Time:                        12:46:52   Log-Likelihood:                -6056.9\n",
       "No. Observations:                7980   AIC:                         1.212e+04\n",
       "Df Residuals:                    7975   BIC:                         1.216e+04\n",
       "Df Model:                           4                                         \n",
       "Covariance Type:            nonrobust                                         \n",
       "==========================================================================================\n",
       "                             coef    std err          t      P>|t|      [0.025      0.975]\n",
       "------------------------------------------------------------------------------------------\n",
       "Intercept                 -3.9716      0.082    -48.312      0.000      -4.133      -3.810\n",
       "shop_L180D_order           0.4444      0.008     56.506      0.000       0.429       0.460\n",
       "masked_item_impression     0.0579      0.001     47.906      0.000       0.056       0.060\n",
       "masked_other_tab_click     0.2267      0.011     21.291      0.000       0.206       0.248\n",
       "shop_follower_number      -0.1595      0.014    -11.764      0.000      -0.186      -0.133\n",
       "==============================================================================\n",
       "Omnibus:                      149.605   Durbin-Watson:                   1.822\n",
       "Prob(Omnibus):                  0.000   Jarque-Bera (JB):              165.507\n",
       "Skew:                           0.305   Prob(JB):                     1.15e-36\n",
       "Kurtosis:                       3.354   Cond. No.                         300.\n",
       "==============================================================================\n",
       "\n",
       "Warnings:\n",
       "[1] Standard Errors assume that the covariance matrix of the errors is correctly specified.\n",
       "\"\"\""
      ]
     },
     "execution_count": 80,
     "metadata": {},
     "output_type": "execute_result"
    }
   ],
   "source": [
    "#模型的F检验\n",
    "import numpy as np\n",
    "\n",
    "#计算建模数据中的因变量的均值\n",
    "ybar=train.masked_order.mean()\n",
    "\n",
    "#统计变量个数和观测个数\n",
    "p=model.df_model\n",
    "n=train.shape[0]\n",
    "\n",
    "#计算回归离差平方和\n",
    "RSS=np.sum((model.fittedvalues-ybar)**2)\n",
    "\n",
    "#计算误差平方和\n",
    "ESS=np.sum(model.resid**2)\n",
    "\n",
    "#计算F统计量的值\n",
    "F=(RSS/p)/(ESS/(n-p-1))\n",
    "\n",
    "print('F统计量的值：',F)\n",
    "#对比结果\n",
    "\n",
    "from scipy.stats import f\n",
    "\n",
    "#计算F分布的理论值\n",
    "F_Theory=f.ppf(q=0.95,dfn=p,dfd=n-p-1)\n",
    "print('F分布的理论值为：',F_Theory)\n",
    "\n",
    "#model summary\n",
    "model.summary()\n"
   ]
  },
  {
   "cell_type": "code",
   "execution_count": null,
   "metadata": {},
   "outputs": [],
   "source": []
  },
  {
   "cell_type": "code",
   "execution_count": null,
   "metadata": {},
   "outputs": [],
   "source": []
  },
  {
   "cell_type": "code",
   "execution_count": null,
   "metadata": {},
   "outputs": [],
   "source": []
  },
  {
   "cell_type": "code",
   "execution_count": null,
   "metadata": {},
   "outputs": [],
   "source": []
  },
  {
   "cell_type": "code",
   "execution_count": 18,
   "metadata": {},
   "outputs": [
    {
     "name": "stdout",
     "output_type": "stream",
     "text": [
      "-4670839.181622916 [ 3.59120785e+02  5.63487847e-04  4.05618817e+03 -3.27481467e+02]\n",
      "1.7663437861816112e+16\n"
     ]
    }
   ],
   "source": [
    "model = model1.fit(X_train,y_train)\n",
    "print(model.intercept_, model.coef_)\n",
    "scores = - cross_val_score(model1, X_train,y_train , cv=5, scoring='neg_mean_squared_error')\n",
    "print(np.mean(scores))"
   ]
  },
  {
   "cell_type": "code",
   "execution_count": 24,
   "metadata": {},
   "outputs": [],
   "source": [
    "from sklearn import model_selection\n",
    "def Stacking(model,train,y,test,n_fold):\n",
    "    folds=model_selection.StratifiedKFold(n_splits=n_fold,random_state=1)\n",
    "    test_pred=np.empty((test.shape[0],1),float)\n",
    "    train_pred=np.empty((0,1),float)\n",
    "    for train_indices,val_indices in folds.split(train,y.values):\n",
    "        x_train,x_val=train.iloc[train_indices],train.iloc[val_indices]\n",
    "        y_train,y_val=y.iloc[train_indices],y.iloc[val_indices]\n",
    "\n",
    "        model.fit(X=x_train,y=y_train)\n",
    "        train_pred=np.append(train_pred,model.predict(x_val))\n",
    "        test_pred=np.append(test_pred,model.predict(test))\n",
    "    return test_pred.reshape(-1,1),train_pred"
   ]
  },
  {
   "cell_type": "code",
   "execution_count": 58,
   "metadata": {},
   "outputs": [
    {
     "ename": "ValueError",
     "evalue": "Supported target types are: ('binary', 'multiclass'). Got 'continuous' instead.",
     "output_type": "error",
     "traceback": [
      "\u001b[0;31m---------------------------------------------------------------------------\u001b[0m",
      "\u001b[0;31mValueError\u001b[0m                                Traceback (most recent call last)",
      "\u001b[0;32m<ipython-input-58-828e6154cdbe>\u001b[0m in \u001b[0;36m<module>\u001b[0;34m\u001b[0m\n\u001b[0;32m----> 1\u001b[0;31m \u001b[0mtest_pred1\u001b[0m \u001b[0;34m,\u001b[0m\u001b[0mtrain_pred1\u001b[0m \u001b[0;34m=\u001b[0m \u001b[0mStacking\u001b[0m\u001b[0;34m(\u001b[0m\u001b[0mmodel\u001b[0m\u001b[0;34m=\u001b[0m\u001b[0mmodel1\u001b[0m\u001b[0;34m,\u001b[0m\u001b[0mn_fold\u001b[0m\u001b[0;34m=\u001b[0m\u001b[0;36m10\u001b[0m\u001b[0;34m,\u001b[0m \u001b[0mtrain\u001b[0m\u001b[0;34m=\u001b[0m\u001b[0mX_train\u001b[0m\u001b[0;34m,\u001b[0m\u001b[0mtest\u001b[0m\u001b[0;34m=\u001b[0m\u001b[0mX_test\u001b[0m\u001b[0;34m,\u001b[0m\u001b[0my\u001b[0m\u001b[0;34m=\u001b[0m\u001b[0my_train\u001b[0m\u001b[0;34m)\u001b[0m\u001b[0;34m\u001b[0m\u001b[0;34m\u001b[0m\u001b[0m\n\u001b[0m\u001b[1;32m      2\u001b[0m \u001b[0;34m\u001b[0m\u001b[0m\n\u001b[1;32m      3\u001b[0m \u001b[0;31m#train_pred1=pd.DataFrame(train_pred1)\u001b[0m\u001b[0;34m\u001b[0m\u001b[0;34m\u001b[0m\u001b[0;34m\u001b[0m\u001b[0m\n\u001b[1;32m      4\u001b[0m \u001b[0;31m#test_pred1=pd.DataFrame(test_pred1)\u001b[0m\u001b[0;34m\u001b[0m\u001b[0;34m\u001b[0m\u001b[0;34m\u001b[0m\u001b[0m\n",
      "\u001b[0;32m<ipython-input-24-f4494e86b685>\u001b[0m in \u001b[0;36mStacking\u001b[0;34m(model, train, y, test, n_fold)\u001b[0m\n\u001b[1;32m      4\u001b[0m     \u001b[0mtest_pred\u001b[0m\u001b[0;34m=\u001b[0m\u001b[0mnp\u001b[0m\u001b[0;34m.\u001b[0m\u001b[0mempty\u001b[0m\u001b[0;34m(\u001b[0m\u001b[0;34m(\u001b[0m\u001b[0mtest\u001b[0m\u001b[0;34m.\u001b[0m\u001b[0mshape\u001b[0m\u001b[0;34m[\u001b[0m\u001b[0;36m0\u001b[0m\u001b[0;34m]\u001b[0m\u001b[0;34m,\u001b[0m\u001b[0;36m1\u001b[0m\u001b[0;34m)\u001b[0m\u001b[0;34m,\u001b[0m\u001b[0mfloat\u001b[0m\u001b[0;34m)\u001b[0m\u001b[0;34m\u001b[0m\u001b[0;34m\u001b[0m\u001b[0m\n\u001b[1;32m      5\u001b[0m     \u001b[0mtrain_pred\u001b[0m\u001b[0;34m=\u001b[0m\u001b[0mnp\u001b[0m\u001b[0;34m.\u001b[0m\u001b[0mempty\u001b[0m\u001b[0;34m(\u001b[0m\u001b[0;34m(\u001b[0m\u001b[0;36m0\u001b[0m\u001b[0;34m,\u001b[0m\u001b[0;36m1\u001b[0m\u001b[0;34m)\u001b[0m\u001b[0;34m,\u001b[0m\u001b[0mfloat\u001b[0m\u001b[0;34m)\u001b[0m\u001b[0;34m\u001b[0m\u001b[0;34m\u001b[0m\u001b[0m\n\u001b[0;32m----> 6\u001b[0;31m     \u001b[0;32mfor\u001b[0m \u001b[0mtrain_indices\u001b[0m\u001b[0;34m,\u001b[0m\u001b[0mval_indices\u001b[0m \u001b[0;32min\u001b[0m \u001b[0mfolds\u001b[0m\u001b[0;34m.\u001b[0m\u001b[0msplit\u001b[0m\u001b[0;34m(\u001b[0m\u001b[0mtrain\u001b[0m\u001b[0;34m,\u001b[0m\u001b[0my\u001b[0m\u001b[0;34m.\u001b[0m\u001b[0mvalues\u001b[0m\u001b[0;34m)\u001b[0m\u001b[0;34m:\u001b[0m\u001b[0;34m\u001b[0m\u001b[0;34m\u001b[0m\u001b[0m\n\u001b[0m\u001b[1;32m      7\u001b[0m         \u001b[0mx_train\u001b[0m\u001b[0;34m,\u001b[0m\u001b[0mx_val\u001b[0m\u001b[0;34m=\u001b[0m\u001b[0mtrain\u001b[0m\u001b[0;34m.\u001b[0m\u001b[0miloc\u001b[0m\u001b[0;34m[\u001b[0m\u001b[0mtrain_indices\u001b[0m\u001b[0;34m]\u001b[0m\u001b[0;34m,\u001b[0m\u001b[0mtrain\u001b[0m\u001b[0;34m.\u001b[0m\u001b[0miloc\u001b[0m\u001b[0;34m[\u001b[0m\u001b[0mval_indices\u001b[0m\u001b[0;34m]\u001b[0m\u001b[0;34m\u001b[0m\u001b[0;34m\u001b[0m\u001b[0m\n\u001b[1;32m      8\u001b[0m         \u001b[0my_train\u001b[0m\u001b[0;34m,\u001b[0m\u001b[0my_val\u001b[0m\u001b[0;34m=\u001b[0m\u001b[0my\u001b[0m\u001b[0;34m.\u001b[0m\u001b[0miloc\u001b[0m\u001b[0;34m[\u001b[0m\u001b[0mtrain_indices\u001b[0m\u001b[0;34m]\u001b[0m\u001b[0;34m,\u001b[0m\u001b[0my\u001b[0m\u001b[0;34m.\u001b[0m\u001b[0miloc\u001b[0m\u001b[0;34m[\u001b[0m\u001b[0mval_indices\u001b[0m\u001b[0;34m]\u001b[0m\u001b[0;34m\u001b[0m\u001b[0;34m\u001b[0m\u001b[0m\n",
      "\u001b[0;32m/Users/miya/anaconda3/lib/python3.7/site-packages/sklearn/model_selection/_split.py\u001b[0m in \u001b[0;36msplit\u001b[0;34m(self, X, y, groups)\u001b[0m\n\u001b[1;32m    333\u001b[0m                 .format(self.n_splits, n_samples))\n\u001b[1;32m    334\u001b[0m \u001b[0;34m\u001b[0m\u001b[0m\n\u001b[0;32m--> 335\u001b[0;31m         \u001b[0;32mfor\u001b[0m \u001b[0mtrain\u001b[0m\u001b[0;34m,\u001b[0m \u001b[0mtest\u001b[0m \u001b[0;32min\u001b[0m \u001b[0msuper\u001b[0m\u001b[0;34m(\u001b[0m\u001b[0;34m)\u001b[0m\u001b[0;34m.\u001b[0m\u001b[0msplit\u001b[0m\u001b[0;34m(\u001b[0m\u001b[0mX\u001b[0m\u001b[0;34m,\u001b[0m \u001b[0my\u001b[0m\u001b[0;34m,\u001b[0m \u001b[0mgroups\u001b[0m\u001b[0;34m)\u001b[0m\u001b[0;34m:\u001b[0m\u001b[0;34m\u001b[0m\u001b[0;34m\u001b[0m\u001b[0m\n\u001b[0m\u001b[1;32m    336\u001b[0m             \u001b[0;32myield\u001b[0m \u001b[0mtrain\u001b[0m\u001b[0;34m,\u001b[0m \u001b[0mtest\u001b[0m\u001b[0;34m\u001b[0m\u001b[0;34m\u001b[0m\u001b[0m\n\u001b[1;32m    337\u001b[0m \u001b[0;34m\u001b[0m\u001b[0m\n",
      "\u001b[0;32m/Users/miya/anaconda3/lib/python3.7/site-packages/sklearn/model_selection/_split.py\u001b[0m in \u001b[0;36msplit\u001b[0;34m(self, X, y, groups)\u001b[0m\n\u001b[1;32m     87\u001b[0m         \u001b[0mX\u001b[0m\u001b[0;34m,\u001b[0m \u001b[0my\u001b[0m\u001b[0;34m,\u001b[0m \u001b[0mgroups\u001b[0m \u001b[0;34m=\u001b[0m \u001b[0mindexable\u001b[0m\u001b[0;34m(\u001b[0m\u001b[0mX\u001b[0m\u001b[0;34m,\u001b[0m \u001b[0my\u001b[0m\u001b[0;34m,\u001b[0m \u001b[0mgroups\u001b[0m\u001b[0;34m)\u001b[0m\u001b[0;34m\u001b[0m\u001b[0;34m\u001b[0m\u001b[0m\n\u001b[1;32m     88\u001b[0m         \u001b[0mindices\u001b[0m \u001b[0;34m=\u001b[0m \u001b[0mnp\u001b[0m\u001b[0;34m.\u001b[0m\u001b[0marange\u001b[0m\u001b[0;34m(\u001b[0m\u001b[0m_num_samples\u001b[0m\u001b[0;34m(\u001b[0m\u001b[0mX\u001b[0m\u001b[0;34m)\u001b[0m\u001b[0;34m)\u001b[0m\u001b[0;34m\u001b[0m\u001b[0;34m\u001b[0m\u001b[0m\n\u001b[0;32m---> 89\u001b[0;31m         \u001b[0;32mfor\u001b[0m \u001b[0mtest_index\u001b[0m \u001b[0;32min\u001b[0m \u001b[0mself\u001b[0m\u001b[0;34m.\u001b[0m\u001b[0m_iter_test_masks\u001b[0m\u001b[0;34m(\u001b[0m\u001b[0mX\u001b[0m\u001b[0;34m,\u001b[0m \u001b[0my\u001b[0m\u001b[0;34m,\u001b[0m \u001b[0mgroups\u001b[0m\u001b[0;34m)\u001b[0m\u001b[0;34m:\u001b[0m\u001b[0;34m\u001b[0m\u001b[0;34m\u001b[0m\u001b[0m\n\u001b[0m\u001b[1;32m     90\u001b[0m             \u001b[0mtrain_index\u001b[0m \u001b[0;34m=\u001b[0m \u001b[0mindices\u001b[0m\u001b[0;34m[\u001b[0m\u001b[0mnp\u001b[0m\u001b[0;34m.\u001b[0m\u001b[0mlogical_not\u001b[0m\u001b[0;34m(\u001b[0m\u001b[0mtest_index\u001b[0m\u001b[0;34m)\u001b[0m\u001b[0;34m]\u001b[0m\u001b[0;34m\u001b[0m\u001b[0;34m\u001b[0m\u001b[0m\n\u001b[1;32m     91\u001b[0m             \u001b[0mtest_index\u001b[0m \u001b[0;34m=\u001b[0m \u001b[0mindices\u001b[0m\u001b[0;34m[\u001b[0m\u001b[0mtest_index\u001b[0m\u001b[0;34m]\u001b[0m\u001b[0;34m\u001b[0m\u001b[0;34m\u001b[0m\u001b[0m\n",
      "\u001b[0;32m/Users/miya/anaconda3/lib/python3.7/site-packages/sklearn/model_selection/_split.py\u001b[0m in \u001b[0;36m_iter_test_masks\u001b[0;34m(self, X, y, groups)\u001b[0m\n\u001b[1;32m    684\u001b[0m \u001b[0;34m\u001b[0m\u001b[0m\n\u001b[1;32m    685\u001b[0m     \u001b[0;32mdef\u001b[0m \u001b[0m_iter_test_masks\u001b[0m\u001b[0;34m(\u001b[0m\u001b[0mself\u001b[0m\u001b[0;34m,\u001b[0m \u001b[0mX\u001b[0m\u001b[0;34m,\u001b[0m \u001b[0my\u001b[0m\u001b[0;34m=\u001b[0m\u001b[0;32mNone\u001b[0m\u001b[0;34m,\u001b[0m \u001b[0mgroups\u001b[0m\u001b[0;34m=\u001b[0m\u001b[0;32mNone\u001b[0m\u001b[0;34m)\u001b[0m\u001b[0;34m:\u001b[0m\u001b[0;34m\u001b[0m\u001b[0;34m\u001b[0m\u001b[0m\n\u001b[0;32m--> 686\u001b[0;31m         \u001b[0mtest_folds\u001b[0m \u001b[0;34m=\u001b[0m \u001b[0mself\u001b[0m\u001b[0;34m.\u001b[0m\u001b[0m_make_test_folds\u001b[0m\u001b[0;34m(\u001b[0m\u001b[0mX\u001b[0m\u001b[0;34m,\u001b[0m \u001b[0my\u001b[0m\u001b[0;34m)\u001b[0m\u001b[0;34m\u001b[0m\u001b[0;34m\u001b[0m\u001b[0m\n\u001b[0m\u001b[1;32m    687\u001b[0m         \u001b[0;32mfor\u001b[0m \u001b[0mi\u001b[0m \u001b[0;32min\u001b[0m \u001b[0mrange\u001b[0m\u001b[0;34m(\u001b[0m\u001b[0mself\u001b[0m\u001b[0;34m.\u001b[0m\u001b[0mn_splits\u001b[0m\u001b[0;34m)\u001b[0m\u001b[0;34m:\u001b[0m\u001b[0;34m\u001b[0m\u001b[0;34m\u001b[0m\u001b[0m\n\u001b[1;32m    688\u001b[0m             \u001b[0;32myield\u001b[0m \u001b[0mtest_folds\u001b[0m \u001b[0;34m==\u001b[0m \u001b[0mi\u001b[0m\u001b[0;34m\u001b[0m\u001b[0;34m\u001b[0m\u001b[0m\n",
      "\u001b[0;32m/Users/miya/anaconda3/lib/python3.7/site-packages/sklearn/model_selection/_split.py\u001b[0m in \u001b[0;36m_make_test_folds\u001b[0;34m(self, X, y)\u001b[0m\n\u001b[1;32m    639\u001b[0m             raise ValueError(\n\u001b[1;32m    640\u001b[0m                 'Supported target types are: {}. Got {!r} instead.'.format(\n\u001b[0;32m--> 641\u001b[0;31m                     allowed_target_types, type_of_target_y))\n\u001b[0m\u001b[1;32m    642\u001b[0m \u001b[0;34m\u001b[0m\u001b[0m\n\u001b[1;32m    643\u001b[0m         \u001b[0my\u001b[0m \u001b[0;34m=\u001b[0m \u001b[0mcolumn_or_1d\u001b[0m\u001b[0;34m(\u001b[0m\u001b[0my\u001b[0m\u001b[0;34m)\u001b[0m\u001b[0;34m\u001b[0m\u001b[0;34m\u001b[0m\u001b[0m\n",
      "\u001b[0;31mValueError\u001b[0m: Supported target types are: ('binary', 'multiclass'). Got 'continuous' instead."
     ]
    }
   ],
   "source": [
    "test_pred1 ,train_pred1 = Stacking(model=model1,n_fold=10, train=X_train,test=X_test,y=y_train)\n",
    "\n",
    "#train_pred1=pd.DataFrame(train_pred1)\n",
    "#test_pred1=pd.DataFrame(test_pred1)"
   ]
  },
  {
   "cell_type": "code",
   "execution_count": 29,
   "metadata": {
    "scrolled": true
   },
   "outputs": [
    {
     "ename": "ValueError",
     "evalue": "Found input variables with inconsistent numbers of samples: [28974, 2634]",
     "output_type": "error",
     "traceback": [
      "\u001b[0;31m---------------------------------------------------------------------------\u001b[0m",
      "\u001b[0;31mValueError\u001b[0m                                Traceback (most recent call last)",
      "\u001b[0;32m<ipython-input-29-5bfb3dea2b4d>\u001b[0m in \u001b[0;36m<module>\u001b[0;34m\u001b[0m\n\u001b[1;32m      1\u001b[0m \u001b[0;32mfrom\u001b[0m \u001b[0msklearn\u001b[0m \u001b[0;32mimport\u001b[0m \u001b[0mmetrics\u001b[0m\u001b[0;34m\u001b[0m\u001b[0;34m\u001b[0m\u001b[0m\n\u001b[0;32m----> 2\u001b[0;31m \u001b[0mprint\u001b[0m\u001b[0;34m(\u001b[0m\u001b[0;34m\"MSE for :\"\u001b[0m\u001b[0;34m,\u001b[0m\u001b[0mmetrics\u001b[0m\u001b[0;34m.\u001b[0m\u001b[0mmean_squared_log_error\u001b[0m\u001b[0;34m(\u001b[0m\u001b[0mtest_pred1\u001b[0m\u001b[0;34m,\u001b[0m \u001b[0my_test\u001b[0m\u001b[0;34m)\u001b[0m\u001b[0;34m)\u001b[0m\u001b[0;34m\u001b[0m\u001b[0;34m\u001b[0m\u001b[0m\n\u001b[0m",
      "\u001b[0;32m/Users/miya/anaconda3/lib/python3.7/site-packages/sklearn/metrics/regression.py\u001b[0m in \u001b[0;36mmean_squared_log_error\u001b[0;34m(y_true, y_pred, sample_weight, multioutput)\u001b[0m\n\u001b[1;32m    310\u001b[0m     \"\"\"\n\u001b[1;32m    311\u001b[0m     y_type, y_true, y_pred, multioutput = _check_reg_targets(\n\u001b[0;32m--> 312\u001b[0;31m         y_true, y_pred, multioutput)\n\u001b[0m\u001b[1;32m    313\u001b[0m     \u001b[0mcheck_consistent_length\u001b[0m\u001b[0;34m(\u001b[0m\u001b[0my_true\u001b[0m\u001b[0;34m,\u001b[0m \u001b[0my_pred\u001b[0m\u001b[0;34m,\u001b[0m \u001b[0msample_weight\u001b[0m\u001b[0;34m)\u001b[0m\u001b[0;34m\u001b[0m\u001b[0;34m\u001b[0m\u001b[0m\n\u001b[1;32m    314\u001b[0m \u001b[0;34m\u001b[0m\u001b[0m\n",
      "\u001b[0;32m/Users/miya/anaconda3/lib/python3.7/site-packages/sklearn/metrics/regression.py\u001b[0m in \u001b[0;36m_check_reg_targets\u001b[0;34m(y_true, y_pred, multioutput)\u001b[0m\n\u001b[1;32m     75\u001b[0m \u001b[0;34m\u001b[0m\u001b[0m\n\u001b[1;32m     76\u001b[0m     \"\"\"\n\u001b[0;32m---> 77\u001b[0;31m     \u001b[0mcheck_consistent_length\u001b[0m\u001b[0;34m(\u001b[0m\u001b[0my_true\u001b[0m\u001b[0;34m,\u001b[0m \u001b[0my_pred\u001b[0m\u001b[0;34m)\u001b[0m\u001b[0;34m\u001b[0m\u001b[0;34m\u001b[0m\u001b[0m\n\u001b[0m\u001b[1;32m     78\u001b[0m     \u001b[0my_true\u001b[0m \u001b[0;34m=\u001b[0m \u001b[0mcheck_array\u001b[0m\u001b[0;34m(\u001b[0m\u001b[0my_true\u001b[0m\u001b[0;34m,\u001b[0m \u001b[0mensure_2d\u001b[0m\u001b[0;34m=\u001b[0m\u001b[0;32mFalse\u001b[0m\u001b[0;34m)\u001b[0m\u001b[0;34m\u001b[0m\u001b[0;34m\u001b[0m\u001b[0m\n\u001b[1;32m     79\u001b[0m     \u001b[0my_pred\u001b[0m \u001b[0;34m=\u001b[0m \u001b[0mcheck_array\u001b[0m\u001b[0;34m(\u001b[0m\u001b[0my_pred\u001b[0m\u001b[0;34m,\u001b[0m \u001b[0mensure_2d\u001b[0m\u001b[0;34m=\u001b[0m\u001b[0;32mFalse\u001b[0m\u001b[0;34m)\u001b[0m\u001b[0;34m\u001b[0m\u001b[0;34m\u001b[0m\u001b[0m\n",
      "\u001b[0;32m/Users/miya/anaconda3/lib/python3.7/site-packages/sklearn/utils/validation.py\u001b[0m in \u001b[0;36mcheck_consistent_length\u001b[0;34m(*arrays)\u001b[0m\n\u001b[1;32m    203\u001b[0m     \u001b[0;32mif\u001b[0m \u001b[0mlen\u001b[0m\u001b[0;34m(\u001b[0m\u001b[0muniques\u001b[0m\u001b[0;34m)\u001b[0m \u001b[0;34m>\u001b[0m \u001b[0;36m1\u001b[0m\u001b[0;34m:\u001b[0m\u001b[0;34m\u001b[0m\u001b[0;34m\u001b[0m\u001b[0m\n\u001b[1;32m    204\u001b[0m         raise ValueError(\"Found input variables with inconsistent numbers of\"\n\u001b[0;32m--> 205\u001b[0;31m                          \" samples: %r\" % [int(l) for l in lengths])\n\u001b[0m\u001b[1;32m    206\u001b[0m \u001b[0;34m\u001b[0m\u001b[0m\n\u001b[1;32m    207\u001b[0m \u001b[0;34m\u001b[0m\u001b[0m\n",
      "\u001b[0;31mValueError\u001b[0m: Found input variables with inconsistent numbers of samples: [28974, 2634]"
     ]
    }
   ],
   "source": [
    "from sklearn import metrics\n",
    "print(\"MSE for :\",metrics.mean_squared_log_error(test_pred1, y_test))"
   ]
  },
  {
   "cell_type": "code",
   "execution_count": null,
   "metadata": {},
   "outputs": [],
   "source": []
  },
  {
   "cell_type": "code",
   "execution_count": null,
   "metadata": {},
   "outputs": [],
   "source": []
  },
  {
   "cell_type": "code",
   "execution_count": null,
   "metadata": {},
   "outputs": [],
   "source": []
  },
  {
   "cell_type": "code",
   "execution_count": null,
   "metadata": {},
   "outputs": [],
   "source": []
  }
 ],
 "metadata": {
  "kernelspec": {
   "display_name": "Python 3 (ipykernel)",
   "language": "python",
   "name": "python3"
  },
  "language_info": {
   "codemirror_mode": {
    "name": "ipython",
    "version": 3
   },
   "file_extension": ".py",
   "mimetype": "text/x-python",
   "name": "python",
   "nbconvert_exporter": "python",
   "pygments_lexer": "ipython3",
   "version": "3.7.3"
  }
 },
 "nbformat": 4,
 "nbformat_minor": 2
}
